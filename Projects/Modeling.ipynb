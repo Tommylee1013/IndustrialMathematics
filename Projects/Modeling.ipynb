{
 "cells": [
  {
   "cell_type": "code",
   "execution_count": 1,
   "id": "initial_id",
   "metadata": {
    "collapsed": true,
    "ExecuteTime": {
     "end_time": "2023-10-11T06:53:26.689428Z",
     "start_time": "2023-10-11T06:53:25.980544Z"
    }
   },
   "outputs": [],
   "source": [
    "import pandas as pd\n",
    "import numpy as np\n",
    "import matplotlib.pyplot as plt"
   ]
  },
  {
   "cell_type": "code",
   "execution_count": 4,
   "outputs": [],
   "source": [
    "renewal = pd.read_csv('../Data/renewal_new.csv', index_col = 0)\n",
    "livelihood = pd.read_csv('../Data/basic_livelihood.csv', index_col = 0)\n",
    "pop = pd.read_csv('../Data/Seoul_population.csv', index_col = 0)"
   ],
   "metadata": {
    "collapsed": false,
    "ExecuteTime": {
     "end_time": "2023-10-11T06:55:52.805977Z",
     "start_time": "2023-10-11T06:55:52.765871Z"
    }
   },
   "id": "b748e86a4868b3dd"
  },
  {
   "cell_type": "code",
   "execution_count": 5,
   "outputs": [
    {
     "data": {
      "text/plain": "                     사업번호  자치구  법정동    사업구분   운영구분               추진위원회/조합명  \\\n0                                                                            \n강남구개포1동   11680-900000942  강남구  개포동     재건축  추진위원회         개포우성6차아파트 재건축사업   \n강남구개포2동   11680-900000942  강남구  개포동     재건축  추진위원회         개포우성6차아파트 재건축사업   \n강남구개포3동   11680-900000942  강남구  개포동     재건축  추진위원회         개포우성6차아파트 재건축사업   \n강남구개포4동   11680-900000942  강남구  개포동     재건축  추진위원회         개포우성6차아파트 재건축사업   \n강남구개포1동   11680-900000688  강남구  개포동     재건축     조합  개포주공6,7단지아파트 재건축정비사업조합   \n...                   ...  ...  ...     ...    ...                     ...   \n중랑구중화제2동  11260-900000899  중랑구  중화동  가로주택정비     조합      중화역 2의1구역 가로주택정비사업   \n중랑구중화제1동  11260-900000900  중랑구  중화동  가로주택정비     조합      중화역 2의2구역 가로주택정비사업   \n중랑구중화제2동  11260-900000900  중랑구  중화동  가로주택정비     조합      중화역 2의2구역 가로주택정비사업   \n중랑구중화제1동  11260-900000908  중랑구  중화동  가로주택정비     조합      중화역 2의5구역 가로주택정비사업   \n중랑구중화제2동  11260-900000908  중랑구  중화동  가로주택정비     조합      중화역 2의5구역 가로주택정비사업   \n\n                대표지번         진행단계  상태                정비구역명칭  ... 60미만건설세대수  \\\n0                                                            ...             \n강남구개포1동    개포동 658-1  조합설립추진위원회승인  운영       개포우성6차아파트 재건축사업  ...     120.0   \n강남구개포2동    개포동 658-1  조합설립추진위원회승인  운영       개포우성6차아파트 재건축사업  ...     120.0   \n강남구개포3동    개포동 658-1  조합설립추진위원회승인  운영       개포우성6차아파트 재건축사업  ...     120.0   \n강남구개포4동    개포동 658-1  조합설립추진위원회승인  운영       개포우성6차아파트 재건축사업  ...     120.0   \n강남구개포1동      개포동 185       조합설립인가  운영  개포주공6.7단지아파트 재건축정비구역  ...     654.0   \n...              ...          ...  ..                   ...  ...       ...   \n중랑구중화제2동  중화동 329-38       조합설립인가  운영   중화역2의1구역 가로주택정비사업조합  ...     201.0   \n중랑구중화제1동  중화동 329-30       조합설립인가  운영     중화역2의2구역 가로주택정비사업  ...     206.0   \n중랑구중화제2동  중화동 329-30       조합설립인가  운영     중화역2의2구역 가로주택정비사업  ...     206.0   \n중랑구중화제1동  중화동 317-45       조합설립인가  운영     중화역2의5구역 가로주택정비사업  ...     158.0   \n중랑구중화제2동  중화동 317-45       조합설립인가  운영     중화역2의5구역 가로주택정비사업  ...     158.0   \n\n          60이상85이하건설세대수  85초과건설세대수 건축계획비고  \\\n0                                           \n강남구개포1동           226.0       49.0    NaN   \n강남구개포2동           226.0       49.0    NaN   \n강남구개포3동           226.0       49.0    NaN   \n강남구개포4동           226.0       49.0    NaN   \n강남구개포1동           808.0     1086.0    NaN   \n...                 ...        ...    ...   \n중랑구중화제2동           26.0        NaN    NaN   \n중랑구중화제1동           29.0        NaN    NaN   \n중랑구중화제2동           29.0        NaN    NaN   \n중랑구중화제1동           30.0        NaN    NaN   \n중랑구중화제2동           30.0        NaN    NaN   \n\n                                                        위치도  \\\n0                                                             \n강남구개포1동   https://cleanup.seoul.go.kr/servlet/image?url=...   \n강남구개포2동   https://cleanup.seoul.go.kr/servlet/image?url=...   \n강남구개포3동   https://cleanup.seoul.go.kr/servlet/image?url=...   \n강남구개포4동   https://cleanup.seoul.go.kr/servlet/image?url=...   \n강남구개포1동   https://cleanup.seoul.go.kr/servlet/image?url=...   \n...                                                     ...   \n중랑구중화제2동  https://cleanup.seoul.go.kr/servlet/image?url=...   \n중랑구중화제1동  https://cleanup.seoul.go.kr/servlet/image?url=...   \n중랑구중화제2동  https://cleanup.seoul.go.kr/servlet/image?url=...   \n중랑구중화제1동  https://cleanup.seoul.go.kr/servlet/image?url=...   \n중랑구중화제2동  https://cleanup.seoul.go.kr/servlet/image?url=...   \n\n                                                        조감도  \\\n0                                                             \n강남구개포1동                                                 NaN   \n강남구개포2동                                                 NaN   \n강남구개포3동                                                 NaN   \n강남구개포4동                                                 NaN   \n강남구개포1동   https://cleanup.seoul.go.kr/servlet/image?url=...   \n...                                                     ...   \n중랑구중화제2동  https://cleanup.seoul.go.kr/servlet/image?url=...   \n중랑구중화제1동  https://cleanup.seoul.go.kr/servlet/image?url=...   \n중랑구중화제2동  https://cleanup.seoul.go.kr/servlet/image?url=...   \n중랑구중화제1동  https://cleanup.seoul.go.kr/servlet/image?url=...   \n중랑구중화제2동  https://cleanup.seoul.go.kr/servlet/image?url=...   \n\n                                                        배치도   법정동변경  행정법정  \\\n0                                                                           \n강남구개포1동   https://cleanup.seoul.go.kr/servlet/image?url=...  강남구개포동   NaN   \n강남구개포2동   https://cleanup.seoul.go.kr/servlet/image?url=...  강남구개포동   NaN   \n강남구개포3동   https://cleanup.seoul.go.kr/servlet/image?url=...  강남구개포동   NaN   \n강남구개포4동   https://cleanup.seoul.go.kr/servlet/image?url=...  강남구개포동   NaN   \n강남구개포1동   https://cleanup.seoul.go.kr/servlet/image?url=...  강남구개포동   NaN   \n...                                                     ...     ...   ...   \n중랑구중화제2동  https://cleanup.seoul.go.kr/servlet/image?url=...  중랑구중화동   NaN   \n중랑구중화제1동  https://cleanup.seoul.go.kr/servlet/image?url=...  중랑구중화동   NaN   \n중랑구중화제2동  https://cleanup.seoul.go.kr/servlet/image?url=...  중랑구중화동   NaN   \n중랑구중화제1동  https://cleanup.seoul.go.kr/servlet/image?url=...  중랑구중화동   NaN   \n중랑구중화제2동  https://cleanup.seoul.go.kr/servlet/image?url=...  중랑구중화동   NaN   \n\n               0.1  \n0                   \n강남구개포1동    강남구개포1동  \n강남구개포2동    강남구개포2동  \n강남구개포3동    강남구개포3동  \n강남구개포4동    강남구개포4동  \n강남구개포1동    강남구개포1동  \n...            ...  \n중랑구중화제2동  중랑구중화제2동  \n중랑구중화제1동  중랑구중화제1동  \n중랑구중화제2동  중랑구중화제2동  \n중랑구중화제1동  중랑구중화제1동  \n중랑구중화제2동  중랑구중화제2동  \n\n[2758 rows x 39 columns]",
      "text/html": "<div>\n<style scoped>\n    .dataframe tbody tr th:only-of-type {\n        vertical-align: middle;\n    }\n\n    .dataframe tbody tr th {\n        vertical-align: top;\n    }\n\n    .dataframe thead th {\n        text-align: right;\n    }\n</style>\n<table border=\"1\" class=\"dataframe\">\n  <thead>\n    <tr style=\"text-align: right;\">\n      <th></th>\n      <th>사업번호</th>\n      <th>자치구</th>\n      <th>법정동</th>\n      <th>사업구분</th>\n      <th>운영구분</th>\n      <th>추진위원회/조합명</th>\n      <th>대표지번</th>\n      <th>진행단계</th>\n      <th>상태</th>\n      <th>정비구역명칭</th>\n      <th>...</th>\n      <th>60미만건설세대수</th>\n      <th>60이상85이하건설세대수</th>\n      <th>85초과건설세대수</th>\n      <th>건축계획비고</th>\n      <th>위치도</th>\n      <th>조감도</th>\n      <th>배치도</th>\n      <th>법정동변경</th>\n      <th>행정법정</th>\n      <th>0.1</th>\n    </tr>\n    <tr>\n      <th>0</th>\n      <th></th>\n      <th></th>\n      <th></th>\n      <th></th>\n      <th></th>\n      <th></th>\n      <th></th>\n      <th></th>\n      <th></th>\n      <th></th>\n      <th></th>\n      <th></th>\n      <th></th>\n      <th></th>\n      <th></th>\n      <th></th>\n      <th></th>\n      <th></th>\n      <th></th>\n      <th></th>\n      <th></th>\n    </tr>\n  </thead>\n  <tbody>\n    <tr>\n      <th>강남구개포1동</th>\n      <td>11680-900000942</td>\n      <td>강남구</td>\n      <td>개포동</td>\n      <td>재건축</td>\n      <td>추진위원회</td>\n      <td>개포우성6차아파트 재건축사업</td>\n      <td>개포동 658-1</td>\n      <td>조합설립추진위원회승인</td>\n      <td>운영</td>\n      <td>개포우성6차아파트 재건축사업</td>\n      <td>...</td>\n      <td>120.0</td>\n      <td>226.0</td>\n      <td>49.0</td>\n      <td>NaN</td>\n      <td>https://cleanup.seoul.go.kr/servlet/image?url=...</td>\n      <td>NaN</td>\n      <td>https://cleanup.seoul.go.kr/servlet/image?url=...</td>\n      <td>강남구개포동</td>\n      <td>NaN</td>\n      <td>강남구개포1동</td>\n    </tr>\n    <tr>\n      <th>강남구개포2동</th>\n      <td>11680-900000942</td>\n      <td>강남구</td>\n      <td>개포동</td>\n      <td>재건축</td>\n      <td>추진위원회</td>\n      <td>개포우성6차아파트 재건축사업</td>\n      <td>개포동 658-1</td>\n      <td>조합설립추진위원회승인</td>\n      <td>운영</td>\n      <td>개포우성6차아파트 재건축사업</td>\n      <td>...</td>\n      <td>120.0</td>\n      <td>226.0</td>\n      <td>49.0</td>\n      <td>NaN</td>\n      <td>https://cleanup.seoul.go.kr/servlet/image?url=...</td>\n      <td>NaN</td>\n      <td>https://cleanup.seoul.go.kr/servlet/image?url=...</td>\n      <td>강남구개포동</td>\n      <td>NaN</td>\n      <td>강남구개포2동</td>\n    </tr>\n    <tr>\n      <th>강남구개포3동</th>\n      <td>11680-900000942</td>\n      <td>강남구</td>\n      <td>개포동</td>\n      <td>재건축</td>\n      <td>추진위원회</td>\n      <td>개포우성6차아파트 재건축사업</td>\n      <td>개포동 658-1</td>\n      <td>조합설립추진위원회승인</td>\n      <td>운영</td>\n      <td>개포우성6차아파트 재건축사업</td>\n      <td>...</td>\n      <td>120.0</td>\n      <td>226.0</td>\n      <td>49.0</td>\n      <td>NaN</td>\n      <td>https://cleanup.seoul.go.kr/servlet/image?url=...</td>\n      <td>NaN</td>\n      <td>https://cleanup.seoul.go.kr/servlet/image?url=...</td>\n      <td>강남구개포동</td>\n      <td>NaN</td>\n      <td>강남구개포3동</td>\n    </tr>\n    <tr>\n      <th>강남구개포4동</th>\n      <td>11680-900000942</td>\n      <td>강남구</td>\n      <td>개포동</td>\n      <td>재건축</td>\n      <td>추진위원회</td>\n      <td>개포우성6차아파트 재건축사업</td>\n      <td>개포동 658-1</td>\n      <td>조합설립추진위원회승인</td>\n      <td>운영</td>\n      <td>개포우성6차아파트 재건축사업</td>\n      <td>...</td>\n      <td>120.0</td>\n      <td>226.0</td>\n      <td>49.0</td>\n      <td>NaN</td>\n      <td>https://cleanup.seoul.go.kr/servlet/image?url=...</td>\n      <td>NaN</td>\n      <td>https://cleanup.seoul.go.kr/servlet/image?url=...</td>\n      <td>강남구개포동</td>\n      <td>NaN</td>\n      <td>강남구개포4동</td>\n    </tr>\n    <tr>\n      <th>강남구개포1동</th>\n      <td>11680-900000688</td>\n      <td>강남구</td>\n      <td>개포동</td>\n      <td>재건축</td>\n      <td>조합</td>\n      <td>개포주공6,7단지아파트 재건축정비사업조합</td>\n      <td>개포동 185</td>\n      <td>조합설립인가</td>\n      <td>운영</td>\n      <td>개포주공6.7단지아파트 재건축정비구역</td>\n      <td>...</td>\n      <td>654.0</td>\n      <td>808.0</td>\n      <td>1086.0</td>\n      <td>NaN</td>\n      <td>https://cleanup.seoul.go.kr/servlet/image?url=...</td>\n      <td>https://cleanup.seoul.go.kr/servlet/image?url=...</td>\n      <td>https://cleanup.seoul.go.kr/servlet/image?url=...</td>\n      <td>강남구개포동</td>\n      <td>NaN</td>\n      <td>강남구개포1동</td>\n    </tr>\n    <tr>\n      <th>...</th>\n      <td>...</td>\n      <td>...</td>\n      <td>...</td>\n      <td>...</td>\n      <td>...</td>\n      <td>...</td>\n      <td>...</td>\n      <td>...</td>\n      <td>...</td>\n      <td>...</td>\n      <td>...</td>\n      <td>...</td>\n      <td>...</td>\n      <td>...</td>\n      <td>...</td>\n      <td>...</td>\n      <td>...</td>\n      <td>...</td>\n      <td>...</td>\n      <td>...</td>\n      <td>...</td>\n    </tr>\n    <tr>\n      <th>중랑구중화제2동</th>\n      <td>11260-900000899</td>\n      <td>중랑구</td>\n      <td>중화동</td>\n      <td>가로주택정비</td>\n      <td>조합</td>\n      <td>중화역 2의1구역 가로주택정비사업</td>\n      <td>중화동 329-38</td>\n      <td>조합설립인가</td>\n      <td>운영</td>\n      <td>중화역2의1구역 가로주택정비사업조합</td>\n      <td>...</td>\n      <td>201.0</td>\n      <td>26.0</td>\n      <td>NaN</td>\n      <td>NaN</td>\n      <td>https://cleanup.seoul.go.kr/servlet/image?url=...</td>\n      <td>https://cleanup.seoul.go.kr/servlet/image?url=...</td>\n      <td>https://cleanup.seoul.go.kr/servlet/image?url=...</td>\n      <td>중랑구중화동</td>\n      <td>NaN</td>\n      <td>중랑구중화제2동</td>\n    </tr>\n    <tr>\n      <th>중랑구중화제1동</th>\n      <td>11260-900000900</td>\n      <td>중랑구</td>\n      <td>중화동</td>\n      <td>가로주택정비</td>\n      <td>조합</td>\n      <td>중화역 2의2구역 가로주택정비사업</td>\n      <td>중화동 329-30</td>\n      <td>조합설립인가</td>\n      <td>운영</td>\n      <td>중화역2의2구역 가로주택정비사업</td>\n      <td>...</td>\n      <td>206.0</td>\n      <td>29.0</td>\n      <td>NaN</td>\n      <td>NaN</td>\n      <td>https://cleanup.seoul.go.kr/servlet/image?url=...</td>\n      <td>https://cleanup.seoul.go.kr/servlet/image?url=...</td>\n      <td>https://cleanup.seoul.go.kr/servlet/image?url=...</td>\n      <td>중랑구중화동</td>\n      <td>NaN</td>\n      <td>중랑구중화제1동</td>\n    </tr>\n    <tr>\n      <th>중랑구중화제2동</th>\n      <td>11260-900000900</td>\n      <td>중랑구</td>\n      <td>중화동</td>\n      <td>가로주택정비</td>\n      <td>조합</td>\n      <td>중화역 2의2구역 가로주택정비사업</td>\n      <td>중화동 329-30</td>\n      <td>조합설립인가</td>\n      <td>운영</td>\n      <td>중화역2의2구역 가로주택정비사업</td>\n      <td>...</td>\n      <td>206.0</td>\n      <td>29.0</td>\n      <td>NaN</td>\n      <td>NaN</td>\n      <td>https://cleanup.seoul.go.kr/servlet/image?url=...</td>\n      <td>https://cleanup.seoul.go.kr/servlet/image?url=...</td>\n      <td>https://cleanup.seoul.go.kr/servlet/image?url=...</td>\n      <td>중랑구중화동</td>\n      <td>NaN</td>\n      <td>중랑구중화제2동</td>\n    </tr>\n    <tr>\n      <th>중랑구중화제1동</th>\n      <td>11260-900000908</td>\n      <td>중랑구</td>\n      <td>중화동</td>\n      <td>가로주택정비</td>\n      <td>조합</td>\n      <td>중화역 2의5구역 가로주택정비사업</td>\n      <td>중화동 317-45</td>\n      <td>조합설립인가</td>\n      <td>운영</td>\n      <td>중화역2의5구역 가로주택정비사업</td>\n      <td>...</td>\n      <td>158.0</td>\n      <td>30.0</td>\n      <td>NaN</td>\n      <td>NaN</td>\n      <td>https://cleanup.seoul.go.kr/servlet/image?url=...</td>\n      <td>https://cleanup.seoul.go.kr/servlet/image?url=...</td>\n      <td>https://cleanup.seoul.go.kr/servlet/image?url=...</td>\n      <td>중랑구중화동</td>\n      <td>NaN</td>\n      <td>중랑구중화제1동</td>\n    </tr>\n    <tr>\n      <th>중랑구중화제2동</th>\n      <td>11260-900000908</td>\n      <td>중랑구</td>\n      <td>중화동</td>\n      <td>가로주택정비</td>\n      <td>조합</td>\n      <td>중화역 2의5구역 가로주택정비사업</td>\n      <td>중화동 317-45</td>\n      <td>조합설립인가</td>\n      <td>운영</td>\n      <td>중화역2의5구역 가로주택정비사업</td>\n      <td>...</td>\n      <td>158.0</td>\n      <td>30.0</td>\n      <td>NaN</td>\n      <td>NaN</td>\n      <td>https://cleanup.seoul.go.kr/servlet/image?url=...</td>\n      <td>https://cleanup.seoul.go.kr/servlet/image?url=...</td>\n      <td>https://cleanup.seoul.go.kr/servlet/image?url=...</td>\n      <td>중랑구중화동</td>\n      <td>NaN</td>\n      <td>중랑구중화제2동</td>\n    </tr>\n  </tbody>\n</table>\n<p>2758 rows × 39 columns</p>\n</div>"
     },
     "execution_count": 5,
     "metadata": {},
     "output_type": "execute_result"
    }
   ],
   "source": [
    "renewal"
   ],
   "metadata": {
    "collapsed": false,
    "ExecuteTime": {
     "end_time": "2023-10-11T06:55:55.870182Z",
     "start_time": "2023-10-11T06:55:55.859390Z"
    }
   },
   "id": "17c9759426f89cca"
  },
  {
   "cell_type": "code",
   "execution_count": 94,
   "outputs": [
    {
     "data": {
      "text/plain": "           ancestry  sum_bsc_lklhood  gen_bsc_lklhood  gen_pop con_bsc_anc  \\\nnew_index                                                                    \n종로구소계          4215             5559             3615     4221         419   \n종로구사직동          112              125              105      117           7   \n종로구삼청동           38               45               29       31           5   \n종로구부암동          135              174              117      144          13   \n종로구평창동          107              144               91      112          13   \n...             ...              ...              ...      ...         ...   \n강동구천호2동        1510             2002             1267     1623         210   \n강동구길동          1241             1637             1015     1285         205   \n강동구상일1동         292              396              248      313          40   \n강동구상일2동         423              689              357      551          53   \n강동구기타             9              464                8        8           1   \n\n          pop_bsc  bsc_lvlhood_ratio  \nnew_index                             \n종로구소계         593           0.076668  \n종로구사직동          8           0.027352  \n종로구삼청동         10           0.039929  \n종로구부암동         25           0.042151  \n종로구평창동         29           0.019975  \n...           ...                ...  \n강동구천호2동       338           0.113828  \n강동구길동         329           0.074541  \n강동구상일1동        78           0.029079  \n강동구상일2동       117           0.141857  \n강동구기타           -                NaN  \n\n[476 rows x 7 columns]",
      "text/html": "<div>\n<style scoped>\n    .dataframe tbody tr th:only-of-type {\n        vertical-align: middle;\n    }\n\n    .dataframe tbody tr th {\n        vertical-align: top;\n    }\n\n    .dataframe thead th {\n        text-align: right;\n    }\n</style>\n<table border=\"1\" class=\"dataframe\">\n  <thead>\n    <tr style=\"text-align: right;\">\n      <th></th>\n      <th>ancestry</th>\n      <th>sum_bsc_lklhood</th>\n      <th>gen_bsc_lklhood</th>\n      <th>gen_pop</th>\n      <th>con_bsc_anc</th>\n      <th>pop_bsc</th>\n      <th>bsc_lvlhood_ratio</th>\n    </tr>\n    <tr>\n      <th>new_index</th>\n      <th></th>\n      <th></th>\n      <th></th>\n      <th></th>\n      <th></th>\n      <th></th>\n      <th></th>\n    </tr>\n  </thead>\n  <tbody>\n    <tr>\n      <th>종로구소계</th>\n      <td>4215</td>\n      <td>5559</td>\n      <td>3615</td>\n      <td>4221</td>\n      <td>419</td>\n      <td>593</td>\n      <td>0.076668</td>\n    </tr>\n    <tr>\n      <th>종로구사직동</th>\n      <td>112</td>\n      <td>125</td>\n      <td>105</td>\n      <td>117</td>\n      <td>7</td>\n      <td>8</td>\n      <td>0.027352</td>\n    </tr>\n    <tr>\n      <th>종로구삼청동</th>\n      <td>38</td>\n      <td>45</td>\n      <td>29</td>\n      <td>31</td>\n      <td>5</td>\n      <td>10</td>\n      <td>0.039929</td>\n    </tr>\n    <tr>\n      <th>종로구부암동</th>\n      <td>135</td>\n      <td>174</td>\n      <td>117</td>\n      <td>144</td>\n      <td>13</td>\n      <td>25</td>\n      <td>0.042151</td>\n    </tr>\n    <tr>\n      <th>종로구평창동</th>\n      <td>107</td>\n      <td>144</td>\n      <td>91</td>\n      <td>112</td>\n      <td>13</td>\n      <td>29</td>\n      <td>0.019975</td>\n    </tr>\n    <tr>\n      <th>...</th>\n      <td>...</td>\n      <td>...</td>\n      <td>...</td>\n      <td>...</td>\n      <td>...</td>\n      <td>...</td>\n      <td>...</td>\n    </tr>\n    <tr>\n      <th>강동구천호2동</th>\n      <td>1510</td>\n      <td>2002</td>\n      <td>1267</td>\n      <td>1623</td>\n      <td>210</td>\n      <td>338</td>\n      <td>0.113828</td>\n    </tr>\n    <tr>\n      <th>강동구길동</th>\n      <td>1241</td>\n      <td>1637</td>\n      <td>1015</td>\n      <td>1285</td>\n      <td>205</td>\n      <td>329</td>\n      <td>0.074541</td>\n    </tr>\n    <tr>\n      <th>강동구상일1동</th>\n      <td>292</td>\n      <td>396</td>\n      <td>248</td>\n      <td>313</td>\n      <td>40</td>\n      <td>78</td>\n      <td>0.029079</td>\n    </tr>\n    <tr>\n      <th>강동구상일2동</th>\n      <td>423</td>\n      <td>689</td>\n      <td>357</td>\n      <td>551</td>\n      <td>53</td>\n      <td>117</td>\n      <td>0.141857</td>\n    </tr>\n    <tr>\n      <th>강동구기타</th>\n      <td>9</td>\n      <td>464</td>\n      <td>8</td>\n      <td>8</td>\n      <td>1</td>\n      <td>-</td>\n      <td>NaN</td>\n    </tr>\n  </tbody>\n</table>\n<p>476 rows × 7 columns</p>\n</div>"
     },
     "execution_count": 94,
     "metadata": {},
     "output_type": "execute_result"
    }
   ],
   "source": [
    "livelihood"
   ],
   "metadata": {
    "collapsed": false,
    "ExecuteTime": {
     "end_time": "2023-10-11T07:59:19.591367Z",
     "start_time": "2023-10-11T07:59:19.571667Z"
    }
   },
   "id": "b7f380ecdfbdc341"
  },
  {
   "cell_type": "code",
   "execution_count": 8,
   "outputs": [
    {
     "data": {
      "text/plain": "           ancestry  population   korean  foreigner  density  foreign_rate\nnew_index                                                                 \n소계소계        4469158     9659322  9414093     245229        2      0.025388\n종로구소계         72507      151349   140397      10952        2      0.072363\n종로구사직동         4570        9362     9089        273        2      0.029160\n종로구삼청동         1127        2576     2277        299        2      0.116071\n종로구부암동         4128        9377     9112        265        2      0.028261\n...             ...         ...      ...        ...      ...           ...\n강동구둔촌2동       10329       24169    24058        111        2      0.004593\n강동구길동         21961       45142    44808        334        2      0.007399\n강동구강일동        13109       32996    32811        185        3      0.005607\n강동구상일1동       13618       39407    39283        124        3      0.003147\n강동구상일2동        4857       11976    11923         53        2      0.004426\n\n[452 rows x 6 columns]",
      "text/html": "<div>\n<style scoped>\n    .dataframe tbody tr th:only-of-type {\n        vertical-align: middle;\n    }\n\n    .dataframe tbody tr th {\n        vertical-align: top;\n    }\n\n    .dataframe thead th {\n        text-align: right;\n    }\n</style>\n<table border=\"1\" class=\"dataframe\">\n  <thead>\n    <tr style=\"text-align: right;\">\n      <th></th>\n      <th>ancestry</th>\n      <th>population</th>\n      <th>korean</th>\n      <th>foreigner</th>\n      <th>density</th>\n      <th>foreign_rate</th>\n    </tr>\n    <tr>\n      <th>new_index</th>\n      <th></th>\n      <th></th>\n      <th></th>\n      <th></th>\n      <th></th>\n      <th></th>\n    </tr>\n  </thead>\n  <tbody>\n    <tr>\n      <th>소계소계</th>\n      <td>4469158</td>\n      <td>9659322</td>\n      <td>9414093</td>\n      <td>245229</td>\n      <td>2</td>\n      <td>0.025388</td>\n    </tr>\n    <tr>\n      <th>종로구소계</th>\n      <td>72507</td>\n      <td>151349</td>\n      <td>140397</td>\n      <td>10952</td>\n      <td>2</td>\n      <td>0.072363</td>\n    </tr>\n    <tr>\n      <th>종로구사직동</th>\n      <td>4570</td>\n      <td>9362</td>\n      <td>9089</td>\n      <td>273</td>\n      <td>2</td>\n      <td>0.029160</td>\n    </tr>\n    <tr>\n      <th>종로구삼청동</th>\n      <td>1127</td>\n      <td>2576</td>\n      <td>2277</td>\n      <td>299</td>\n      <td>2</td>\n      <td>0.116071</td>\n    </tr>\n    <tr>\n      <th>종로구부암동</th>\n      <td>4128</td>\n      <td>9377</td>\n      <td>9112</td>\n      <td>265</td>\n      <td>2</td>\n      <td>0.028261</td>\n    </tr>\n    <tr>\n      <th>...</th>\n      <td>...</td>\n      <td>...</td>\n      <td>...</td>\n      <td>...</td>\n      <td>...</td>\n      <td>...</td>\n    </tr>\n    <tr>\n      <th>강동구둔촌2동</th>\n      <td>10329</td>\n      <td>24169</td>\n      <td>24058</td>\n      <td>111</td>\n      <td>2</td>\n      <td>0.004593</td>\n    </tr>\n    <tr>\n      <th>강동구길동</th>\n      <td>21961</td>\n      <td>45142</td>\n      <td>44808</td>\n      <td>334</td>\n      <td>2</td>\n      <td>0.007399</td>\n    </tr>\n    <tr>\n      <th>강동구강일동</th>\n      <td>13109</td>\n      <td>32996</td>\n      <td>32811</td>\n      <td>185</td>\n      <td>3</td>\n      <td>0.005607</td>\n    </tr>\n    <tr>\n      <th>강동구상일1동</th>\n      <td>13618</td>\n      <td>39407</td>\n      <td>39283</td>\n      <td>124</td>\n      <td>3</td>\n      <td>0.003147</td>\n    </tr>\n    <tr>\n      <th>강동구상일2동</th>\n      <td>4857</td>\n      <td>11976</td>\n      <td>11923</td>\n      <td>53</td>\n      <td>2</td>\n      <td>0.004426</td>\n    </tr>\n  </tbody>\n</table>\n<p>452 rows × 6 columns</p>\n</div>"
     },
     "execution_count": 8,
     "metadata": {},
     "output_type": "execute_result"
    }
   ],
   "source": [
    "pop"
   ],
   "metadata": {
    "collapsed": false,
    "ExecuteTime": {
     "end_time": "2023-10-11T06:56:09.396895Z",
     "start_time": "2023-10-11T06:56:09.382666Z"
    }
   },
   "id": "b30453d0912dbac2"
  },
  {
   "cell_type": "code",
   "execution_count": 97,
   "outputs": [
    {
     "name": "stdout",
     "output_type": "stream",
     "text": [
      "['소계소계', '종로구소계', '종로구사직동', '종로구삼청동', '종로구부암동', '종로구평창동', '종로구무악동', '종로구교남동', '종로구가회동', '종로구종로1.2.3.4가동', '종로구종로5.6가동', '종로구이화동', '종로구창신1동', '종로구창신2동', '종로구창신3동', '종로구숭인1동', '종로구숭인2동', '종로구청운효자동', '종로구혜화동', '중구소계', '중구소공동', '중구회현동', '중구명동', '중구필동', '중구장충동', '중구광희동', '중구을지로동', '중구신당5동', '중구황학동', '중구중림동', '중구신당동', '중구다산동', '중구약수동', '중구청구동', '중구동화동', '용산구소계', '용산구후암동', '용산구용산2가동', '용산구남영동', '용산구원효로1동', '용산구원효로2동', '용산구효창동', '용산구용문동', '용산구이촌1동', '용산구이촌2동', '용산구이태원1동', '용산구이태원2동', '용산구서빙고동', '용산구보광동', '용산구청파동', '용산구한강로동', '용산구한남동', '성동구소계', '성동구왕십리2동', '성동구마장동', '성동구사근동', '성동구행당1동', '성동구행당2동', '성동구응봉동', '성동구금호1가동', '성동구금호4가동', '성동구성수1가1동', '성동구성수1가2동', '성동구성수2가1동', '성동구성수2가3동', '성동구송정동', '성동구용답동', '성동구왕십리도선동', '성동구금호2.3가동', '성동구옥수동', '광진구소계', '광진구화양동', '광진구군자동', '광진구중곡1동', '광진구중곡2동', '광진구중곡3동', '광진구중곡4동', '광진구능동', '광진구구의1동', '광진구구의2동', '광진구구의3동', '광진구광장동', '광진구자양1동', '광진구자양2동', '광진구자양3동', '광진구자양4동', '동대문구소계', '동대문구전농1동', '동대문구전농2동', '동대문구답십리1동', '동대문구답십리2동', '동대문구장안1동', '동대문구장안2동', '동대문구회기동', '동대문구휘경1동', '동대문구휘경2동', '동대문구이문1동', '동대문구이문2동', '동대문구청량리동', '동대문구용신동', '동대문구제기동', '중랑구소계', '중랑구면목2동', '중랑구면목4동', '중랑구면목5동', '중랑구면목7동', '중랑구상봉1동', '중랑구상봉2동', '중랑구중화1동', '중랑구중화2동', '중랑구묵1동', '중랑구묵2동', '중랑구망우3동', '중랑구신내1동', '중랑구신내2동', '중랑구면목본동', '중랑구면목3.8동', '중랑구망우본동', '성북구소계', '성북구돈암1동', '성북구돈암2동', '성북구안암동', '성북구보문동', '성북구정릉1동', '성북구정릉2동', '성북구정릉3동', '성북구정릉4동', '성북구길음1동', '성북구길음2동', '성북구월곡1동', '성북구월곡2동', '성북구장위1동', '성북구장위2동', '성북구장위3동', '성북구성북동', '성북구삼선동', '성북구동선동', '성북구종암동', '성북구석관동', '강북구소계', '강북구번1동', '강북구번2동', '강북구번3동', '강북구수유1동', '강북구수유2동', '강북구수유3동', '강북구삼양동', '강북구미아동', '강북구송중동', '강북구송천동', '강북구삼각산동', '강북구우이동', '강북구인수동', '도봉구소계', '도봉구쌍문1동', '도봉구쌍문2동', '도봉구쌍문3동', '도봉구쌍문4동', '도봉구방학1동', '도봉구방학2동', '도봉구방학3동', '도봉구창1동', '도봉구창2동', '도봉구창3동', '도봉구창4동', '도봉구창5동', '도봉구도봉1동', '도봉구도봉2동', '노원구소계', '노원구월계1동', '노원구월계2동', '노원구월계3동', '노원구공릉1동', '노원구공릉2동', '노원구하계1동', '노원구하계2동', '노원구중계본동', '노원구중계1동', '노원구중계4동', '노원구상계1동', '노원구상계2동', '노원구상계5동', '노원구상계8동', '노원구상계9동', '노원구상계10동', '노원구중계2.3동', '노원구상계3.4동', '노원구상계6.7동', '은평구소계', '은평구녹번동', '은평구불광1동', '은평구불광2동', '은평구갈현1동', '은평구갈현2동', '은평구구산동', '은평구대조동', '은평구응암1동', '은평구응암2동', '은평구응암3동', '은평구신사1동', '은평구신사2동', '은평구증산동', '은평구수색동', '은평구진관동', '은평구역촌동', '서대문구소계', '서대문구천연동', '서대문구홍제1동', '서대문구홍제2동', '서대문구홍제3동', '서대문구홍은1동', '서대문구홍은2동', '서대문구남가좌1동', '서대문구남가좌2동', '서대문구북가좌1동', '서대문구북가좌2동', '서대문구충현동', '서대문구북아현동', '서대문구신촌동', '서대문구연희동', '마포구소계', '마포구용강동', '마포구대흥동', '마포구염리동', '마포구신수동', '마포구서교동', '마포구합정동', '마포구망원1동', '마포구망원2동', '마포구연남동', '마포구성산1동', '마포구성산2동', '마포구상암동', '마포구도화동', '마포구서강동', '마포구공덕동', '마포구아현동', '양천구소계', '양천구목1동', '양천구목2동', '양천구목3동', '양천구목4동', '양천구목5동', '양천구신월1동', '양천구신월2동', '양천구신월3동', '양천구신월4동', '양천구신월5동', '양천구신월6동', '양천구신월7동', '양천구신정1동', '양천구신정2동', '양천구신정3동', '양천구신정4동', '양천구신정6동', '양천구신정7동', '강서구소계', '강서구염창동', '강서구등촌1동', '강서구등촌2동', '강서구등촌3동', '강서구화곡본동', '강서구화곡1동', '강서구화곡2동', '강서구화곡3동', '강서구화곡4동', '강서구화곡6동', '강서구화곡8동', '강서구가양1동', '강서구가양2동', '강서구가양3동', '강서구발산1동', '강서구공항동', '강서구방화1동', '강서구방화2동', '강서구방화3동', '강서구우장산동', '구로구소계', '구로구신도림동', '구로구구로1동', '구로구구로2동', '구로구구로3동', '구로구구로4동', '구로구구로5동', '구로구고척1동', '구로구고척2동', '구로구개봉1동', '구로구개봉2동', '구로구개봉3동', '구로구오류1동', '구로구오류2동', '구로구수궁동', '구로구가리봉동', '구로구항동', '금천구소계', '금천구가산동', '금천구독산1동', '금천구독산2동', '금천구독산3동', '금천구독산4동', '금천구시흥1동', '금천구시흥2동', '금천구시흥3동', '금천구시흥4동', '금천구시흥5동', '영등포구소계', '영등포구여의동', '영등포구당산1동', '영등포구당산2동', '영등포구양평1동', '영등포구양평2동', '영등포구신길1동', '영등포구신길3동', '영등포구신길4동', '영등포구신길5동', '영등포구신길6동', '영등포구신길7동', '영등포구대림1동', '영등포구대림2동', '영등포구대림3동', '영등포구영등포본동', '영등포구영등포동', '영등포구도림동', '영등포구문래동', '동작구소계', '동작구노량진1동', '동작구노량진2동', '동작구상도1동', '동작구상도2동', '동작구상도3동', '동작구상도4동', '동작구사당1동', '동작구사당2동', '동작구사당3동', '동작구사당4동', '동작구사당5동', '동작구대방동', '동작구신대방1동', '동작구신대방2동', '동작구흑석동', '관악구소계', '관악구남현동', '관악구보라매동', '관악구청림동', '관악구행운동', '관악구낙성대동', '관악구중앙동', '관악구인헌동', '관악구서원동', '관악구신원동', '관악구서림동', '관악구신사동', '관악구신림동', '관악구난향동', '관악구조원동', '관악구대학동', '관악구은천동', '관악구성현동', '관악구청룡동', '관악구난곡동', '관악구삼성동', '관악구미성동', '서초구소계', '서초구서초1동', '서초구서초2동', '서초구서초3동', '서초구서초4동', '서초구잠원동', '서초구반포본동', '서초구반포1동', '서초구반포2동', '서초구반포3동', '서초구반포4동', '서초구방배본동', '서초구방배1동', '서초구방배2동', '서초구방배3동', '서초구방배4동', '서초구양재1동', '서초구양재2동', '서초구내곡동', '강남구소계', '강남구신사동', '강남구논현1동', '강남구논현2동', '강남구삼성1동', '강남구삼성2동', '강남구대치1동', '강남구대치2동', '강남구대치4동', '강남구역삼1동', '강남구역삼2동', '강남구도곡1동', '강남구도곡2동', '강남구개포1동', '강남구개포2동', '강남구개포3동', '강남구개포4동', '강남구일원본동', '강남구일원1동', '강남구수서동', '강남구세곡동', '강남구압구정동', '강남구청담동', '송파구소계', '송파구풍납1동', '송파구풍납2동', '송파구거여1동', '송파구거여2동', '송파구마천1동', '송파구마천2동', '송파구방이1동', '송파구방이2동', '송파구오륜동', '송파구오금동', '송파구송파1동', '송파구송파2동', '송파구석촌동', '송파구삼전동', '송파구가락본동', '송파구가락1동', '송파구가락2동', '송파구문정1동', '송파구문정2동', '송파구장지동', '송파구잠실본동', '송파구잠실2동', '송파구잠실3동', '송파구잠실4동', '송파구잠실6동', '송파구잠실7동', '송파구위례동', '강동구소계', '강동구명일1동', '강동구명일2동', '강동구고덕1동', '강동구고덕2동', '강동구암사1동', '강동구암사2동', '강동구암사3동', '강동구천호1동', '강동구천호2동', '강동구천호3동', '강동구성내1동', '강동구성내2동', '강동구성내3동', '강동구둔촌1동', '강동구둔촌2동', '강동구길동', '강동구강일동', '강동구상일1동', '강동구상일2동']\n"
     ]
    }
   ],
   "source": [
    "print(list(pop.index))"
   ],
   "metadata": {
    "collapsed": false,
    "ExecuteTime": {
     "end_time": "2023-10-11T08:00:15.660453Z",
     "start_time": "2023-10-11T08:00:15.642789Z"
    }
   },
   "id": "4764f21a6820ac59"
  },
  {
   "cell_type": "code",
   "execution_count": 101,
   "outputs": [],
   "source": [
    "income = pd.read_csv('../Data/income_new.csv', index_col = 0)\n",
    "income.index = income.index.str.replace('·','.')"
   ],
   "metadata": {
    "collapsed": false,
    "ExecuteTime": {
     "end_time": "2023-10-11T08:05:24.587983Z",
     "start_time": "2023-10-11T08:05:24.575338Z"
    }
   },
   "id": "7a007dbfb78a2e2d"
  },
  {
   "cell_type": "markdown",
   "source": [
    "### Make Feature Matrix"
   ],
   "metadata": {
    "collapsed": false
   },
   "id": "6236a55ae061363"
  },
  {
   "cell_type": "code",
   "execution_count": 102,
   "outputs": [],
   "source": [
    "matrix = pd.DataFrame()\n",
    "matrix = pd.concat([pop[['population','density','foreign_rate']],\n",
    "                    livelihood['bsc_lvlhood_ratio'],\n",
    "                    income], axis = 1)"
   ],
   "metadata": {
    "collapsed": false,
    "ExecuteTime": {
     "end_time": "2023-10-11T08:05:26.422558Z",
     "start_time": "2023-10-11T08:05:26.415239Z"
    }
   },
   "id": "67678295455a96c"
  },
  {
   "cell_type": "code",
   "execution_count": 103,
   "outputs": [
    {
     "data": {
      "text/plain": "          population  density  foreign_rate  bsc_lvlhood_ratio  ave_income_amt\n소계소계       9659322.0      2.0      0.025388                NaN             NaN\n종로구소계       151349.0      2.0      0.072363           0.076668             NaN\n종로구사직동        9362.0      2.0      0.029160           0.027352     6334.032500\n종로구삼청동        2576.0      2.0      0.116071           0.039929     5499.561429\n종로구부암동        9377.0      2.0      0.028261           0.042151     5256.250000\n...              ...      ...           ...                ...             ...\n강남구기타            NaN      NaN           NaN                NaN             NaN\n송파구기타            NaN      NaN           NaN                NaN             NaN\n강동구기타            NaN      NaN           NaN                NaN             NaN\n강동구상일동           NaN      NaN           NaN                NaN     6160.860000\n경기도양주시남면         NaN      NaN           NaN                NaN     2024.915000\n\n[480 rows x 5 columns]",
      "text/html": "<div>\n<style scoped>\n    .dataframe tbody tr th:only-of-type {\n        vertical-align: middle;\n    }\n\n    .dataframe tbody tr th {\n        vertical-align: top;\n    }\n\n    .dataframe thead th {\n        text-align: right;\n    }\n</style>\n<table border=\"1\" class=\"dataframe\">\n  <thead>\n    <tr style=\"text-align: right;\">\n      <th></th>\n      <th>population</th>\n      <th>density</th>\n      <th>foreign_rate</th>\n      <th>bsc_lvlhood_ratio</th>\n      <th>ave_income_amt</th>\n    </tr>\n  </thead>\n  <tbody>\n    <tr>\n      <th>소계소계</th>\n      <td>9659322.0</td>\n      <td>2.0</td>\n      <td>0.025388</td>\n      <td>NaN</td>\n      <td>NaN</td>\n    </tr>\n    <tr>\n      <th>종로구소계</th>\n      <td>151349.0</td>\n      <td>2.0</td>\n      <td>0.072363</td>\n      <td>0.076668</td>\n      <td>NaN</td>\n    </tr>\n    <tr>\n      <th>종로구사직동</th>\n      <td>9362.0</td>\n      <td>2.0</td>\n      <td>0.029160</td>\n      <td>0.027352</td>\n      <td>6334.032500</td>\n    </tr>\n    <tr>\n      <th>종로구삼청동</th>\n      <td>2576.0</td>\n      <td>2.0</td>\n      <td>0.116071</td>\n      <td>0.039929</td>\n      <td>5499.561429</td>\n    </tr>\n    <tr>\n      <th>종로구부암동</th>\n      <td>9377.0</td>\n      <td>2.0</td>\n      <td>0.028261</td>\n      <td>0.042151</td>\n      <td>5256.250000</td>\n    </tr>\n    <tr>\n      <th>...</th>\n      <td>...</td>\n      <td>...</td>\n      <td>...</td>\n      <td>...</td>\n      <td>...</td>\n    </tr>\n    <tr>\n      <th>강남구기타</th>\n      <td>NaN</td>\n      <td>NaN</td>\n      <td>NaN</td>\n      <td>NaN</td>\n      <td>NaN</td>\n    </tr>\n    <tr>\n      <th>송파구기타</th>\n      <td>NaN</td>\n      <td>NaN</td>\n      <td>NaN</td>\n      <td>NaN</td>\n      <td>NaN</td>\n    </tr>\n    <tr>\n      <th>강동구기타</th>\n      <td>NaN</td>\n      <td>NaN</td>\n      <td>NaN</td>\n      <td>NaN</td>\n      <td>NaN</td>\n    </tr>\n    <tr>\n      <th>강동구상일동</th>\n      <td>NaN</td>\n      <td>NaN</td>\n      <td>NaN</td>\n      <td>NaN</td>\n      <td>6160.860000</td>\n    </tr>\n    <tr>\n      <th>경기도양주시남면</th>\n      <td>NaN</td>\n      <td>NaN</td>\n      <td>NaN</td>\n      <td>NaN</td>\n      <td>2024.915000</td>\n    </tr>\n  </tbody>\n</table>\n<p>480 rows × 5 columns</p>\n</div>"
     },
     "execution_count": 103,
     "metadata": {},
     "output_type": "execute_result"
    }
   ],
   "source": [
    "matrix"
   ],
   "metadata": {
    "collapsed": false,
    "ExecuteTime": {
     "end_time": "2023-10-11T08:05:26.879800Z",
     "start_time": "2023-10-11T08:05:26.875920Z"
    }
   },
   "id": "b8b0d611845362d0"
  },
  {
   "cell_type": "markdown",
   "source": [
    "종로구 종로 1.2.3.4가동, 종로구 종로 5.6가동, 성동구 금호 2.3가동, 중랑구면목3.8동, 노원구 중계 2.3동, 노원구 상계 3.4동, 노원구 상계 6.7동, 송파구 잠실 4동, 송파구 잠실 6동, 강동구 상일 1동, 강동구 상일 2동"
   ],
   "metadata": {
    "collapsed": false
   },
   "id": "44516b6a0e45aaf2"
  },
  {
   "cell_type": "code",
   "execution_count": 104,
   "outputs": [
    {
     "data": {
      "text/plain": "         population  density  foreign_rate  bsc_lvlhood_ratio  ave_income_amt\n종로구사직동       9362.0      2.0      0.029160           0.027352     6334.032500\n종로구삼청동       2576.0      2.0      0.116071           0.039929     5499.561429\n종로구부암동       9377.0      2.0      0.028261           0.042151     5256.250000\n종로구평창동      17658.0      2.0      0.010307           0.019975     8318.690000\n종로구무악동       8015.0      3.0      0.003868           0.068439     4367.370000\n...             ...      ...           ...                ...             ...\n강동구성내3동     22882.0      2.0      0.014116           0.066591     6010.610000\n강동구둔촌1동        70.0      2.0      0.128571           0.026316     5761.600000\n강동구둔촌2동     24169.0      2.0      0.004593           0.051893     5761.600000\n강동구길동       45142.0      2.0      0.007399           0.074541     6449.340000\n강동구강일동      32996.0      3.0      0.005607           0.170875     5334.875000\n\n[421 rows x 5 columns]",
      "text/html": "<div>\n<style scoped>\n    .dataframe tbody tr th:only-of-type {\n        vertical-align: middle;\n    }\n\n    .dataframe tbody tr th {\n        vertical-align: top;\n    }\n\n    .dataframe thead th {\n        text-align: right;\n    }\n</style>\n<table border=\"1\" class=\"dataframe\">\n  <thead>\n    <tr style=\"text-align: right;\">\n      <th></th>\n      <th>population</th>\n      <th>density</th>\n      <th>foreign_rate</th>\n      <th>bsc_lvlhood_ratio</th>\n      <th>ave_income_amt</th>\n    </tr>\n  </thead>\n  <tbody>\n    <tr>\n      <th>종로구사직동</th>\n      <td>9362.0</td>\n      <td>2.0</td>\n      <td>0.029160</td>\n      <td>0.027352</td>\n      <td>6334.032500</td>\n    </tr>\n    <tr>\n      <th>종로구삼청동</th>\n      <td>2576.0</td>\n      <td>2.0</td>\n      <td>0.116071</td>\n      <td>0.039929</td>\n      <td>5499.561429</td>\n    </tr>\n    <tr>\n      <th>종로구부암동</th>\n      <td>9377.0</td>\n      <td>2.0</td>\n      <td>0.028261</td>\n      <td>0.042151</td>\n      <td>5256.250000</td>\n    </tr>\n    <tr>\n      <th>종로구평창동</th>\n      <td>17658.0</td>\n      <td>2.0</td>\n      <td>0.010307</td>\n      <td>0.019975</td>\n      <td>8318.690000</td>\n    </tr>\n    <tr>\n      <th>종로구무악동</th>\n      <td>8015.0</td>\n      <td>3.0</td>\n      <td>0.003868</td>\n      <td>0.068439</td>\n      <td>4367.370000</td>\n    </tr>\n    <tr>\n      <th>...</th>\n      <td>...</td>\n      <td>...</td>\n      <td>...</td>\n      <td>...</td>\n      <td>...</td>\n    </tr>\n    <tr>\n      <th>강동구성내3동</th>\n      <td>22882.0</td>\n      <td>2.0</td>\n      <td>0.014116</td>\n      <td>0.066591</td>\n      <td>6010.610000</td>\n    </tr>\n    <tr>\n      <th>강동구둔촌1동</th>\n      <td>70.0</td>\n      <td>2.0</td>\n      <td>0.128571</td>\n      <td>0.026316</td>\n      <td>5761.600000</td>\n    </tr>\n    <tr>\n      <th>강동구둔촌2동</th>\n      <td>24169.0</td>\n      <td>2.0</td>\n      <td>0.004593</td>\n      <td>0.051893</td>\n      <td>5761.600000</td>\n    </tr>\n    <tr>\n      <th>강동구길동</th>\n      <td>45142.0</td>\n      <td>2.0</td>\n      <td>0.007399</td>\n      <td>0.074541</td>\n      <td>6449.340000</td>\n    </tr>\n    <tr>\n      <th>강동구강일동</th>\n      <td>32996.0</td>\n      <td>3.0</td>\n      <td>0.005607</td>\n      <td>0.170875</td>\n      <td>5334.875000</td>\n    </tr>\n  </tbody>\n</table>\n<p>421 rows × 5 columns</p>\n</div>"
     },
     "execution_count": 104,
     "metadata": {},
     "output_type": "execute_result"
    }
   ],
   "source": [
    "matrix = matrix.dropna()\n",
    "matrix"
   ],
   "metadata": {
    "collapsed": false,
    "ExecuteTime": {
     "end_time": "2023-10-11T08:05:31.186489Z",
     "start_time": "2023-10-11T08:05:31.180556Z"
    }
   },
   "id": "f9dd5fce6334c47a"
  },
  {
   "cell_type": "code",
   "execution_count": 105,
   "outputs": [],
   "source": [
    "unique = renewal[['법정동변경','0.1']]['0.1'].unique()"
   ],
   "metadata": {
    "collapsed": false,
    "ExecuteTime": {
     "end_time": "2023-10-11T08:05:33.703859Z",
     "start_time": "2023-10-11T08:05:33.697969Z"
    }
   },
   "id": "41574aae733fe13b"
  },
  {
   "cell_type": "code",
   "execution_count": 106,
   "outputs": [],
   "source": [
    "unique = set(matrix.index).intersection(unique)"
   ],
   "metadata": {
    "collapsed": false,
    "ExecuteTime": {
     "end_time": "2023-10-11T08:05:34.539550Z",
     "start_time": "2023-10-11T08:05:34.533046Z"
    }
   },
   "id": "94f2e62728354f98"
  },
  {
   "cell_type": "code",
   "execution_count": 107,
   "outputs": [
    {
     "data": {
      "text/plain": "{'강남구개포1동',\n '강남구개포2동',\n '강남구개포4동',\n '강남구논현1동',\n '강남구논현2동',\n '강남구대치1동',\n '강남구대치2동',\n '강남구대치4동',\n '강남구도곡1동',\n '강남구도곡2동',\n '강남구삼성1동',\n '강남구삼성2동',\n '강남구신사동',\n '강남구압구정동',\n '강남구역삼1동',\n '강남구역삼2동',\n '강남구일원1동',\n '강남구일원본동',\n '강남구청담동',\n '강동구길동',\n '강북구미아동',\n '강북구번1동',\n '강북구번2동',\n '강북구번3동',\n '강북구삼각산동',\n '강북구삼양동',\n '강북구송중동',\n '강북구송천동',\n '강북구수유1동',\n '강북구수유2동',\n '강북구수유3동',\n '강북구우이동',\n '강북구인수동',\n '강서구공항동',\n '강서구염창동',\n '강서구우장산동',\n '강서구화곡본동',\n '관악구낙성대동',\n '관악구난곡동',\n '관악구난향동',\n '관악구남현동',\n '관악구대학동',\n '관악구미성동',\n '관악구보라매동',\n '관악구삼성동',\n '관악구서림동',\n '관악구서원동',\n '관악구성현동',\n '관악구신림동',\n '관악구신사동',\n '관악구신원동',\n '관악구은천동',\n '관악구인헌동',\n '관악구조원동',\n '관악구중앙동',\n '관악구청룡동',\n '관악구청림동',\n '관악구행운동',\n '광진구광장동',\n '광진구화양동',\n '구로구가리봉동',\n '구로구수궁동',\n '금천구가산동',\n '노원구공릉1동',\n '노원구공릉2동',\n '노원구상계10동',\n '노원구상계1동',\n '노원구상계2동',\n '노원구상계3.4동',\n '노원구상계5동',\n '노원구상계6.7동',\n '노원구상계8동',\n '노원구상계9동',\n '노원구월계1동',\n '노원구월계2동',\n '노원구월계3동',\n '노원구중계4동',\n '동대문구용신동',\n '동대문구제기동',\n '동대문구청량리동',\n '동대문구회기동',\n '동작구대방동',\n '동작구흑석동',\n '마포구공덕동',\n '마포구대흥동',\n '마포구도화동',\n '마포구서강동',\n '마포구신수동',\n '마포구아현동',\n '마포구염리동',\n '마포구용강동',\n '서대문구북아현동',\n '서대문구연희동',\n '서대문구천연동',\n '서대문구충현동',\n '서초구반포1동',\n '서초구반포2동',\n '서초구반포3동',\n '서초구반포4동',\n '서초구반포본동',\n '서초구방배1동',\n '서초구방배2동',\n '서초구방배3동',\n '서초구방배4동',\n '서초구방배본동',\n '서초구서초1동',\n '서초구서초2동',\n '서초구서초3동',\n '서초구서초4동',\n '서초구양재1동',\n '서초구양재2동',\n '서초구잠원동',\n '성동구마장동',\n '성동구사근동',\n '성동구옥수동',\n '성동구왕십리도선동',\n '성동구용답동',\n '성동구응봉동',\n '성북구동선동',\n '성북구삼선동',\n '성북구석관동',\n '성북구성북동',\n '성북구종암동',\n '송파구가락1동',\n '송파구가락2동',\n '송파구가락본동',\n '송파구거여1동',\n '송파구거여2동',\n '송파구마천1동',\n '송파구마천2동',\n '송파구문정1동',\n '송파구문정2동',\n '송파구방이1동',\n '송파구방이2동',\n '송파구석촌동',\n '송파구송파1동',\n '송파구송파2동',\n '송파구오금동',\n '송파구오륜동',\n '송파구위례동',\n '송파구잠실2동',\n '송파구잠실3동',\n '송파구잠실7동',\n '송파구잠실본동',\n '송파구장지동',\n '송파구풍납1동',\n '송파구풍납2동',\n '양천구목1동',\n '양천구목2동',\n '양천구목3동',\n '양천구목4동',\n '양천구목5동',\n '양천구신월1동',\n '양천구신월2동',\n '양천구신월3동',\n '양천구신월4동',\n '양천구신월5동',\n '양천구신월6동',\n '양천구신월7동',\n '양천구신정1동',\n '양천구신정2동',\n '양천구신정3동',\n '양천구신정4동',\n '양천구신정6동',\n '양천구신정7동',\n '영등포구도림동',\n '영등포구여의동',\n '영등포구영등포동',\n '영등포구영등포본동',\n '용산구남영동',\n '용산구보광동',\n '용산구서빙고동',\n '용산구청파동',\n '용산구한강로동',\n '용산구한남동',\n '용산구효창동',\n '용산구후암동',\n '은평구구산동',\n '은평구녹번동',\n '은평구대조동',\n '은평구수색동',\n '은평구역촌동',\n '은평구증산동',\n '종로구교남동',\n '종로구무악동',\n '종로구부암동',\n '종로구사직동',\n '종로구종로5.6가동',\n '중구다산동',\n '중구동화동',\n '중구신당동',\n '중구약수동',\n '중구중림동',\n '중구청구동',\n '중구황학동',\n '중랑구망우본동',\n '중랑구면목본동',\n '중랑구신내1동',\n '중랑구신내2동'}"
     },
     "execution_count": 107,
     "metadata": {},
     "output_type": "execute_result"
    }
   ],
   "source": [
    "unique"
   ],
   "metadata": {
    "collapsed": false,
    "ExecuteTime": {
     "end_time": "2023-10-11T08:05:35.082892Z",
     "start_time": "2023-10-11T08:05:35.072893Z"
    }
   },
   "id": "aa80729bd1b21224"
  },
  {
   "cell_type": "code",
   "execution_count": 108,
   "outputs": [
    {
     "data": {
      "text/plain": "         population  density  foreign_rate  bsc_lvlhood_ratio  ave_income_amt\n강동구길동       45142.0      2.0      0.007399           0.074541         6449.34\n강북구수유3동     23781.0      2.0      0.034692           0.127524         3657.81\n송파구가락2동     31507.0      3.0      0.005713           0.046651         7281.91\n관악구미성동      30465.0      2.0      0.018218           0.093733         5017.06\n양천구신월5동     14286.0      2.0      0.008820           0.119675         3644.81\n...             ...      ...           ...                ...             ...\n송파구문정1동     19785.0      2.0      0.007935           0.047394         6878.30\n강북구번1동      18455.0      2.0      0.029911           0.117755         3640.10\n송파구잠실2동     35034.0      3.0      0.002969           0.002853        10345.83\n송파구거여2동     23805.0      2.0      0.003655           0.079513         5404.38\n양천구목5동      40548.0      3.0      0.002491           0.003662         5443.69\n\n[199 rows x 5 columns]",
      "text/html": "<div>\n<style scoped>\n    .dataframe tbody tr th:only-of-type {\n        vertical-align: middle;\n    }\n\n    .dataframe tbody tr th {\n        vertical-align: top;\n    }\n\n    .dataframe thead th {\n        text-align: right;\n    }\n</style>\n<table border=\"1\" class=\"dataframe\">\n  <thead>\n    <tr style=\"text-align: right;\">\n      <th></th>\n      <th>population</th>\n      <th>density</th>\n      <th>foreign_rate</th>\n      <th>bsc_lvlhood_ratio</th>\n      <th>ave_income_amt</th>\n    </tr>\n  </thead>\n  <tbody>\n    <tr>\n      <th>강동구길동</th>\n      <td>45142.0</td>\n      <td>2.0</td>\n      <td>0.007399</td>\n      <td>0.074541</td>\n      <td>6449.34</td>\n    </tr>\n    <tr>\n      <th>강북구수유3동</th>\n      <td>23781.0</td>\n      <td>2.0</td>\n      <td>0.034692</td>\n      <td>0.127524</td>\n      <td>3657.81</td>\n    </tr>\n    <tr>\n      <th>송파구가락2동</th>\n      <td>31507.0</td>\n      <td>3.0</td>\n      <td>0.005713</td>\n      <td>0.046651</td>\n      <td>7281.91</td>\n    </tr>\n    <tr>\n      <th>관악구미성동</th>\n      <td>30465.0</td>\n      <td>2.0</td>\n      <td>0.018218</td>\n      <td>0.093733</td>\n      <td>5017.06</td>\n    </tr>\n    <tr>\n      <th>양천구신월5동</th>\n      <td>14286.0</td>\n      <td>2.0</td>\n      <td>0.008820</td>\n      <td>0.119675</td>\n      <td>3644.81</td>\n    </tr>\n    <tr>\n      <th>...</th>\n      <td>...</td>\n      <td>...</td>\n      <td>...</td>\n      <td>...</td>\n      <td>...</td>\n    </tr>\n    <tr>\n      <th>송파구문정1동</th>\n      <td>19785.0</td>\n      <td>2.0</td>\n      <td>0.007935</td>\n      <td>0.047394</td>\n      <td>6878.30</td>\n    </tr>\n    <tr>\n      <th>강북구번1동</th>\n      <td>18455.0</td>\n      <td>2.0</td>\n      <td>0.029911</td>\n      <td>0.117755</td>\n      <td>3640.10</td>\n    </tr>\n    <tr>\n      <th>송파구잠실2동</th>\n      <td>35034.0</td>\n      <td>3.0</td>\n      <td>0.002969</td>\n      <td>0.002853</td>\n      <td>10345.83</td>\n    </tr>\n    <tr>\n      <th>송파구거여2동</th>\n      <td>23805.0</td>\n      <td>2.0</td>\n      <td>0.003655</td>\n      <td>0.079513</td>\n      <td>5404.38</td>\n    </tr>\n    <tr>\n      <th>양천구목5동</th>\n      <td>40548.0</td>\n      <td>3.0</td>\n      <td>0.002491</td>\n      <td>0.003662</td>\n      <td>5443.69</td>\n    </tr>\n  </tbody>\n</table>\n<p>199 rows × 5 columns</p>\n</div>"
     },
     "execution_count": 108,
     "metadata": {},
     "output_type": "execute_result"
    }
   ],
   "source": [
    "matrix.loc[list(unique)]"
   ],
   "metadata": {
    "collapsed": false,
    "ExecuteTime": {
     "end_time": "2023-10-11T08:05:36.716518Z",
     "start_time": "2023-10-11T08:05:36.706543Z"
    }
   },
   "id": "1477ff04f1dfa4f5"
  },
  {
   "cell_type": "code",
   "execution_count": 109,
   "outputs": [
    {
     "name": "stderr",
     "output_type": "stream",
     "text": [
      "/var/folders/1q/pl9tj55n57s9jg28npxw61n80000gn/T/ipykernel_10599/1127350991.py:1: SettingWithCopyWarning: \n",
      "A value is trying to be set on a copy of a slice from a DataFrame.\n",
      "Try using .loc[row_indexer,col_indexer] = value instead\n",
      "\n",
      "See the caveats in the documentation: https://pandas.pydata.org/pandas-docs/stable/user_guide/indexing.html#returning-a-view-versus-a-copy\n",
      "  matrix['label'] = 0\n"
     ]
    }
   ],
   "source": [
    "matrix['label'] = 0\n",
    "matrix.loc[list(unique), 'label'] = 1"
   ],
   "metadata": {
    "collapsed": false,
    "ExecuteTime": {
     "end_time": "2023-10-11T08:05:40.102919Z",
     "start_time": "2023-10-11T08:05:40.098241Z"
    }
   },
   "id": "f8cb929c2a083454"
  },
  {
   "cell_type": "code",
   "execution_count": 110,
   "outputs": [
    {
     "data": {
      "text/plain": "         population  density  foreign_rate  bsc_lvlhood_ratio  ave_income_amt  \\\n종로구사직동       9362.0      2.0      0.029160           0.027352     6334.032500   \n종로구삼청동       2576.0      2.0      0.116071           0.039929     5499.561429   \n종로구부암동       9377.0      2.0      0.028261           0.042151     5256.250000   \n종로구평창동      17658.0      2.0      0.010307           0.019975     8318.690000   \n종로구무악동       8015.0      3.0      0.003868           0.068439     4367.370000   \n...             ...      ...           ...                ...             ...   \n강동구성내3동     22882.0      2.0      0.014116           0.066591     6010.610000   \n강동구둔촌1동        70.0      2.0      0.128571           0.026316     5761.600000   \n강동구둔촌2동     24169.0      2.0      0.004593           0.051893     5761.600000   \n강동구길동       45142.0      2.0      0.007399           0.074541     6449.340000   \n강동구강일동      32996.0      3.0      0.005607           0.170875     5334.875000   \n\n         label  \n종로구사직동       1  \n종로구삼청동       0  \n종로구부암동       1  \n종로구평창동       0  \n종로구무악동       1  \n...        ...  \n강동구성내3동      0  \n강동구둔촌1동      0  \n강동구둔촌2동      0  \n강동구길동        1  \n강동구강일동       0  \n\n[421 rows x 6 columns]",
      "text/html": "<div>\n<style scoped>\n    .dataframe tbody tr th:only-of-type {\n        vertical-align: middle;\n    }\n\n    .dataframe tbody tr th {\n        vertical-align: top;\n    }\n\n    .dataframe thead th {\n        text-align: right;\n    }\n</style>\n<table border=\"1\" class=\"dataframe\">\n  <thead>\n    <tr style=\"text-align: right;\">\n      <th></th>\n      <th>population</th>\n      <th>density</th>\n      <th>foreign_rate</th>\n      <th>bsc_lvlhood_ratio</th>\n      <th>ave_income_amt</th>\n      <th>label</th>\n    </tr>\n  </thead>\n  <tbody>\n    <tr>\n      <th>종로구사직동</th>\n      <td>9362.0</td>\n      <td>2.0</td>\n      <td>0.029160</td>\n      <td>0.027352</td>\n      <td>6334.032500</td>\n      <td>1</td>\n    </tr>\n    <tr>\n      <th>종로구삼청동</th>\n      <td>2576.0</td>\n      <td>2.0</td>\n      <td>0.116071</td>\n      <td>0.039929</td>\n      <td>5499.561429</td>\n      <td>0</td>\n    </tr>\n    <tr>\n      <th>종로구부암동</th>\n      <td>9377.0</td>\n      <td>2.0</td>\n      <td>0.028261</td>\n      <td>0.042151</td>\n      <td>5256.250000</td>\n      <td>1</td>\n    </tr>\n    <tr>\n      <th>종로구평창동</th>\n      <td>17658.0</td>\n      <td>2.0</td>\n      <td>0.010307</td>\n      <td>0.019975</td>\n      <td>8318.690000</td>\n      <td>0</td>\n    </tr>\n    <tr>\n      <th>종로구무악동</th>\n      <td>8015.0</td>\n      <td>3.0</td>\n      <td>0.003868</td>\n      <td>0.068439</td>\n      <td>4367.370000</td>\n      <td>1</td>\n    </tr>\n    <tr>\n      <th>...</th>\n      <td>...</td>\n      <td>...</td>\n      <td>...</td>\n      <td>...</td>\n      <td>...</td>\n      <td>...</td>\n    </tr>\n    <tr>\n      <th>강동구성내3동</th>\n      <td>22882.0</td>\n      <td>2.0</td>\n      <td>0.014116</td>\n      <td>0.066591</td>\n      <td>6010.610000</td>\n      <td>0</td>\n    </tr>\n    <tr>\n      <th>강동구둔촌1동</th>\n      <td>70.0</td>\n      <td>2.0</td>\n      <td>0.128571</td>\n      <td>0.026316</td>\n      <td>5761.600000</td>\n      <td>0</td>\n    </tr>\n    <tr>\n      <th>강동구둔촌2동</th>\n      <td>24169.0</td>\n      <td>2.0</td>\n      <td>0.004593</td>\n      <td>0.051893</td>\n      <td>5761.600000</td>\n      <td>0</td>\n    </tr>\n    <tr>\n      <th>강동구길동</th>\n      <td>45142.0</td>\n      <td>2.0</td>\n      <td>0.007399</td>\n      <td>0.074541</td>\n      <td>6449.340000</td>\n      <td>1</td>\n    </tr>\n    <tr>\n      <th>강동구강일동</th>\n      <td>32996.0</td>\n      <td>3.0</td>\n      <td>0.005607</td>\n      <td>0.170875</td>\n      <td>5334.875000</td>\n      <td>0</td>\n    </tr>\n  </tbody>\n</table>\n<p>421 rows × 6 columns</p>\n</div>"
     },
     "execution_count": 110,
     "metadata": {},
     "output_type": "execute_result"
    }
   ],
   "source": [
    "matrix"
   ],
   "metadata": {
    "collapsed": false,
    "ExecuteTime": {
     "end_time": "2023-10-11T08:05:40.607560Z",
     "start_time": "2023-10-11T08:05:40.603047Z"
    }
   },
   "id": "76da080ab1aa167c"
  },
  {
   "cell_type": "markdown",
   "source": [
    "#### Modeling"
   ],
   "metadata": {
    "collapsed": false
   },
   "id": "2d85389a1173cba2"
  },
  {
   "cell_type": "code",
   "execution_count": 111,
   "outputs": [],
   "source": [
    "from sklearn.ensemble import RandomForestClassifier\n",
    "from sklearn.model_selection import train_test_split\n",
    "from sklearn.metrics import accuracy_score, classification_report\n",
    "from sklearn.metrics import roc_curve, auc\n",
    "\n",
    "X_train, X_test, y_train, y_test = train_test_split(matrix.iloc[:,:-1], matrix.iloc[:,-1], test_size = 0.2, random_state = 42)"
   ],
   "metadata": {
    "collapsed": false,
    "ExecuteTime": {
     "end_time": "2023-10-11T08:05:43.709269Z",
     "start_time": "2023-10-11T08:05:43.702201Z"
    }
   },
   "id": "f39d67460c60ce04"
  },
  {
   "cell_type": "code",
   "execution_count": 112,
   "outputs": [],
   "source": [
    "clf = RandomForestClassifier(n_estimators = 1000, \n",
    "                             random_state = 42,\n",
    "                             class_weight = 'balanced_subsample',\n",
    "                             ccp_alpha = 0.01,\n",
    "                             criterion = 'entropy')\n",
    "fit = clf.fit(X_train, y_train)"
   ],
   "metadata": {
    "collapsed": false,
    "ExecuteTime": {
     "end_time": "2023-10-11T08:05:45.807445Z",
     "start_time": "2023-10-11T08:05:44.925577Z"
    }
   },
   "id": "601f79c18dfbeb74"
  },
  {
   "cell_type": "code",
   "execution_count": 113,
   "outputs": [],
   "source": [
    "y_pred = clf.predict(X_test)\n",
    "accuracy = accuracy_score(y_test, y_pred)"
   ],
   "metadata": {
    "collapsed": false,
    "ExecuteTime": {
     "end_time": "2023-10-11T08:05:46.277731Z",
     "start_time": "2023-10-11T08:05:46.234254Z"
    }
   },
   "id": "b1eadcae3c3d9887"
  },
  {
   "cell_type": "code",
   "execution_count": 114,
   "outputs": [
    {
     "name": "stdout",
     "output_type": "stream",
     "text": [
      "              precision    recall  f1-score   support\n",
      "\n",
      "           0       0.83      0.80      0.81        55\n",
      "           1       0.66      0.70      0.68        30\n",
      "\n",
      "    accuracy                           0.76        85\n",
      "   macro avg       0.74      0.75      0.75        85\n",
      "weighted avg       0.77      0.76      0.77        85\n"
     ]
    }
   ],
   "source": [
    "report = classification_report(y_test, y_pred)\n",
    "print(report)"
   ],
   "metadata": {
    "collapsed": false,
    "ExecuteTime": {
     "end_time": "2023-10-11T08:05:46.615867Z",
     "start_time": "2023-10-11T08:05:46.610838Z"
    }
   },
   "id": "e2566361b77e2fde"
  },
  {
   "cell_type": "code",
   "execution_count": 115,
   "outputs": [
    {
     "data": {
      "text/plain": "<Figure size 700x500 with 1 Axes>",
      "image/png": "[encoded data removed]"
     },
     "metadata": {},
     "output_type": "display_data"
    }
   ],
   "source": [
    "y_probs = clf.predict_proba(X_test)[:, 1]\n",
    "fpr, tpr, thresholds = roc_curve(y_test, y_probs)\n",
    "roc_auc = auc(fpr, tpr)\n",
    "\n",
    "plt.figure(figsize = (7, 5))\n",
    "plt.plot(fpr, tpr, color = 'darkorange', lw = 2, label = 'RandomForest (area = %0.2f)' % roc_auc)\n",
    "plt.plot([0, 1], [0, 1], color = 'navy', lw = 2, linestyle='--')\n",
    "plt.xlabel('False Positive Rate')\n",
    "plt.ylabel('True Positive Rate')\n",
    "plt.title('Receiver Operating Characteristic (ROC)', fontsize = 12, fontfamily = 'Serif')\n",
    "plt.legend(loc = \"lower right\")\n",
    "plt.show()"
   ],
   "metadata": {
    "collapsed": false,
    "ExecuteTime": {
     "end_time": "2023-10-11T08:05:47.771323Z",
     "start_time": "2023-10-11T08:05:47.656669Z"
    }
   },
   "id": "72378af3ffecef37"
  },
  {
   "cell_type": "code",
   "execution_count": 116,
   "outputs": [
    {
     "data": {
      "text/plain": "<Figure size 800x200 with 1 Axes>",
      "image/png": "[encoded data removed]"
     },
     "metadata": {},
     "output_type": "display_data"
    }
   ],
   "source": [
    "feature_importance_df = pd.DataFrame({'Feature': X_train.columns,\n",
    "                                     'Importance': fit.feature_importances_})\n",
    "plt.figure(figsize = (8,2))\n",
    "plt.barh(feature_importance_df['Feature'], \n",
    "         feature_importance_df['Importance'], \n",
    "         color = '#6699CC',\n",
    "         height = 0.7)\n",
    "plt.xlim([0, 1])\n",
    "plt.title('MDI Feature Importance', fontsize = 12, fontfamily = 'Serif')\n",
    "plt.tight_layout()"
   ],
   "metadata": {
    "collapsed": false,
    "ExecuteTime": {
     "end_time": "2023-10-11T08:05:51.117590Z",
     "start_time": "2023-10-11T08:05:51.053177Z"
    }
   },
   "id": "6082d8fbf22813f7"
  },
  {
   "cell_type": "code",
   "execution_count": 117,
   "outputs": [],
   "source": [
    "# matrix.to_csv('../Data/feature_matrix.csv')"
   ],
   "metadata": {
    "collapsed": false,
    "ExecuteTime": {
     "end_time": "2023-10-11T08:06:12.202617Z",
     "start_time": "2023-10-11T08:06:12.182190Z"
    }
   },
   "id": "419ab5e2417a48bf"
  }
 ],
 "metadata": {
  "kernelspec": {
   "display_name": "Python 3",
   "language": "python",
   "name": "python3"
  },
  "language_info": {
   "codemirror_mode": {
    "name": "ipython",
    "version": 2
   },
   "file_extension": ".py",
   "mimetype": "text/x-python",
   "name": "python",
   "nbconvert_exporter": "python",
   "pygments_lexer": "ipython2",
   "version": "2.7.6"
  }
 },
 "nbformat": 4,
 "nbformat_minor": 5
}
