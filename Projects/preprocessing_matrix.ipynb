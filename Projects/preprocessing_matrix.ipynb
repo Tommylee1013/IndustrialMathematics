{
 "cells": [
  {
   "cell_type": "code",
   "execution_count": 62,
   "id": "initial_id",
   "metadata": {
    "collapsed": true,
    "ExecuteTime": {
     "end_time": "2023-10-31T03:18:42.096830Z",
     "start_time": "2023-10-31T03:18:42.085619Z"
    }
   },
   "outputs": [],
   "source": [
    "import numpy as np\n",
    "import pandas as pd\n",
    "import matplotlib.pyplot as plt\n",
    "\n",
    "matrix = pd.read_csv('../Data/Feature.csv', index_col = 0)\n",
    "spread = pd.read_csv('../Data/house_spread.csv', index_col = 1)\n",
    "build_year = pd.read_csv('../Data/built_year.csv', index_col = 0)"
   ]
  },
  {
   "cell_type": "code",
   "execution_count": 63,
   "outputs": [],
   "source": [
    "apt_buy_num = 31038\n",
    "apt_rent_num = 266017\n",
    "house_buy_num = 21185\n",
    "house_rent_num = 129278"
   ],
   "metadata": {
    "collapsed": false,
    "ExecuteTime": {
     "end_time": "2023-10-31T03:18:42.459876Z",
     "start_time": "2023-10-31T03:18:42.456870Z"
    }
   },
   "id": "e836734f95c671e8"
  },
  {
   "cell_type": "code",
   "execution_count": 66,
   "outputs": [],
   "source": [
    "spread = spread['spread'].groupby(spread.index).mean()"
   ],
   "metadata": {
    "collapsed": false,
    "ExecuteTime": {
     "end_time": "2023-10-31T03:18:56.363257Z",
     "start_time": "2023-10-31T03:18:56.350919Z"
    }
   },
   "id": "267ebb0c21014670"
  },
  {
   "cell_type": "code",
   "execution_count": 67,
   "outputs": [
    {
     "data": {
      "text/plain": "         populaion  density  foreign_rate  bsc_lvlhood_ratio  avg_income_amt  \\\n종로구사직동      9362.0      2.0      0.029160           0.027352        8.753692   \n종로구삼청동      2576.0      2.0      0.116071           0.039929        8.612424   \n종로구부암동      9377.0      2.0      0.028261           0.042151        8.567173   \n종로구평창동     17658.0      2.0      0.010307           0.019975        9.026260   \n종로구무악동      8015.0      3.0      0.003868           0.068439        8.381916   \n...            ...      ...           ...                ...             ...   \n강동구성내3동    22882.0      2.0      0.014116           0.066591        8.701282   \n강동구둔촌1동       70.0      2.0      0.128571           0.026316        8.658970   \n강동구둔촌2동    24169.0      2.0      0.004593           0.051893        8.658970   \n강동구길동      45142.0      2.0      0.007399           0.074541        8.771733   \n강동구강일동     32996.0      3.0      0.005607           0.170875        8.582021   \n\n         elder_ratio  label  \n종로구사직동      0.203605    1.0  \n종로구삼청동      0.265542    0.0  \n종로구부암동      0.202824    1.0  \n종로구평창동      0.205252    0.0  \n종로구무악동      0.187718    1.0  \n...              ...    ...  \n강동구성내3동     0.189747    0.0  \n강동구둔촌1동     0.161290    0.0  \n강동구둔촌2동     0.184433    0.0  \n강동구길동       0.198042    1.0  \n강동구강일동      0.186686    0.0  \n\n[420 rows x 7 columns]",
      "text/html": "<div>\n<style scoped>\n    .dataframe tbody tr th:only-of-type {\n        vertical-align: middle;\n    }\n\n    .dataframe tbody tr th {\n        vertical-align: top;\n    }\n\n    .dataframe thead th {\n        text-align: right;\n    }\n</style>\n<table border=\"1\" class=\"dataframe\">\n  <thead>\n    <tr style=\"text-align: right;\">\n      <th></th>\n      <th>populaion</th>\n      <th>density</th>\n      <th>foreign_rate</th>\n      <th>bsc_lvlhood_ratio</th>\n      <th>avg_income_amt</th>\n      <th>elder_ratio</th>\n      <th>label</th>\n    </tr>\n  </thead>\n  <tbody>\n    <tr>\n      <th>종로구사직동</th>\n      <td>9362.0</td>\n      <td>2.0</td>\n      <td>0.029160</td>\n      <td>0.027352</td>\n      <td>8.753692</td>\n      <td>0.203605</td>\n      <td>1.0</td>\n    </tr>\n    <tr>\n      <th>종로구삼청동</th>\n      <td>2576.0</td>\n      <td>2.0</td>\n      <td>0.116071</td>\n      <td>0.039929</td>\n      <td>8.612424</td>\n      <td>0.265542</td>\n      <td>0.0</td>\n    </tr>\n    <tr>\n      <th>종로구부암동</th>\n      <td>9377.0</td>\n      <td>2.0</td>\n      <td>0.028261</td>\n      <td>0.042151</td>\n      <td>8.567173</td>\n      <td>0.202824</td>\n      <td>1.0</td>\n    </tr>\n    <tr>\n      <th>종로구평창동</th>\n      <td>17658.0</td>\n      <td>2.0</td>\n      <td>0.010307</td>\n      <td>0.019975</td>\n      <td>9.026260</td>\n      <td>0.205252</td>\n      <td>0.0</td>\n    </tr>\n    <tr>\n      <th>종로구무악동</th>\n      <td>8015.0</td>\n      <td>3.0</td>\n      <td>0.003868</td>\n      <td>0.068439</td>\n      <td>8.381916</td>\n      <td>0.187718</td>\n      <td>1.0</td>\n    </tr>\n    <tr>\n      <th>...</th>\n      <td>...</td>\n      <td>...</td>\n      <td>...</td>\n      <td>...</td>\n      <td>...</td>\n      <td>...</td>\n      <td>...</td>\n    </tr>\n    <tr>\n      <th>강동구성내3동</th>\n      <td>22882.0</td>\n      <td>2.0</td>\n      <td>0.014116</td>\n      <td>0.066591</td>\n      <td>8.701282</td>\n      <td>0.189747</td>\n      <td>0.0</td>\n    </tr>\n    <tr>\n      <th>강동구둔촌1동</th>\n      <td>70.0</td>\n      <td>2.0</td>\n      <td>0.128571</td>\n      <td>0.026316</td>\n      <td>8.658970</td>\n      <td>0.161290</td>\n      <td>0.0</td>\n    </tr>\n    <tr>\n      <th>강동구둔촌2동</th>\n      <td>24169.0</td>\n      <td>2.0</td>\n      <td>0.004593</td>\n      <td>0.051893</td>\n      <td>8.658970</td>\n      <td>0.184433</td>\n      <td>0.0</td>\n    </tr>\n    <tr>\n      <th>강동구길동</th>\n      <td>45142.0</td>\n      <td>2.0</td>\n      <td>0.007399</td>\n      <td>0.074541</td>\n      <td>8.771733</td>\n      <td>0.198042</td>\n      <td>1.0</td>\n    </tr>\n    <tr>\n      <th>강동구강일동</th>\n      <td>32996.0</td>\n      <td>3.0</td>\n      <td>0.005607</td>\n      <td>0.170875</td>\n      <td>8.582021</td>\n      <td>0.186686</td>\n      <td>0.0</td>\n    </tr>\n  </tbody>\n</table>\n<p>420 rows × 7 columns</p>\n</div>"
     },
     "execution_count": 67,
     "metadata": {},
     "output_type": "execute_result"
    }
   ],
   "source": [
    "matrix"
   ],
   "metadata": {
    "collapsed": false,
    "ExecuteTime": {
     "end_time": "2023-10-31T03:18:57.767692Z",
     "start_time": "2023-10-31T03:18:57.763339Z"
    }
   },
   "id": "831d28cec4dc87cf"
  },
  {
   "cell_type": "code",
   "execution_count": 68,
   "outputs": [],
   "source": [
    "spread.index = spread.index.str.replace('제1','1').str.replace('제2','2').str.replace('제3','3').str.replace('제4','4').str.replace('제5','5').str.replace('제6','6').str.replace('제7','7').str.replace('제8','8')"
   ],
   "metadata": {
    "collapsed": false,
    "ExecuteTime": {
     "end_time": "2023-10-31T03:19:00.586791Z",
     "start_time": "2023-10-31T03:19:00.575524Z"
    }
   },
   "id": "4b69adf27745c94"
  },
  {
   "cell_type": "code",
   "execution_count": 69,
   "outputs": [
    {
     "data": {
      "text/plain": "0\n강남구개포1동    0.560650\n강남구개포2동    0.573502\n강남구개포3동    0.563563\n강남구개포4동    0.560650\n강남구논현1동    0.397695\n             ...   \n중랑구상봉2동    0.213307\n중랑구신내1동    0.327908\n중랑구신내2동    0.327908\n중랑구중화1동    0.346659\n중랑구중화2동    0.346659\nName: spread, Length: 425, dtype: float64"
     },
     "execution_count": 69,
     "metadata": {},
     "output_type": "execute_result"
    }
   ],
   "source": [
    "spread"
   ],
   "metadata": {
    "collapsed": false,
    "ExecuteTime": {
     "end_time": "2023-10-31T03:19:01.245403Z",
     "start_time": "2023-10-31T03:19:01.235114Z"
    }
   },
   "id": "ae8bd473c223491a"
  },
  {
   "cell_type": "code",
   "execution_count": 73,
   "outputs": [],
   "source": [
    "build_year.index = build_year.region"
   ],
   "metadata": {
    "collapsed": false,
    "ExecuteTime": {
     "end_time": "2023-10-31T03:20:25.298597Z",
     "start_time": "2023-10-31T03:20:25.288662Z"
    }
   },
   "id": "523fc355a81d916d"
  },
  {
   "cell_type": "code",
   "execution_count": 74,
   "outputs": [],
   "source": [
    "build_year.index = build_year.index.str.replace('제1','1').str.replace('제2','2').str.replace('제3','3').str.replace('제4','4').str.replace('제5','5').str.replace('제6','6').str.replace('제7','7').str.replace('제8','8')"
   ],
   "metadata": {
    "collapsed": false,
    "ExecuteTime": {
     "end_time": "2023-10-31T03:20:26.674756Z",
     "start_time": "2023-10-31T03:20:26.664214Z"
    }
   },
   "id": "739b3b7b9bbf899f"
  },
  {
   "cell_type": "code",
   "execution_count": 79,
   "outputs": [],
   "source": [
    "build_year = build_year.iloc[:,1:]"
   ],
   "metadata": {
    "collapsed": false,
    "ExecuteTime": {
     "end_time": "2023-10-31T03:20:59.853151Z",
     "start_time": "2023-10-31T03:20:59.837860Z"
    }
   },
   "id": "410b57b011d1a876"
  },
  {
   "cell_type": "code",
   "execution_count": 80,
   "outputs": [
    {
     "data": {
      "text/plain": "           build_year       year\nregion                          \n강남구개포1동   2005.693380  17.306620\n강남구개포2동   2005.693380  17.306620\n강남구개포3동   2005.693380  17.306620\n강남구개포4동   2005.693380  17.306620\n강남구논현1동   2004.761554  18.238446\n...               ...        ...\n종로구청운효자동  2015.000000   8.000000\n종로구혜화동    2013.500000   9.500000\n종로구사직동    1997.333333  25.666667\n중구광희동     2014.444444   8.555556\n중구필동      2018.000000   5.000000\n\n[638 rows x 2 columns]",
      "text/html": "<div>\n<style scoped>\n    .dataframe tbody tr th:only-of-type {\n        vertical-align: middle;\n    }\n\n    .dataframe tbody tr th {\n        vertical-align: top;\n    }\n\n    .dataframe thead th {\n        text-align: right;\n    }\n</style>\n<table border=\"1\" class=\"dataframe\">\n  <thead>\n    <tr style=\"text-align: right;\">\n      <th></th>\n      <th>build_year</th>\n      <th>year</th>\n    </tr>\n    <tr>\n      <th>region</th>\n      <th></th>\n      <th></th>\n    </tr>\n  </thead>\n  <tbody>\n    <tr>\n      <th>강남구개포1동</th>\n      <td>2005.693380</td>\n      <td>17.306620</td>\n    </tr>\n    <tr>\n      <th>강남구개포2동</th>\n      <td>2005.693380</td>\n      <td>17.306620</td>\n    </tr>\n    <tr>\n      <th>강남구개포3동</th>\n      <td>2005.693380</td>\n      <td>17.306620</td>\n    </tr>\n    <tr>\n      <th>강남구개포4동</th>\n      <td>2005.693380</td>\n      <td>17.306620</td>\n    </tr>\n    <tr>\n      <th>강남구논현1동</th>\n      <td>2004.761554</td>\n      <td>18.238446</td>\n    </tr>\n    <tr>\n      <th>...</th>\n      <td>...</td>\n      <td>...</td>\n    </tr>\n    <tr>\n      <th>종로구청운효자동</th>\n      <td>2015.000000</td>\n      <td>8.000000</td>\n    </tr>\n    <tr>\n      <th>종로구혜화동</th>\n      <td>2013.500000</td>\n      <td>9.500000</td>\n    </tr>\n    <tr>\n      <th>종로구사직동</th>\n      <td>1997.333333</td>\n      <td>25.666667</td>\n    </tr>\n    <tr>\n      <th>중구광희동</th>\n      <td>2014.444444</td>\n      <td>8.555556</td>\n    </tr>\n    <tr>\n      <th>중구필동</th>\n      <td>2018.000000</td>\n      <td>5.000000</td>\n    </tr>\n  </tbody>\n</table>\n<p>638 rows × 2 columns</p>\n</div>"
     },
     "execution_count": 80,
     "metadata": {},
     "output_type": "execute_result"
    }
   ],
   "source": [
    "build_year"
   ],
   "metadata": {
    "collapsed": false,
    "ExecuteTime": {
     "end_time": "2023-10-31T03:21:03.387575Z",
     "start_time": "2023-10-31T03:21:03.374243Z"
    }
   },
   "id": "f888b41cc3c696bf"
  },
  {
   "cell_type": "code",
   "execution_count": 82,
   "outputs": [],
   "source": [
    "build_year = build_year.groupby(build_year.index).mean()"
   ],
   "metadata": {
    "collapsed": false,
    "ExecuteTime": {
     "end_time": "2023-10-31T03:21:14.580375Z",
     "start_time": "2023-10-31T03:21:14.564041Z"
    }
   },
   "id": "dad4f9a0d2a4cf6b"
  },
  {
   "cell_type": "code",
   "execution_count": 83,
   "outputs": [
    {
     "data": {
      "text/plain": "          build_year       year\nregion                         \n강남구개포1동  2005.693380  17.306620\n강남구개포2동  2005.684593  17.315407\n강남구개포3동  2003.058037  19.941963\n강남구개포4동  2005.693380  17.306620\n강남구논현1동  2004.761554  18.238446\n...              ...        ...\n중랑구상봉2동  2011.002488  11.997512\n중랑구신내1동  2003.264221  19.735779\n중랑구신내2동  2003.264221  19.735779\n중랑구중화1동  2007.285917  15.714083\n중랑구중화2동  2007.285917  15.714083\n\n[425 rows x 2 columns]",
      "text/html": "<div>\n<style scoped>\n    .dataframe tbody tr th:only-of-type {\n        vertical-align: middle;\n    }\n\n    .dataframe tbody tr th {\n        vertical-align: top;\n    }\n\n    .dataframe thead th {\n        text-align: right;\n    }\n</style>\n<table border=\"1\" class=\"dataframe\">\n  <thead>\n    <tr style=\"text-align: right;\">\n      <th></th>\n      <th>build_year</th>\n      <th>year</th>\n    </tr>\n    <tr>\n      <th>region</th>\n      <th></th>\n      <th></th>\n    </tr>\n  </thead>\n  <tbody>\n    <tr>\n      <th>강남구개포1동</th>\n      <td>2005.693380</td>\n      <td>17.306620</td>\n    </tr>\n    <tr>\n      <th>강남구개포2동</th>\n      <td>2005.684593</td>\n      <td>17.315407</td>\n    </tr>\n    <tr>\n      <th>강남구개포3동</th>\n      <td>2003.058037</td>\n      <td>19.941963</td>\n    </tr>\n    <tr>\n      <th>강남구개포4동</th>\n      <td>2005.693380</td>\n      <td>17.306620</td>\n    </tr>\n    <tr>\n      <th>강남구논현1동</th>\n      <td>2004.761554</td>\n      <td>18.238446</td>\n    </tr>\n    <tr>\n      <th>...</th>\n      <td>...</td>\n      <td>...</td>\n    </tr>\n    <tr>\n      <th>중랑구상봉2동</th>\n      <td>2011.002488</td>\n      <td>11.997512</td>\n    </tr>\n    <tr>\n      <th>중랑구신내1동</th>\n      <td>2003.264221</td>\n      <td>19.735779</td>\n    </tr>\n    <tr>\n      <th>중랑구신내2동</th>\n      <td>2003.264221</td>\n      <td>19.735779</td>\n    </tr>\n    <tr>\n      <th>중랑구중화1동</th>\n      <td>2007.285917</td>\n      <td>15.714083</td>\n    </tr>\n    <tr>\n      <th>중랑구중화2동</th>\n      <td>2007.285917</td>\n      <td>15.714083</td>\n    </tr>\n  </tbody>\n</table>\n<p>425 rows × 2 columns</p>\n</div>"
     },
     "execution_count": 83,
     "metadata": {},
     "output_type": "execute_result"
    }
   ],
   "source": [
    "build_year"
   ],
   "metadata": {
    "collapsed": false,
    "ExecuteTime": {
     "end_time": "2023-10-31T03:21:17.540322Z",
     "start_time": "2023-10-31T03:21:17.526238Z"
    }
   },
   "id": "dcd9ec48421af0b1"
  },
  {
   "cell_type": "code",
   "execution_count": 84,
   "outputs": [],
   "source": [
    "matrix_new = pd.concat([matrix.iloc[:,:-1], spread, build_year['year'], matrix.iloc[:,-1]], axis = 1, join='outer')\n",
    "matrix_new.columns = ['populaion', 'density','foreign_rate','bsc_lvlhood_ratio','avg_income_amt','elder_ratio','spread','built_year','label']"
   ],
   "metadata": {
    "collapsed": false,
    "ExecuteTime": {
     "end_time": "2023-10-31T03:21:58.393201Z",
     "start_time": "2023-10-31T03:21:58.382784Z"
    }
   },
   "id": "bbf41fe3d1ec9326"
  },
  {
   "cell_type": "code",
   "execution_count": 85,
   "outputs": [
    {
     "data": {
      "text/plain": "         populaion  density  foreign_rate  bsc_lvlhood_ratio  avg_income_amt  \\\n종로구사직동      9362.0      2.0      0.029160           0.027352        8.753692   \n종로구삼청동      2576.0      2.0      0.116071           0.039929        8.612424   \n종로구부암동      9377.0      2.0      0.028261           0.042151        8.567173   \n종로구평창동     17658.0      2.0      0.010307           0.019975        9.026260   \n종로구무악동      8015.0      3.0      0.003868           0.068439        8.381916   \n...            ...      ...           ...                ...             ...   \n강동구상일1동        NaN      NaN           NaN                NaN             NaN   \n강동구상일2동        NaN      NaN           NaN                NaN             NaN   \n성북구장위3동        NaN      NaN           NaN                NaN             NaN   \n송파구잠실4동        NaN      NaN           NaN                NaN             NaN   \n송파구잠실6동        NaN      NaN           NaN                NaN             NaN   \n\n         elder_ratio    spread  built_year  label  \n종로구사직동      0.203605      -inf   26.422436    1.0  \n종로구삼청동      0.265542       NaN         NaN    0.0  \n종로구부암동      0.202824 -0.416352   26.440842    1.0  \n종로구평창동      0.205252  0.341060   21.872493    0.0  \n종로구무악동      0.187718  0.289968   22.173438    1.0  \n...              ...       ...         ...    ...  \n강동구상일1동          NaN  0.548630    9.331849    NaN  \n강동구상일2동          NaN  0.548630    9.331849    NaN  \n성북구장위3동          NaN  0.417259    8.044019    NaN  \n송파구잠실4동          NaN  0.527334   23.267580    NaN  \n송파구잠실6동          NaN  0.527334   23.267580    NaN  \n\n[426 rows x 9 columns]",
      "text/html": "<div>\n<style scoped>\n    .dataframe tbody tr th:only-of-type {\n        vertical-align: middle;\n    }\n\n    .dataframe tbody tr th {\n        vertical-align: top;\n    }\n\n    .dataframe thead th {\n        text-align: right;\n    }\n</style>\n<table border=\"1\" class=\"dataframe\">\n  <thead>\n    <tr style=\"text-align: right;\">\n      <th></th>\n      <th>populaion</th>\n      <th>density</th>\n      <th>foreign_rate</th>\n      <th>bsc_lvlhood_ratio</th>\n      <th>avg_income_amt</th>\n      <th>elder_ratio</th>\n      <th>spread</th>\n      <th>built_year</th>\n      <th>label</th>\n    </tr>\n  </thead>\n  <tbody>\n    <tr>\n      <th>종로구사직동</th>\n      <td>9362.0</td>\n      <td>2.0</td>\n      <td>0.029160</td>\n      <td>0.027352</td>\n      <td>8.753692</td>\n      <td>0.203605</td>\n      <td>-inf</td>\n      <td>26.422436</td>\n      <td>1.0</td>\n    </tr>\n    <tr>\n      <th>종로구삼청동</th>\n      <td>2576.0</td>\n      <td>2.0</td>\n      <td>0.116071</td>\n      <td>0.039929</td>\n      <td>8.612424</td>\n      <td>0.265542</td>\n      <td>NaN</td>\n      <td>NaN</td>\n      <td>0.0</td>\n    </tr>\n    <tr>\n      <th>종로구부암동</th>\n      <td>9377.0</td>\n      <td>2.0</td>\n      <td>0.028261</td>\n      <td>0.042151</td>\n      <td>8.567173</td>\n      <td>0.202824</td>\n      <td>-0.416352</td>\n      <td>26.440842</td>\n      <td>1.0</td>\n    </tr>\n    <tr>\n      <th>종로구평창동</th>\n      <td>17658.0</td>\n      <td>2.0</td>\n      <td>0.010307</td>\n      <td>0.019975</td>\n      <td>9.026260</td>\n      <td>0.205252</td>\n      <td>0.341060</td>\n      <td>21.872493</td>\n      <td>0.0</td>\n    </tr>\n    <tr>\n      <th>종로구무악동</th>\n      <td>8015.0</td>\n      <td>3.0</td>\n      <td>0.003868</td>\n      <td>0.068439</td>\n      <td>8.381916</td>\n      <td>0.187718</td>\n      <td>0.289968</td>\n      <td>22.173438</td>\n      <td>1.0</td>\n    </tr>\n    <tr>\n      <th>...</th>\n      <td>...</td>\n      <td>...</td>\n      <td>...</td>\n      <td>...</td>\n      <td>...</td>\n      <td>...</td>\n      <td>...</td>\n      <td>...</td>\n      <td>...</td>\n    </tr>\n    <tr>\n      <th>강동구상일1동</th>\n      <td>NaN</td>\n      <td>NaN</td>\n      <td>NaN</td>\n      <td>NaN</td>\n      <td>NaN</td>\n      <td>NaN</td>\n      <td>0.548630</td>\n      <td>9.331849</td>\n      <td>NaN</td>\n    </tr>\n    <tr>\n      <th>강동구상일2동</th>\n      <td>NaN</td>\n      <td>NaN</td>\n      <td>NaN</td>\n      <td>NaN</td>\n      <td>NaN</td>\n      <td>NaN</td>\n      <td>0.548630</td>\n      <td>9.331849</td>\n      <td>NaN</td>\n    </tr>\n    <tr>\n      <th>성북구장위3동</th>\n      <td>NaN</td>\n      <td>NaN</td>\n      <td>NaN</td>\n      <td>NaN</td>\n      <td>NaN</td>\n      <td>NaN</td>\n      <td>0.417259</td>\n      <td>8.044019</td>\n      <td>NaN</td>\n    </tr>\n    <tr>\n      <th>송파구잠실4동</th>\n      <td>NaN</td>\n      <td>NaN</td>\n      <td>NaN</td>\n      <td>NaN</td>\n      <td>NaN</td>\n      <td>NaN</td>\n      <td>0.527334</td>\n      <td>23.267580</td>\n      <td>NaN</td>\n    </tr>\n    <tr>\n      <th>송파구잠실6동</th>\n      <td>NaN</td>\n      <td>NaN</td>\n      <td>NaN</td>\n      <td>NaN</td>\n      <td>NaN</td>\n      <td>NaN</td>\n      <td>0.527334</td>\n      <td>23.267580</td>\n      <td>NaN</td>\n    </tr>\n  </tbody>\n</table>\n<p>426 rows × 9 columns</p>\n</div>"
     },
     "execution_count": 85,
     "metadata": {},
     "output_type": "execute_result"
    }
   ],
   "source": [
    "matrix_new"
   ],
   "metadata": {
    "collapsed": false,
    "ExecuteTime": {
     "end_time": "2023-10-31T03:21:59.278088Z",
     "start_time": "2023-10-31T03:21:59.270727Z"
    }
   },
   "id": "5aa50f87f575148d"
  },
  {
   "cell_type": "code",
   "execution_count": 86,
   "outputs": [],
   "source": [
    "matrix_new.spread = matrix_new.spread.fillna(matrix_new.spread.mean())\n",
    "matrix_new.spread[matrix_new.spread == -np.inf] = np.nan\n",
    "matrix_new.spread = matrix_new.spread.fillna(matrix_new.spread.mean())"
   ],
   "metadata": {
    "collapsed": false,
    "ExecuteTime": {
     "end_time": "2023-10-31T03:22:17.569538Z",
     "start_time": "2023-10-31T03:22:17.556624Z"
    }
   },
   "id": "45526b9fb01ce3a3"
  },
  {
   "cell_type": "code",
   "execution_count": 87,
   "outputs": [],
   "source": [
    "matrix_new.built_year = matrix_new.built_year.fillna(matrix_new.built_year.mean())\n",
    "matrix_new.built_year[matrix_new.built_year == -np.inf] = np.nan\n",
    "matrix_new.built_year = matrix_new.built_year.fillna(matrix_new.built_year.mean())"
   ],
   "metadata": {
    "collapsed": false,
    "ExecuteTime": {
     "end_time": "2023-10-31T03:22:50.125300Z",
     "start_time": "2023-10-31T03:22:50.109493Z"
    }
   },
   "id": "e7f3357ca1aac2b5"
  },
  {
   "cell_type": "code",
   "execution_count": 88,
   "outputs": [
    {
     "data": {
      "text/plain": "         populaion  density  foreign_rate  bsc_lvlhood_ratio  avg_income_amt  \\\n종로구사직동      9362.0      2.0      0.029160           0.027352        8.753692   \n종로구삼청동      2576.0      2.0      0.116071           0.039929        8.612424   \n종로구부암동      9377.0      2.0      0.028261           0.042151        8.567173   \n종로구평창동     17658.0      2.0      0.010307           0.019975        9.026260   \n종로구무악동      8015.0      3.0      0.003868           0.068439        8.381916   \n...            ...      ...           ...                ...             ...   \n강동구상일1동        NaN      NaN           NaN                NaN             NaN   \n강동구상일2동        NaN      NaN           NaN                NaN             NaN   \n성북구장위3동        NaN      NaN           NaN                NaN             NaN   \n송파구잠실4동        NaN      NaN           NaN                NaN             NaN   \n송파구잠실6동        NaN      NaN           NaN                NaN             NaN   \n\n         elder_ratio    spread  built_year  label  \n종로구사직동      0.203605  0.402121   26.422436    1.0  \n종로구삼청동      0.265542  0.402121   17.832706    0.0  \n종로구부암동      0.202824 -0.416352   26.440842    1.0  \n종로구평창동      0.205252  0.341060   21.872493    0.0  \n종로구무악동      0.187718  0.289968   22.173438    1.0  \n...              ...       ...         ...    ...  \n강동구상일1동          NaN  0.548630    9.331849    NaN  \n강동구상일2동          NaN  0.548630    9.331849    NaN  \n성북구장위3동          NaN  0.417259    8.044019    NaN  \n송파구잠실4동          NaN  0.527334   23.267580    NaN  \n송파구잠실6동          NaN  0.527334   23.267580    NaN  \n\n[426 rows x 9 columns]",
      "text/html": "<div>\n<style scoped>\n    .dataframe tbody tr th:only-of-type {\n        vertical-align: middle;\n    }\n\n    .dataframe tbody tr th {\n        vertical-align: top;\n    }\n\n    .dataframe thead th {\n        text-align: right;\n    }\n</style>\n<table border=\"1\" class=\"dataframe\">\n  <thead>\n    <tr style=\"text-align: right;\">\n      <th></th>\n      <th>populaion</th>\n      <th>density</th>\n      <th>foreign_rate</th>\n      <th>bsc_lvlhood_ratio</th>\n      <th>avg_income_amt</th>\n      <th>elder_ratio</th>\n      <th>spread</th>\n      <th>built_year</th>\n      <th>label</th>\n    </tr>\n  </thead>\n  <tbody>\n    <tr>\n      <th>종로구사직동</th>\n      <td>9362.0</td>\n      <td>2.0</td>\n      <td>0.029160</td>\n      <td>0.027352</td>\n      <td>8.753692</td>\n      <td>0.203605</td>\n      <td>0.402121</td>\n      <td>26.422436</td>\n      <td>1.0</td>\n    </tr>\n    <tr>\n      <th>종로구삼청동</th>\n      <td>2576.0</td>\n      <td>2.0</td>\n      <td>0.116071</td>\n      <td>0.039929</td>\n      <td>8.612424</td>\n      <td>0.265542</td>\n      <td>0.402121</td>\n      <td>17.832706</td>\n      <td>0.0</td>\n    </tr>\n    <tr>\n      <th>종로구부암동</th>\n      <td>9377.0</td>\n      <td>2.0</td>\n      <td>0.028261</td>\n      <td>0.042151</td>\n      <td>8.567173</td>\n      <td>0.202824</td>\n      <td>-0.416352</td>\n      <td>26.440842</td>\n      <td>1.0</td>\n    </tr>\n    <tr>\n      <th>종로구평창동</th>\n      <td>17658.0</td>\n      <td>2.0</td>\n      <td>0.010307</td>\n      <td>0.019975</td>\n      <td>9.026260</td>\n      <td>0.205252</td>\n      <td>0.341060</td>\n      <td>21.872493</td>\n      <td>0.0</td>\n    </tr>\n    <tr>\n      <th>종로구무악동</th>\n      <td>8015.0</td>\n      <td>3.0</td>\n      <td>0.003868</td>\n      <td>0.068439</td>\n      <td>8.381916</td>\n      <td>0.187718</td>\n      <td>0.289968</td>\n      <td>22.173438</td>\n      <td>1.0</td>\n    </tr>\n    <tr>\n      <th>...</th>\n      <td>...</td>\n      <td>...</td>\n      <td>...</td>\n      <td>...</td>\n      <td>...</td>\n      <td>...</td>\n      <td>...</td>\n      <td>...</td>\n      <td>...</td>\n    </tr>\n    <tr>\n      <th>강동구상일1동</th>\n      <td>NaN</td>\n      <td>NaN</td>\n      <td>NaN</td>\n      <td>NaN</td>\n      <td>NaN</td>\n      <td>NaN</td>\n      <td>0.548630</td>\n      <td>9.331849</td>\n      <td>NaN</td>\n    </tr>\n    <tr>\n      <th>강동구상일2동</th>\n      <td>NaN</td>\n      <td>NaN</td>\n      <td>NaN</td>\n      <td>NaN</td>\n      <td>NaN</td>\n      <td>NaN</td>\n      <td>0.548630</td>\n      <td>9.331849</td>\n      <td>NaN</td>\n    </tr>\n    <tr>\n      <th>성북구장위3동</th>\n      <td>NaN</td>\n      <td>NaN</td>\n      <td>NaN</td>\n      <td>NaN</td>\n      <td>NaN</td>\n      <td>NaN</td>\n      <td>0.417259</td>\n      <td>8.044019</td>\n      <td>NaN</td>\n    </tr>\n    <tr>\n      <th>송파구잠실4동</th>\n      <td>NaN</td>\n      <td>NaN</td>\n      <td>NaN</td>\n      <td>NaN</td>\n      <td>NaN</td>\n      <td>NaN</td>\n      <td>0.527334</td>\n      <td>23.267580</td>\n      <td>NaN</td>\n    </tr>\n    <tr>\n      <th>송파구잠실6동</th>\n      <td>NaN</td>\n      <td>NaN</td>\n      <td>NaN</td>\n      <td>NaN</td>\n      <td>NaN</td>\n      <td>NaN</td>\n      <td>0.527334</td>\n      <td>23.267580</td>\n      <td>NaN</td>\n    </tr>\n  </tbody>\n</table>\n<p>426 rows × 9 columns</p>\n</div>"
     },
     "execution_count": 88,
     "metadata": {},
     "output_type": "execute_result"
    }
   ],
   "source": [
    "matrix_new"
   ],
   "metadata": {
    "collapsed": false,
    "ExecuteTime": {
     "end_time": "2023-10-31T03:22:52.445882Z",
     "start_time": "2023-10-31T03:22:52.439007Z"
    }
   },
   "id": "6fde5beb7acbdf3a"
  },
  {
   "cell_type": "code",
   "execution_count": 89,
   "outputs": [],
   "source": [
    "# matrix_new.to_csv('../Data/feature_matrix.csv')"
   ],
   "metadata": {
    "collapsed": false,
    "ExecuteTime": {
     "end_time": "2023-10-31T03:22:59.321351Z",
     "start_time": "2023-10-31T03:22:59.293396Z"
    }
   },
   "id": "32cc07e329a2ecd0"
  },
  {
   "cell_type": "code",
   "execution_count": null,
   "outputs": [],
   "source": [],
   "metadata": {
    "collapsed": false
   },
   "id": "748b42d77b43304f"
  }
 ],
 "metadata": {
  "kernelspec": {
   "display_name": "Python 3",
   "language": "python",
   "name": "python3"
  },
  "language_info": {
   "codemirror_mode": {
    "name": "ipython",
    "version": 2
   },
   "file_extension": ".py",
   "mimetype": "text/x-python",
   "name": "python",
   "nbconvert_exporter": "python",
   "pygments_lexer": "ipython2",
   "version": "2.7.6"
  }
 },
 "nbformat": 4,
 "nbformat_minor": 5
}
