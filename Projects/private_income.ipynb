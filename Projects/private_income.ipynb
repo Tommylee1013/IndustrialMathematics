{
 "cells": [
  {
   "cell_type": "markdown",
   "source": [
    "### Private Income Cleaning"
   ],
   "metadata": {
    "collapsed": false
   },
   "id": "4df63953f6150557"
  },
  {
   "cell_type": "code",
   "execution_count": 1,
   "id": "initial_id",
   "metadata": {
    "collapsed": true,
    "ExecuteTime": {
     "end_time": "2023-10-11T07:44:49.395475Z",
     "start_time": "2023-10-11T07:44:48.729578Z"
    }
   },
   "outputs": [],
   "source": [
    "import pandas as pd\n",
    "import numpy as np\n",
    "import matplotlib.pyplot as plt"
   ]
  },
  {
   "cell_type": "code",
   "execution_count": 18,
   "outputs": [],
   "source": [
    "income = pd.read_csv('../Data/private_income.csv')[:730]"
   ],
   "metadata": {
    "collapsed": false,
    "ExecuteTime": {
     "end_time": "2023-10-11T07:52:17.165895Z",
     "start_time": "2023-10-11T07:52:17.139573Z"
    }
   },
   "id": "cf92d73fbf3bb982"
  },
  {
   "cell_type": "code",
   "execution_count": 19,
   "outputs": [
    {
     "data": {
      "text/plain": "           adstrd_nm   adstrd_cd legaldong_nm  legaldong_cd  tot_po  \\\n0    서울특별시 종로구 청운효자동  1111051500          청운동    1111010100   11680   \n1    서울특별시 종로구 청운효자동  1111051500          신교동    1111010200   11680   \n2    서울특별시 종로구 청운효자동  1111051500          궁정동    1111010300   11680   \n3    서울특별시 종로구 청운효자동  1111051500          효자동    1111010400   11680   \n4    서울특별시 종로구 청운효자동  1111051500          창성동    1111010500   11680   \n..               ...         ...          ...           ...     ...   \n725   서울특별시 강동구 성내2동  1174065000          성내동    1174010800   24026   \n726   서울특별시 강동구 성내3동  1174066000          성내동    1174010800   22682   \n727     서울특별시 강동구 길동  1174068500           길동    1174010500   44791   \n728   서울특별시 강동구 둔촌1동  1174069000          둔촌동    1174010600      36   \n729   서울특별시 강동구 둔촌2동  1174070000          둔촌동    1174010600   26071   \n\n     tot_hshld_co  hshld_per_po  ave_income_amt  \n0            4715          2.48         9049.02  \n1            4715          2.48         5544.59  \n2            4715          2.48         7078.69  \n3            4715          2.48         5403.79  \n4            4715          2.48         5345.71  \n..            ...           ...             ...  \n725         11954          2.01         6010.61  \n726          9716          2.33         6010.61  \n727         19714          2.27         6449.34  \n728            14          2.57         5761.60  \n729         10041          2.60         5761.60  \n\n[730 rows x 8 columns]",
      "text/html": "<div>\n<style scoped>\n    .dataframe tbody tr th:only-of-type {\n        vertical-align: middle;\n    }\n\n    .dataframe tbody tr th {\n        vertical-align: top;\n    }\n\n    .dataframe thead th {\n        text-align: right;\n    }\n</style>\n<table border=\"1\" class=\"dataframe\">\n  <thead>\n    <tr style=\"text-align: right;\">\n      <th></th>\n      <th>adstrd_nm</th>\n      <th>adstrd_cd</th>\n      <th>legaldong_nm</th>\n      <th>legaldong_cd</th>\n      <th>tot_po</th>\n      <th>tot_hshld_co</th>\n      <th>hshld_per_po</th>\n      <th>ave_income_amt</th>\n    </tr>\n  </thead>\n  <tbody>\n    <tr>\n      <th>0</th>\n      <td>서울특별시 종로구 청운효자동</td>\n      <td>1111051500</td>\n      <td>청운동</td>\n      <td>1111010100</td>\n      <td>11680</td>\n      <td>4715</td>\n      <td>2.48</td>\n      <td>9049.02</td>\n    </tr>\n    <tr>\n      <th>1</th>\n      <td>서울특별시 종로구 청운효자동</td>\n      <td>1111051500</td>\n      <td>신교동</td>\n      <td>1111010200</td>\n      <td>11680</td>\n      <td>4715</td>\n      <td>2.48</td>\n      <td>5544.59</td>\n    </tr>\n    <tr>\n      <th>2</th>\n      <td>서울특별시 종로구 청운효자동</td>\n      <td>1111051500</td>\n      <td>궁정동</td>\n      <td>1111010300</td>\n      <td>11680</td>\n      <td>4715</td>\n      <td>2.48</td>\n      <td>7078.69</td>\n    </tr>\n    <tr>\n      <th>3</th>\n      <td>서울특별시 종로구 청운효자동</td>\n      <td>1111051500</td>\n      <td>효자동</td>\n      <td>1111010400</td>\n      <td>11680</td>\n      <td>4715</td>\n      <td>2.48</td>\n      <td>5403.79</td>\n    </tr>\n    <tr>\n      <th>4</th>\n      <td>서울특별시 종로구 청운효자동</td>\n      <td>1111051500</td>\n      <td>창성동</td>\n      <td>1111010500</td>\n      <td>11680</td>\n      <td>4715</td>\n      <td>2.48</td>\n      <td>5345.71</td>\n    </tr>\n    <tr>\n      <th>...</th>\n      <td>...</td>\n      <td>...</td>\n      <td>...</td>\n      <td>...</td>\n      <td>...</td>\n      <td>...</td>\n      <td>...</td>\n      <td>...</td>\n    </tr>\n    <tr>\n      <th>725</th>\n      <td>서울특별시 강동구 성내2동</td>\n      <td>1174065000</td>\n      <td>성내동</td>\n      <td>1174010800</td>\n      <td>24026</td>\n      <td>11954</td>\n      <td>2.01</td>\n      <td>6010.61</td>\n    </tr>\n    <tr>\n      <th>726</th>\n      <td>서울특별시 강동구 성내3동</td>\n      <td>1174066000</td>\n      <td>성내동</td>\n      <td>1174010800</td>\n      <td>22682</td>\n      <td>9716</td>\n      <td>2.33</td>\n      <td>6010.61</td>\n    </tr>\n    <tr>\n      <th>727</th>\n      <td>서울특별시 강동구 길동</td>\n      <td>1174068500</td>\n      <td>길동</td>\n      <td>1174010500</td>\n      <td>44791</td>\n      <td>19714</td>\n      <td>2.27</td>\n      <td>6449.34</td>\n    </tr>\n    <tr>\n      <th>728</th>\n      <td>서울특별시 강동구 둔촌1동</td>\n      <td>1174069000</td>\n      <td>둔촌동</td>\n      <td>1174010600</td>\n      <td>36</td>\n      <td>14</td>\n      <td>2.57</td>\n      <td>5761.60</td>\n    </tr>\n    <tr>\n      <th>729</th>\n      <td>서울특별시 강동구 둔촌2동</td>\n      <td>1174070000</td>\n      <td>둔촌동</td>\n      <td>1174010600</td>\n      <td>26071</td>\n      <td>10041</td>\n      <td>2.60</td>\n      <td>5761.60</td>\n    </tr>\n  </tbody>\n</table>\n<p>730 rows × 8 columns</p>\n</div>"
     },
     "execution_count": 19,
     "metadata": {},
     "output_type": "execute_result"
    }
   ],
   "source": [
    "income"
   ],
   "metadata": {
    "collapsed": false,
    "ExecuteTime": {
     "end_time": "2023-10-11T07:52:17.477955Z",
     "start_time": "2023-10-11T07:52:17.474292Z"
    }
   },
   "id": "b81a7226eaeeb34e"
  },
  {
   "cell_type": "code",
   "execution_count": 20,
   "outputs": [],
   "source": [
    "income.index = income.adstrd_nm.str.replace('서울특별시','').str.replace(' ','')"
   ],
   "metadata": {
    "collapsed": false,
    "ExecuteTime": {
     "end_time": "2023-10-11T07:52:17.984194Z",
     "start_time": "2023-10-11T07:52:17.977548Z"
    }
   },
   "id": "656cde7e68708fe1"
  },
  {
   "cell_type": "markdown",
   "source": [
    "서울특별시 : 729까지 있음"
   ],
   "metadata": {
    "collapsed": false
   },
   "id": "5eb339f921450157"
  },
  {
   "cell_type": "markdown",
   "source": [
    "617 : 경기도 양주시"
   ],
   "metadata": {
    "collapsed": false
   },
   "id": "44e40726691ed1a0"
  },
  {
   "cell_type": "code",
   "execution_count": 24,
   "outputs": [],
   "source": [
    "income['find'] = income.index"
   ],
   "metadata": {
    "collapsed": false,
    "ExecuteTime": {
     "end_time": "2023-10-11T07:55:26.240708Z",
     "start_time": "2023-10-11T07:55:26.237595Z"
    }
   },
   "id": "3ec4d7f297c6e702"
  },
  {
   "cell_type": "code",
   "execution_count": 26,
   "outputs": [],
   "source": [
    "income_new = income.groupby('find')['ave_income_amt'].mean()"
   ],
   "metadata": {
    "collapsed": false,
    "ExecuteTime": {
     "end_time": "2023-10-11T07:56:21.324406Z",
     "start_time": "2023-10-11T07:56:21.315607Z"
    }
   },
   "id": "a3026e7d3b89c066"
  },
  {
   "cell_type": "code",
   "execution_count": 27,
   "outputs": [
    {
     "data": {
      "text/plain": "find\n강남구개포1동     8492.840\n강남구개포2동     9551.995\n강남구개포4동     8492.840\n강남구논현1동    13078.130\n강남구논현2동    13078.130\n             ...    \n중랑구상봉2동     3987.760\n중랑구신내1동     3837.790\n중랑구신내2동     3837.790\n중랑구중화1동     3967.030\n중랑구중화2동     3967.030\nName: ave_income_amt, Length: 424, dtype: float64"
     },
     "execution_count": 27,
     "metadata": {},
     "output_type": "execute_result"
    }
   ],
   "source": [
    "income_new"
   ],
   "metadata": {
    "collapsed": false,
    "ExecuteTime": {
     "end_time": "2023-10-11T07:56:24.647896Z",
     "start_time": "2023-10-11T07:56:24.638330Z"
    }
   },
   "id": "705ff6f59b0dd556"
  }
 ],
 "metadata": {
  "kernelspec": {
   "display_name": "Python 3",
   "language": "python",
   "name": "python3"
  },
  "language_info": {
   "codemirror_mode": {
    "name": "ipython",
    "version": 2
   },
   "file_extension": ".py",
   "mimetype": "text/x-python",
   "name": "python",
   "nbconvert_exporter": "python",
   "pygments_lexer": "ipython2",
   "version": "2.7.6"
  }
 },
 "nbformat": 4,
 "nbformat_minor": 5
}
