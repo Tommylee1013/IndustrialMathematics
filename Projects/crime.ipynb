{
 "cells": [
  {
   "cell_type": "markdown",
   "source": [
    "### 서울시 범죄율 데이터"
   ],
   "metadata": {
    "collapsed": false
   },
   "id": "146c5f4d4734232c"
  },
  {
   "cell_type": "code",
   "execution_count": 1,
   "id": "initial_id",
   "metadata": {
    "collapsed": true,
    "ExecuteTime": {
     "end_time": "2023-11-12T14:54:23.436537Z",
     "start_time": "2023-11-12T14:54:23.433492Z"
    }
   },
   "outputs": [],
   "source": [
    "import pandas as pd\n",
    "import numpy as np"
   ]
  },
  {
   "cell_type": "code",
   "execution_count": 3,
   "outputs": [
    {
     "data": {
      "text/plain": "       구   행정동  레벨\n0    강서구  가양1동   3\n1    NaN  가양2동   3\n2    NaN  가양3동   3\n3    NaN   공항동   4\n4    NaN  등촌1동   2\n..   ...   ...  ..\n421  NaN  중곡1동   1\n422  NaN  중곡2동   1\n423  NaN  중곡3동   1\n424  NaN  중곡4동   2\n425  NaN   화양동   3\n\n[426 rows x 3 columns]",
      "text/html": "<div>\n<style scoped>\n    .dataframe tbody tr th:only-of-type {\n        vertical-align: middle;\n    }\n\n    .dataframe tbody tr th {\n        vertical-align: top;\n    }\n\n    .dataframe thead th {\n        text-align: right;\n    }\n</style>\n<table border=\"1\" class=\"dataframe\">\n  <thead>\n    <tr style=\"text-align: right;\">\n      <th></th>\n      <th>구</th>\n      <th>행정동</th>\n      <th>레벨</th>\n    </tr>\n  </thead>\n  <tbody>\n    <tr>\n      <th>0</th>\n      <td>강서구</td>\n      <td>가양1동</td>\n      <td>3</td>\n    </tr>\n    <tr>\n      <th>1</th>\n      <td>NaN</td>\n      <td>가양2동</td>\n      <td>3</td>\n    </tr>\n    <tr>\n      <th>2</th>\n      <td>NaN</td>\n      <td>가양3동</td>\n      <td>3</td>\n    </tr>\n    <tr>\n      <th>3</th>\n      <td>NaN</td>\n      <td>공항동</td>\n      <td>4</td>\n    </tr>\n    <tr>\n      <th>4</th>\n      <td>NaN</td>\n      <td>등촌1동</td>\n      <td>2</td>\n    </tr>\n    <tr>\n      <th>...</th>\n      <td>...</td>\n      <td>...</td>\n      <td>...</td>\n    </tr>\n    <tr>\n      <th>421</th>\n      <td>NaN</td>\n      <td>중곡1동</td>\n      <td>1</td>\n    </tr>\n    <tr>\n      <th>422</th>\n      <td>NaN</td>\n      <td>중곡2동</td>\n      <td>1</td>\n    </tr>\n    <tr>\n      <th>423</th>\n      <td>NaN</td>\n      <td>중곡3동</td>\n      <td>1</td>\n    </tr>\n    <tr>\n      <th>424</th>\n      <td>NaN</td>\n      <td>중곡4동</td>\n      <td>2</td>\n    </tr>\n    <tr>\n      <th>425</th>\n      <td>NaN</td>\n      <td>화양동</td>\n      <td>3</td>\n    </tr>\n  </tbody>\n</table>\n<p>426 rows × 3 columns</p>\n</div>"
     },
     "execution_count": 3,
     "metadata": {},
     "output_type": "execute_result"
    }
   ],
   "source": [
    "robbery = pd.read_excel('../Data/서울시 범죄율_강도.xlsx')\n",
    "robbery"
   ],
   "metadata": {
    "collapsed": false,
    "ExecuteTime": {
     "end_time": "2023-11-12T14:56:41.357392Z",
     "start_time": "2023-11-12T14:56:41.330991Z"
    }
   },
   "id": "cd8686515adfd1ef"
  },
  {
   "cell_type": "code",
   "execution_count": 6,
   "outputs": [
    {
     "data": {
      "text/plain": "           구   행정동  레벨\n강서구가양1동  강서구  가양1동   3\n강서구가양2동  강서구  가양2동   3\n강서구가양3동  강서구  가양3동   3\n강서구공항동   강서구   공항동   4\n강서구등촌1동  강서구  등촌1동   2\n...      ...   ...  ..\n광진구중곡1동  광진구  중곡1동   1\n광진구중곡2동  광진구  중곡2동   1\n광진구중곡3동  광진구  중곡3동   1\n광진구중곡4동  광진구  중곡4동   2\n광진구화양동   광진구   화양동   3\n\n[426 rows x 3 columns]",
      "text/html": "<div>\n<style scoped>\n    .dataframe tbody tr th:only-of-type {\n        vertical-align: middle;\n    }\n\n    .dataframe tbody tr th {\n        vertical-align: top;\n    }\n\n    .dataframe thead th {\n        text-align: right;\n    }\n</style>\n<table border=\"1\" class=\"dataframe\">\n  <thead>\n    <tr style=\"text-align: right;\">\n      <th></th>\n      <th>구</th>\n      <th>행정동</th>\n      <th>레벨</th>\n    </tr>\n  </thead>\n  <tbody>\n    <tr>\n      <th>강서구가양1동</th>\n      <td>강서구</td>\n      <td>가양1동</td>\n      <td>3</td>\n    </tr>\n    <tr>\n      <th>강서구가양2동</th>\n      <td>강서구</td>\n      <td>가양2동</td>\n      <td>3</td>\n    </tr>\n    <tr>\n      <th>강서구가양3동</th>\n      <td>강서구</td>\n      <td>가양3동</td>\n      <td>3</td>\n    </tr>\n    <tr>\n      <th>강서구공항동</th>\n      <td>강서구</td>\n      <td>공항동</td>\n      <td>4</td>\n    </tr>\n    <tr>\n      <th>강서구등촌1동</th>\n      <td>강서구</td>\n      <td>등촌1동</td>\n      <td>2</td>\n    </tr>\n    <tr>\n      <th>...</th>\n      <td>...</td>\n      <td>...</td>\n      <td>...</td>\n    </tr>\n    <tr>\n      <th>광진구중곡1동</th>\n      <td>광진구</td>\n      <td>중곡1동</td>\n      <td>1</td>\n    </tr>\n    <tr>\n      <th>광진구중곡2동</th>\n      <td>광진구</td>\n      <td>중곡2동</td>\n      <td>1</td>\n    </tr>\n    <tr>\n      <th>광진구중곡3동</th>\n      <td>광진구</td>\n      <td>중곡3동</td>\n      <td>1</td>\n    </tr>\n    <tr>\n      <th>광진구중곡4동</th>\n      <td>광진구</td>\n      <td>중곡4동</td>\n      <td>2</td>\n    </tr>\n    <tr>\n      <th>광진구화양동</th>\n      <td>광진구</td>\n      <td>화양동</td>\n      <td>3</td>\n    </tr>\n  </tbody>\n</table>\n<p>426 rows × 3 columns</p>\n</div>"
     },
     "execution_count": 6,
     "metadata": {},
     "output_type": "execute_result"
    }
   ],
   "source": [
    "robbery['구'].fillna(method = 'ffill', inplace = True)\n",
    "robbery.index = robbery['구'] + robbery['행정동']\n",
    "robbery"
   ],
   "metadata": {
    "collapsed": false,
    "ExecuteTime": {
     "end_time": "2023-11-12T15:20:09.808930Z",
     "start_time": "2023-11-12T15:20:09.804668Z"
    }
   },
   "id": "a9c2d6af20d21a60"
  },
  {
   "cell_type": "code",
   "execution_count": 7,
   "outputs": [],
   "source": [
    "sexual = pd.read_excel('../Data/서울시 범죄율_성폭력.xlsx')\n",
    "sexual['구'].fillna(method = 'ffill', inplace = True)\n",
    "sexual.index = sexual['구'] + sexual['행정동']"
   ],
   "metadata": {
    "collapsed": false,
    "ExecuteTime": {
     "end_time": "2023-11-12T15:20:47.419927Z",
     "start_time": "2023-11-12T15:20:47.383092Z"
    }
   },
   "id": "bde5ec4bd7b3987a"
  },
  {
   "cell_type": "code",
   "execution_count": 8,
   "outputs": [
    {
     "data": {
      "text/plain": "           구   행정동  레벨\n강서구가양1동  강서구  가양1동   4\n강서구가양2동  강서구  가양2동   4\n강서구가양3동  강서구  가양3동   4\n강서구공항동   강서구   공항동   5\n강서구등촌1동  강서구  등촌1동   1\n...      ...   ...  ..\n광진구중곡1동  광진구  중곡1동   1\n광진구중곡2동  광진구  중곡2동   1\n광진구중곡3동  광진구  중곡3동   1\n광진구중곡4동  광진구  중곡4동   1\n광진구화양동   광진구   화양동   4\n\n[426 rows x 3 columns]",
      "text/html": "<div>\n<style scoped>\n    .dataframe tbody tr th:only-of-type {\n        vertical-align: middle;\n    }\n\n    .dataframe tbody tr th {\n        vertical-align: top;\n    }\n\n    .dataframe thead th {\n        text-align: right;\n    }\n</style>\n<table border=\"1\" class=\"dataframe\">\n  <thead>\n    <tr style=\"text-align: right;\">\n      <th></th>\n      <th>구</th>\n      <th>행정동</th>\n      <th>레벨</th>\n    </tr>\n  </thead>\n  <tbody>\n    <tr>\n      <th>강서구가양1동</th>\n      <td>강서구</td>\n      <td>가양1동</td>\n      <td>4</td>\n    </tr>\n    <tr>\n      <th>강서구가양2동</th>\n      <td>강서구</td>\n      <td>가양2동</td>\n      <td>4</td>\n    </tr>\n    <tr>\n      <th>강서구가양3동</th>\n      <td>강서구</td>\n      <td>가양3동</td>\n      <td>4</td>\n    </tr>\n    <tr>\n      <th>강서구공항동</th>\n      <td>강서구</td>\n      <td>공항동</td>\n      <td>5</td>\n    </tr>\n    <tr>\n      <th>강서구등촌1동</th>\n      <td>강서구</td>\n      <td>등촌1동</td>\n      <td>1</td>\n    </tr>\n    <tr>\n      <th>...</th>\n      <td>...</td>\n      <td>...</td>\n      <td>...</td>\n    </tr>\n    <tr>\n      <th>광진구중곡1동</th>\n      <td>광진구</td>\n      <td>중곡1동</td>\n      <td>1</td>\n    </tr>\n    <tr>\n      <th>광진구중곡2동</th>\n      <td>광진구</td>\n      <td>중곡2동</td>\n      <td>1</td>\n    </tr>\n    <tr>\n      <th>광진구중곡3동</th>\n      <td>광진구</td>\n      <td>중곡3동</td>\n      <td>1</td>\n    </tr>\n    <tr>\n      <th>광진구중곡4동</th>\n      <td>광진구</td>\n      <td>중곡4동</td>\n      <td>1</td>\n    </tr>\n    <tr>\n      <th>광진구화양동</th>\n      <td>광진구</td>\n      <td>화양동</td>\n      <td>4</td>\n    </tr>\n  </tbody>\n</table>\n<p>426 rows × 3 columns</p>\n</div>"
     },
     "execution_count": 8,
     "metadata": {},
     "output_type": "execute_result"
    }
   ],
   "source": [
    "murder = pd.read_excel('../Data/서울시 범죄율_살인.xlsx')\n",
    "murder['구'].fillna(method = 'ffill', inplace = True)\n",
    "murder.index = murder['구'] + murder['행정동']\n",
    "murder"
   ],
   "metadata": {
    "collapsed": false,
    "ExecuteTime": {
     "end_time": "2023-11-12T15:21:10.353779Z",
     "start_time": "2023-11-12T15:21:10.322675Z"
    }
   },
   "id": "cb7e5e1efd3fafc4"
  },
  {
   "cell_type": "code",
   "execution_count": 10,
   "outputs": [
    {
     "data": {
      "text/plain": "         robbery  sexual  murder\n강서구가양1동        3       5       4\n강서구가양2동        3       5       4\n강서구가양3동        3       5       4\n강서구공항동         4       4       5\n강서구등촌1동        2       4       1\n...          ...     ...     ...\n광진구중곡1동        1       2       1\n광진구중곡2동        1       1       1\n광진구중곡3동        1       2       1\n광진구중곡4동        2       1       1\n광진구화양동         3       5       4\n\n[426 rows x 3 columns]",
      "text/html": "<div>\n<style scoped>\n    .dataframe tbody tr th:only-of-type {\n        vertical-align: middle;\n    }\n\n    .dataframe tbody tr th {\n        vertical-align: top;\n    }\n\n    .dataframe thead th {\n        text-align: right;\n    }\n</style>\n<table border=\"1\" class=\"dataframe\">\n  <thead>\n    <tr style=\"text-align: right;\">\n      <th></th>\n      <th>robbery</th>\n      <th>sexual</th>\n      <th>murder</th>\n    </tr>\n  </thead>\n  <tbody>\n    <tr>\n      <th>강서구가양1동</th>\n      <td>3</td>\n      <td>5</td>\n      <td>4</td>\n    </tr>\n    <tr>\n      <th>강서구가양2동</th>\n      <td>3</td>\n      <td>5</td>\n      <td>4</td>\n    </tr>\n    <tr>\n      <th>강서구가양3동</th>\n      <td>3</td>\n      <td>5</td>\n      <td>4</td>\n    </tr>\n    <tr>\n      <th>강서구공항동</th>\n      <td>4</td>\n      <td>4</td>\n      <td>5</td>\n    </tr>\n    <tr>\n      <th>강서구등촌1동</th>\n      <td>2</td>\n      <td>4</td>\n      <td>1</td>\n    </tr>\n    <tr>\n      <th>...</th>\n      <td>...</td>\n      <td>...</td>\n      <td>...</td>\n    </tr>\n    <tr>\n      <th>광진구중곡1동</th>\n      <td>1</td>\n      <td>2</td>\n      <td>1</td>\n    </tr>\n    <tr>\n      <th>광진구중곡2동</th>\n      <td>1</td>\n      <td>1</td>\n      <td>1</td>\n    </tr>\n    <tr>\n      <th>광진구중곡3동</th>\n      <td>1</td>\n      <td>2</td>\n      <td>1</td>\n    </tr>\n    <tr>\n      <th>광진구중곡4동</th>\n      <td>2</td>\n      <td>1</td>\n      <td>1</td>\n    </tr>\n    <tr>\n      <th>광진구화양동</th>\n      <td>3</td>\n      <td>5</td>\n      <td>4</td>\n    </tr>\n  </tbody>\n</table>\n<p>426 rows × 3 columns</p>\n</div>"
     },
     "execution_count": 10,
     "metadata": {},
     "output_type": "execute_result"
    }
   ],
   "source": [
    "matrix = pd.concat([robbery['레벨'], sexual['레벨'], murder['레벨']], axis = 1)\n",
    "matrix.columns = ['robbery','sexual','murder']\n",
    "matrix"
   ],
   "metadata": {
    "collapsed": false,
    "ExecuteTime": {
     "end_time": "2023-11-12T15:22:21.188976Z",
     "start_time": "2023-11-12T15:22:21.184417Z"
    }
   },
   "id": "253bd9d42c66ceef"
  },
  {
   "cell_type": "code",
   "execution_count": 14,
   "outputs": [
    {
     "data": {
      "text/plain": "         robbery  sexual  murder  crime\n강서구가양1동        3       5       4   0.82\n강서구가양2동        3       5       4   0.82\n강서구가양3동        3       5       4   0.82\n강서구공항동         4       4       5   0.90\n강서구등촌1동        2       4       1   0.42\n...          ...     ...     ...    ...\n광진구중곡1동        1       2       1   0.26\n광진구중곡2동        1       1       1   0.20\n광진구중곡3동        1       2       1   0.26\n광진구중곡4동        2       1       1   0.24\n광진구화양동         3       5       4   0.82\n\n[426 rows x 4 columns]",
      "text/html": "<div>\n<style scoped>\n    .dataframe tbody tr th:only-of-type {\n        vertical-align: middle;\n    }\n\n    .dataframe tbody tr th {\n        vertical-align: top;\n    }\n\n    .dataframe thead th {\n        text-align: right;\n    }\n</style>\n<table border=\"1\" class=\"dataframe\">\n  <thead>\n    <tr style=\"text-align: right;\">\n      <th></th>\n      <th>robbery</th>\n      <th>sexual</th>\n      <th>murder</th>\n      <th>crime</th>\n    </tr>\n  </thead>\n  <tbody>\n    <tr>\n      <th>강서구가양1동</th>\n      <td>3</td>\n      <td>5</td>\n      <td>4</td>\n      <td>0.82</td>\n    </tr>\n    <tr>\n      <th>강서구가양2동</th>\n      <td>3</td>\n      <td>5</td>\n      <td>4</td>\n      <td>0.82</td>\n    </tr>\n    <tr>\n      <th>강서구가양3동</th>\n      <td>3</td>\n      <td>5</td>\n      <td>4</td>\n      <td>0.82</td>\n    </tr>\n    <tr>\n      <th>강서구공항동</th>\n      <td>4</td>\n      <td>4</td>\n      <td>5</td>\n      <td>0.90</td>\n    </tr>\n    <tr>\n      <th>강서구등촌1동</th>\n      <td>2</td>\n      <td>4</td>\n      <td>1</td>\n      <td>0.42</td>\n    </tr>\n    <tr>\n      <th>...</th>\n      <td>...</td>\n      <td>...</td>\n      <td>...</td>\n      <td>...</td>\n    </tr>\n    <tr>\n      <th>광진구중곡1동</th>\n      <td>1</td>\n      <td>2</td>\n      <td>1</td>\n      <td>0.26</td>\n    </tr>\n    <tr>\n      <th>광진구중곡2동</th>\n      <td>1</td>\n      <td>1</td>\n      <td>1</td>\n      <td>0.20</td>\n    </tr>\n    <tr>\n      <th>광진구중곡3동</th>\n      <td>1</td>\n      <td>2</td>\n      <td>1</td>\n      <td>0.26</td>\n    </tr>\n    <tr>\n      <th>광진구중곡4동</th>\n      <td>2</td>\n      <td>1</td>\n      <td>1</td>\n      <td>0.24</td>\n    </tr>\n    <tr>\n      <th>광진구화양동</th>\n      <td>3</td>\n      <td>5</td>\n      <td>4</td>\n      <td>0.82</td>\n    </tr>\n  </tbody>\n</table>\n<p>426 rows × 4 columns</p>\n</div>"
     },
     "execution_count": 14,
     "metadata": {},
     "output_type": "execute_result"
    }
   ],
   "source": [
    "matrix['crime'] = (matrix['robbery']*0.2 + matrix['sexual']*0.3 + matrix['murder']*0.5) / 5\n",
    "matrix"
   ],
   "metadata": {
    "collapsed": false,
    "ExecuteTime": {
     "end_time": "2023-11-12T15:26:00.901722Z",
     "start_time": "2023-11-12T15:26:00.897689Z"
    }
   },
   "id": "fe07150db6781f37"
  },
  {
   "cell_type": "code",
   "execution_count": 15,
   "outputs": [],
   "source": [
    "matrix.to_csv('crime.csv')"
   ],
   "metadata": {
    "collapsed": false,
    "ExecuteTime": {
     "end_time": "2023-11-12T15:26:50.021083Z",
     "start_time": "2023-11-12T15:26:50.001902Z"
    }
   },
   "id": "9ef1bd4db578cfd8"
  }
 ],
 "metadata": {
  "kernelspec": {
   "display_name": "Python 3",
   "language": "python",
   "name": "python3"
  },
  "language_info": {
   "codemirror_mode": {
    "name": "ipython",
    "version": 2
   },
   "file_extension": ".py",
   "mimetype": "text/x-python",
   "name": "python",
   "nbconvert_exporter": "python",
   "pygments_lexer": "ipython2",
   "version": "2.7.6"
  }
 },
 "nbformat": 4,
 "nbformat_minor": 5
}
