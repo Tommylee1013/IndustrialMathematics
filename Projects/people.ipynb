{
 "cells": [
  {
   "cell_type": "markdown",
   "source": [
    "### 유동인구"
   ],
   "metadata": {
    "collapsed": false
   },
   "id": "532dc281337aac0a"
  },
  {
   "cell_type": "code",
   "execution_count": 27,
   "id": "initial_id",
   "metadata": {
    "collapsed": true,
    "ExecuteTime": {
     "end_time": "2023-11-07T04:00:44.437086Z",
     "start_time": "2023-11-07T04:00:44.413465Z"
    }
   },
   "outputs": [],
   "source": [
    "import pandas as pd\n",
    "import numpy as np\n",
    "\n",
    "people = pd.read_excel('../Data/density.xlsx')"
   ]
  },
  {
   "cell_type": "code",
   "execution_count": 28,
   "outputs": [
    {
     "data": {
      "text/plain": "    동별(2) 동별(3)   인구 (명)  면적 (㎢)  인구밀도 (명/㎢)\n0      소계    소계  9667669  605.21       15974\n1     종로구    소계   152211   23.91        6365\n2     NaN   사직동     9355    1.23        7606\n3     NaN   삼청동     2642    1.49        1773\n4     NaN   부암동     9536    2.27        4201\n..    ...   ...      ...     ...         ...\n447   NaN  천호2동    33825    1.57       21545\n448   NaN    길동    45374    1.61       28183\n449   NaN   강일동    33057    2.26       14627\n450   NaN  상일1동    39178    1.82       21526\n451   NaN  상일2동    11933    1.09       10948\n\n[452 rows x 5 columns]",
      "text/html": "<div>\n<style scoped>\n    .dataframe tbody tr th:only-of-type {\n        vertical-align: middle;\n    }\n\n    .dataframe tbody tr th {\n        vertical-align: top;\n    }\n\n    .dataframe thead th {\n        text-align: right;\n    }\n</style>\n<table border=\"1\" class=\"dataframe\">\n  <thead>\n    <tr style=\"text-align: right;\">\n      <th></th>\n      <th>동별(2)</th>\n      <th>동별(3)</th>\n      <th>인구 (명)</th>\n      <th>면적 (㎢)</th>\n      <th>인구밀도 (명/㎢)</th>\n    </tr>\n  </thead>\n  <tbody>\n    <tr>\n      <th>0</th>\n      <td>소계</td>\n      <td>소계</td>\n      <td>9667669</td>\n      <td>605.21</td>\n      <td>15974</td>\n    </tr>\n    <tr>\n      <th>1</th>\n      <td>종로구</td>\n      <td>소계</td>\n      <td>152211</td>\n      <td>23.91</td>\n      <td>6365</td>\n    </tr>\n    <tr>\n      <th>2</th>\n      <td>NaN</td>\n      <td>사직동</td>\n      <td>9355</td>\n      <td>1.23</td>\n      <td>7606</td>\n    </tr>\n    <tr>\n      <th>3</th>\n      <td>NaN</td>\n      <td>삼청동</td>\n      <td>2642</td>\n      <td>1.49</td>\n      <td>1773</td>\n    </tr>\n    <tr>\n      <th>4</th>\n      <td>NaN</td>\n      <td>부암동</td>\n      <td>9536</td>\n      <td>2.27</td>\n      <td>4201</td>\n    </tr>\n    <tr>\n      <th>...</th>\n      <td>...</td>\n      <td>...</td>\n      <td>...</td>\n      <td>...</td>\n      <td>...</td>\n    </tr>\n    <tr>\n      <th>447</th>\n      <td>NaN</td>\n      <td>천호2동</td>\n      <td>33825</td>\n      <td>1.57</td>\n      <td>21545</td>\n    </tr>\n    <tr>\n      <th>448</th>\n      <td>NaN</td>\n      <td>길동</td>\n      <td>45374</td>\n      <td>1.61</td>\n      <td>28183</td>\n    </tr>\n    <tr>\n      <th>449</th>\n      <td>NaN</td>\n      <td>강일동</td>\n      <td>33057</td>\n      <td>2.26</td>\n      <td>14627</td>\n    </tr>\n    <tr>\n      <th>450</th>\n      <td>NaN</td>\n      <td>상일1동</td>\n      <td>39178</td>\n      <td>1.82</td>\n      <td>21526</td>\n    </tr>\n    <tr>\n      <th>451</th>\n      <td>NaN</td>\n      <td>상일2동</td>\n      <td>11933</td>\n      <td>1.09</td>\n      <td>10948</td>\n    </tr>\n  </tbody>\n</table>\n<p>452 rows × 5 columns</p>\n</div>"
     },
     "execution_count": 28,
     "metadata": {},
     "output_type": "execute_result"
    }
   ],
   "source": [
    "people"
   ],
   "metadata": {
    "collapsed": false,
    "ExecuteTime": {
     "end_time": "2023-11-07T04:00:45.055422Z",
     "start_time": "2023-11-07T04:00:45.051029Z"
    }
   },
   "id": "f9531623d8858228"
  },
  {
   "cell_type": "code",
   "execution_count": 31,
   "outputs": [],
   "source": [
    "people['동별(2)'].fillna(method = 'ffill', inplace = True)"
   ],
   "metadata": {
    "collapsed": false,
    "ExecuteTime": {
     "end_time": "2023-11-07T04:01:14.959856Z",
     "start_time": "2023-11-07T04:01:14.952691Z"
    }
   },
   "id": "902853d7d72b974d"
  },
  {
   "cell_type": "code",
   "execution_count": 33,
   "outputs": [],
   "source": [
    "people.index = people['동별(2)'] + people['동별(3)']"
   ],
   "metadata": {
    "collapsed": false,
    "ExecuteTime": {
     "end_time": "2023-11-07T04:01:54.721517Z",
     "start_time": "2023-11-07T04:01:54.708444Z"
    }
   },
   "id": "bde39599396ee2cd"
  },
  {
   "cell_type": "code",
   "execution_count": 35,
   "outputs": [],
   "source": [
    "people.columns = ['dummy1','dummy2','pop','region','density']"
   ],
   "metadata": {
    "collapsed": false,
    "ExecuteTime": {
     "end_time": "2023-11-07T04:02:33.626371Z",
     "start_time": "2023-11-07T04:02:33.619278Z"
    }
   },
   "id": "dc46604241d54a22"
  },
  {
   "cell_type": "code",
   "execution_count": 39,
   "outputs": [],
   "source": [
    "people.iloc[:,-1].to_csv('../Data/popden.csv')"
   ],
   "metadata": {
    "collapsed": false,
    "ExecuteTime": {
     "end_time": "2023-11-07T04:03:19.699166Z",
     "start_time": "2023-11-07T04:03:19.690972Z"
    }
   },
   "id": "3af66ceaa822b0ab"
  },
  {
   "cell_type": "code",
   "execution_count": null,
   "outputs": [],
   "source": [],
   "metadata": {
    "collapsed": false
   },
   "id": "d8bb9d736b5cc25f"
  }
 ],
 "metadata": {
  "kernelspec": {
   "display_name": "Python 3",
   "language": "python",
   "name": "python3"
  },
  "language_info": {
   "codemirror_mode": {
    "name": "ipython",
    "version": 2
   },
   "file_extension": ".py",
   "mimetype": "text/x-python",
   "name": "python",
   "nbconvert_exporter": "python",
   "pygments_lexer": "ipython2",
   "version": "2.7.6"
  }
 },
 "nbformat": 4,
 "nbformat_minor": 5
}
