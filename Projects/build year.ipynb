{
 "cells": [
  {
   "cell_type": "markdown",
   "source": [
    "### Build Year Preprocessing"
   ],
   "metadata": {
    "collapsed": false
   },
   "id": "9edea18af89f1716"
  },
  {
   "cell_type": "code",
   "execution_count": 4,
   "id": "initial_id",
   "metadata": {
    "collapsed": true,
    "ExecuteTime": {
     "end_time": "2023-10-31T03:13:35.493285Z",
     "start_time": "2023-10-31T03:13:34.340075Z"
    }
   },
   "outputs": [
    {
     "data": {
      "text/plain": "            행정동코드      시도명 시군구명   읍면동명       법정동코드    동리명      생성일자  말소일자\n0      1100000000    서울특별시  NaN    NaN  1100000000  서울특별시  19880423   NaN\n1      1111000000    서울특별시  종로구    NaN  1111000000    종로구  19880423   NaN\n2      1111051500    서울특별시  종로구  청운효자동  1111010100    청운동  20081101   NaN\n3      1111051500    서울특별시  종로구  청운효자동  1111010200    신교동  20081101   NaN\n4      1111051500    서울특별시  종로구  청운효자동  1111010300    궁정동  20081101   NaN\n...           ...      ...  ...    ...         ...    ...       ...   ...\n21773  5183035000  강원특별자치도  양양군    강현면  5183035038    장산리  20230611   NaN\n21774  5183035000  강원특별자치도  양양군    강현면  5183035039    전진리  20230611   NaN\n21775  5183035000  강원특별자치도  양양군    강현면  5183035040    주청리  20230611   NaN\n21776  5183035000  강원특별자치도  양양군    강현면  5183035041    적은리  20230611   NaN\n21777  5183035000  강원특별자치도  양양군    강현면  5183035042    물갑리  20230611   NaN\n\n[21778 rows x 8 columns]",
      "text/html": "<div>\n<style scoped>\n    .dataframe tbody tr th:only-of-type {\n        vertical-align: middle;\n    }\n\n    .dataframe tbody tr th {\n        vertical-align: top;\n    }\n\n    .dataframe thead th {\n        text-align: right;\n    }\n</style>\n<table border=\"1\" class=\"dataframe\">\n  <thead>\n    <tr style=\"text-align: right;\">\n      <th></th>\n      <th>행정동코드</th>\n      <th>시도명</th>\n      <th>시군구명</th>\n      <th>읍면동명</th>\n      <th>법정동코드</th>\n      <th>동리명</th>\n      <th>생성일자</th>\n      <th>말소일자</th>\n    </tr>\n  </thead>\n  <tbody>\n    <tr>\n      <th>0</th>\n      <td>1100000000</td>\n      <td>서울특별시</td>\n      <td>NaN</td>\n      <td>NaN</td>\n      <td>1100000000</td>\n      <td>서울특별시</td>\n      <td>19880423</td>\n      <td>NaN</td>\n    </tr>\n    <tr>\n      <th>1</th>\n      <td>1111000000</td>\n      <td>서울특별시</td>\n      <td>종로구</td>\n      <td>NaN</td>\n      <td>1111000000</td>\n      <td>종로구</td>\n      <td>19880423</td>\n      <td>NaN</td>\n    </tr>\n    <tr>\n      <th>2</th>\n      <td>1111051500</td>\n      <td>서울특별시</td>\n      <td>종로구</td>\n      <td>청운효자동</td>\n      <td>1111010100</td>\n      <td>청운동</td>\n      <td>20081101</td>\n      <td>NaN</td>\n    </tr>\n    <tr>\n      <th>3</th>\n      <td>1111051500</td>\n      <td>서울특별시</td>\n      <td>종로구</td>\n      <td>청운효자동</td>\n      <td>1111010200</td>\n      <td>신교동</td>\n      <td>20081101</td>\n      <td>NaN</td>\n    </tr>\n    <tr>\n      <th>4</th>\n      <td>1111051500</td>\n      <td>서울특별시</td>\n      <td>종로구</td>\n      <td>청운효자동</td>\n      <td>1111010300</td>\n      <td>궁정동</td>\n      <td>20081101</td>\n      <td>NaN</td>\n    </tr>\n    <tr>\n      <th>...</th>\n      <td>...</td>\n      <td>...</td>\n      <td>...</td>\n      <td>...</td>\n      <td>...</td>\n      <td>...</td>\n      <td>...</td>\n      <td>...</td>\n    </tr>\n    <tr>\n      <th>21773</th>\n      <td>5183035000</td>\n      <td>강원특별자치도</td>\n      <td>양양군</td>\n      <td>강현면</td>\n      <td>5183035038</td>\n      <td>장산리</td>\n      <td>20230611</td>\n      <td>NaN</td>\n    </tr>\n    <tr>\n      <th>21774</th>\n      <td>5183035000</td>\n      <td>강원특별자치도</td>\n      <td>양양군</td>\n      <td>강현면</td>\n      <td>5183035039</td>\n      <td>전진리</td>\n      <td>20230611</td>\n      <td>NaN</td>\n    </tr>\n    <tr>\n      <th>21775</th>\n      <td>5183035000</td>\n      <td>강원특별자치도</td>\n      <td>양양군</td>\n      <td>강현면</td>\n      <td>5183035040</td>\n      <td>주청리</td>\n      <td>20230611</td>\n      <td>NaN</td>\n    </tr>\n    <tr>\n      <th>21776</th>\n      <td>5183035000</td>\n      <td>강원특별자치도</td>\n      <td>양양군</td>\n      <td>강현면</td>\n      <td>5183035041</td>\n      <td>적은리</td>\n      <td>20230611</td>\n      <td>NaN</td>\n    </tr>\n    <tr>\n      <th>21777</th>\n      <td>5183035000</td>\n      <td>강원특별자치도</td>\n      <td>양양군</td>\n      <td>강현면</td>\n      <td>5183035042</td>\n      <td>물갑리</td>\n      <td>20230611</td>\n      <td>NaN</td>\n    </tr>\n  </tbody>\n</table>\n<p>21778 rows × 8 columns</p>\n</div>"
     },
     "execution_count": 4,
     "metadata": {},
     "output_type": "execute_result"
    }
   ],
   "source": [
    "import numpy as np\n",
    "import pandas as pd\n",
    "import matplotlib.pyplot as plt\n",
    "\n",
    "what = pd.read_excel('../Data/행정법정.xlsx')\n",
    "what"
   ]
  },
  {
   "cell_type": "code",
   "execution_count": 5,
   "outputs": [],
   "source": [
    "what['행정동'] = what['시군구명'].astype(str) + what['동리명']\n",
    "what['법정동'] = what['시군구명'].astype(str) + what['읍면동명']"
   ],
   "metadata": {
    "collapsed": false,
    "ExecuteTime": {
     "end_time": "2023-10-31T03:13:39.854147Z",
     "start_time": "2023-10-31T03:13:39.836479Z"
    }
   },
   "id": "44184db25aca77d8"
  },
  {
   "cell_type": "code",
   "execution_count": 6,
   "outputs": [],
   "source": [
    "change = pd.DataFrame(what['법정동'].values, index = what.행정동)"
   ],
   "metadata": {
    "collapsed": false,
    "ExecuteTime": {
     "end_time": "2023-10-31T03:13:44.567911Z",
     "start_time": "2023-10-31T03:13:44.558137Z"
    }
   },
   "id": "e5ff49d463a343ae"
  },
  {
   "cell_type": "code",
   "execution_count": 7,
   "outputs": [
    {
     "data": {
      "text/plain": "             apt_buy      mth_buy     apt_rent     mth_rent\n시군구                                                        \n강남구개포동   2003.478992  2006.438356  2005.165748  2007.690423\n강남구논현동   1999.767857  2006.775000  2002.893519  2009.609842\n강남구대치동   1990.513043  2001.800000  1992.978500  2005.928161\n강남구도곡동   2001.142336  2010.307692  1998.498895  2005.961538\n강남구삼성동   2005.563830  2004.365854  2003.755047  2002.778351\n...              ...          ...          ...          ...\n종로구누하동           NaN          NaN          NaN  2015.000000\n종로구명륜4가          NaN          NaN          NaN  2013.500000\n종로구체부동           NaN          NaN          NaN  1997.333333\n중구광희동2가          NaN          NaN          NaN  2014.444444\n중구필동2가           NaN          NaN          NaN  2018.000000\n\n[370 rows x 4 columns]",
      "text/html": "<div>\n<style scoped>\n    .dataframe tbody tr th:only-of-type {\n        vertical-align: middle;\n    }\n\n    .dataframe tbody tr th {\n        vertical-align: top;\n    }\n\n    .dataframe thead th {\n        text-align: right;\n    }\n</style>\n<table border=\"1\" class=\"dataframe\">\n  <thead>\n    <tr style=\"text-align: right;\">\n      <th></th>\n      <th>apt_buy</th>\n      <th>mth_buy</th>\n      <th>apt_rent</th>\n      <th>mth_rent</th>\n    </tr>\n    <tr>\n      <th>시군구</th>\n      <th></th>\n      <th></th>\n      <th></th>\n      <th></th>\n    </tr>\n  </thead>\n  <tbody>\n    <tr>\n      <th>강남구개포동</th>\n      <td>2003.478992</td>\n      <td>2006.438356</td>\n      <td>2005.165748</td>\n      <td>2007.690423</td>\n    </tr>\n    <tr>\n      <th>강남구논현동</th>\n      <td>1999.767857</td>\n      <td>2006.775000</td>\n      <td>2002.893519</td>\n      <td>2009.609842</td>\n    </tr>\n    <tr>\n      <th>강남구대치동</th>\n      <td>1990.513043</td>\n      <td>2001.800000</td>\n      <td>1992.978500</td>\n      <td>2005.928161</td>\n    </tr>\n    <tr>\n      <th>강남구도곡동</th>\n      <td>2001.142336</td>\n      <td>2010.307692</td>\n      <td>1998.498895</td>\n      <td>2005.961538</td>\n    </tr>\n    <tr>\n      <th>강남구삼성동</th>\n      <td>2005.563830</td>\n      <td>2004.365854</td>\n      <td>2003.755047</td>\n      <td>2002.778351</td>\n    </tr>\n    <tr>\n      <th>...</th>\n      <td>...</td>\n      <td>...</td>\n      <td>...</td>\n      <td>...</td>\n    </tr>\n    <tr>\n      <th>종로구누하동</th>\n      <td>NaN</td>\n      <td>NaN</td>\n      <td>NaN</td>\n      <td>2015.000000</td>\n    </tr>\n    <tr>\n      <th>종로구명륜4가</th>\n      <td>NaN</td>\n      <td>NaN</td>\n      <td>NaN</td>\n      <td>2013.500000</td>\n    </tr>\n    <tr>\n      <th>종로구체부동</th>\n      <td>NaN</td>\n      <td>NaN</td>\n      <td>NaN</td>\n      <td>1997.333333</td>\n    </tr>\n    <tr>\n      <th>중구광희동2가</th>\n      <td>NaN</td>\n      <td>NaN</td>\n      <td>NaN</td>\n      <td>2014.444444</td>\n    </tr>\n    <tr>\n      <th>중구필동2가</th>\n      <td>NaN</td>\n      <td>NaN</td>\n      <td>NaN</td>\n      <td>2018.000000</td>\n    </tr>\n  </tbody>\n</table>\n<p>370 rows × 4 columns</p>\n</div>"
     },
     "execution_count": 7,
     "metadata": {},
     "output_type": "execute_result"
    }
   ],
   "source": [
    "year = pd.read_csv('../Data/build_year.csv', index_col = 0)\n",
    "year"
   ],
   "metadata": {
    "collapsed": false,
    "ExecuteTime": {
     "end_time": "2023-10-31T03:14:09.600128Z",
     "start_time": "2023-10-31T03:14:09.581429Z"
    }
   },
   "id": "f40ae5bdaaa06ac5"
  },
  {
   "cell_type": "code",
   "execution_count": 8,
   "outputs": [],
   "source": [
    "temp = change.iloc[2:].loc[year.index]"
   ],
   "metadata": {
    "collapsed": false,
    "ExecuteTime": {
     "end_time": "2023-10-31T03:14:19.641345Z",
     "start_time": "2023-10-31T03:14:19.628993Z"
    }
   },
   "id": "54c2beb991c2390b"
  },
  {
   "cell_type": "code",
   "execution_count": 9,
   "outputs": [
    {
     "data": {
      "text/plain": "                0\n시군구              \n강남구개포동    강남구개포1동\n강남구개포동    강남구개포2동\n강남구개포동    강남구개포3동\n강남구개포동    강남구개포4동\n강남구논현동    강남구논현1동\n...           ...\n종로구누하동   종로구청운효자동\n종로구명륜4가    종로구혜화동\n종로구체부동     종로구사직동\n중구광희동2가     중구광희동\n중구필동2가       중구필동\n\n[638 rows x 1 columns]",
      "text/html": "<div>\n<style scoped>\n    .dataframe tbody tr th:only-of-type {\n        vertical-align: middle;\n    }\n\n    .dataframe tbody tr th {\n        vertical-align: top;\n    }\n\n    .dataframe thead th {\n        text-align: right;\n    }\n</style>\n<table border=\"1\" class=\"dataframe\">\n  <thead>\n    <tr style=\"text-align: right;\">\n      <th></th>\n      <th>0</th>\n    </tr>\n    <tr>\n      <th>시군구</th>\n      <th></th>\n    </tr>\n  </thead>\n  <tbody>\n    <tr>\n      <th>강남구개포동</th>\n      <td>강남구개포1동</td>\n    </tr>\n    <tr>\n      <th>강남구개포동</th>\n      <td>강남구개포2동</td>\n    </tr>\n    <tr>\n      <th>강남구개포동</th>\n      <td>강남구개포3동</td>\n    </tr>\n    <tr>\n      <th>강남구개포동</th>\n      <td>강남구개포4동</td>\n    </tr>\n    <tr>\n      <th>강남구논현동</th>\n      <td>강남구논현1동</td>\n    </tr>\n    <tr>\n      <th>...</th>\n      <td>...</td>\n    </tr>\n    <tr>\n      <th>종로구누하동</th>\n      <td>종로구청운효자동</td>\n    </tr>\n    <tr>\n      <th>종로구명륜4가</th>\n      <td>종로구혜화동</td>\n    </tr>\n    <tr>\n      <th>종로구체부동</th>\n      <td>종로구사직동</td>\n    </tr>\n    <tr>\n      <th>중구광희동2가</th>\n      <td>중구광희동</td>\n    </tr>\n    <tr>\n      <th>중구필동2가</th>\n      <td>중구필동</td>\n    </tr>\n  </tbody>\n</table>\n<p>638 rows × 1 columns</p>\n</div>"
     },
     "execution_count": 9,
     "metadata": {},
     "output_type": "execute_result"
    }
   ],
   "source": [
    "temp"
   ],
   "metadata": {
    "collapsed": false,
    "ExecuteTime": {
     "end_time": "2023-10-31T03:14:26.401401Z",
     "start_time": "2023-10-31T03:14:26.380130Z"
    }
   },
   "id": "8948964ce5de5ec6"
  },
  {
   "cell_type": "code",
   "execution_count": 15,
   "outputs": [],
   "source": [
    "year['mean'] = year.mean(axis = 1)"
   ],
   "metadata": {
    "collapsed": false,
    "ExecuteTime": {
     "end_time": "2023-10-31T03:16:36.144812Z",
     "start_time": "2023-10-31T03:16:36.136305Z"
    }
   },
   "id": "7406e4e44beea253"
  },
  {
   "cell_type": "code",
   "execution_count": 10,
   "outputs": [],
   "source": [
    "temp['spread'] = np.nan"
   ],
   "metadata": {
    "collapsed": false,
    "ExecuteTime": {
     "start_time": "2023-10-31T03:14:31.423190Z"
    }
   },
   "id": "a97b6fb2e53f4ac1"
  },
  {
   "cell_type": "code",
   "execution_count": 16,
   "outputs": [],
   "source": [
    "for i in year.index :\n",
    "    temp.loc[i, 'spread'] = year.loc[i, 'mean']"
   ],
   "metadata": {
    "collapsed": false,
    "ExecuteTime": {
     "end_time": "2023-10-31T03:16:44.679523Z",
     "start_time": "2023-10-31T03:16:44.656296Z"
    }
   },
   "id": "cadaab27c1441a95"
  },
  {
   "cell_type": "code",
   "execution_count": 18,
   "outputs": [],
   "source": [
    "temp.columns = ['region', 'build_year']"
   ],
   "metadata": {
    "collapsed": false,
    "ExecuteTime": {
     "end_time": "2023-10-31T03:17:26.835383Z",
     "start_time": "2023-10-31T03:17:26.820312Z"
    }
   },
   "id": "46eb2280a5726ff6"
  },
  {
   "cell_type": "code",
   "execution_count": 20,
   "outputs": [],
   "source": [
    "temp['year'] = 2023 - temp['build_year']"
   ],
   "metadata": {
    "collapsed": false,
    "ExecuteTime": {
     "end_time": "2023-10-31T03:17:39.401588Z",
     "start_time": "2023-10-31T03:17:39.390399Z"
    }
   },
   "id": "ba58466a941d7477"
  },
  {
   "cell_type": "code",
   "execution_count": 22,
   "outputs": [],
   "source": [
    "# temp.to_csv('../Data/built_year.csv')"
   ],
   "metadata": {
    "collapsed": false,
    "ExecuteTime": {
     "end_time": "2023-10-31T03:18:07.522373Z",
     "start_time": "2023-10-31T03:18:07.510965Z"
    }
   },
   "id": "4f226f002352cf5f"
  }
 ],
 "metadata": {
  "kernelspec": {
   "display_name": "Python 3",
   "language": "python",
   "name": "python3"
  },
  "language_info": {
   "codemirror_mode": {
    "name": "ipython",
    "version": 2
   },
   "file_extension": ".py",
   "mimetype": "text/x-python",
   "name": "python",
   "nbconvert_exporter": "python",
   "pygments_lexer": "ipython2",
   "version": "2.7.6"
  }
 },
 "nbformat": 4,
 "nbformat_minor": 5
}
