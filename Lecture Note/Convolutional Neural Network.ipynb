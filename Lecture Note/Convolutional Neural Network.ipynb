{
 "cells": [
  {
   "cell_type": "markdown",
   "source": [
    "### Convolutional Neural Network\n",
    "\n",
    "합성곱 신경망(Convolutional Neural network, CNN)은 뇌의 시각 피질이 물체를 인식할 때 동작하는 방식에서 영감을 얻은 모델이며, 각 층별로 저수준 특성을 연결하여 고수준 특성을 만듦으로써 특성 계층을 구성한다\n",
    "\n",
    "- 국부 수용장(local receptive field): 위와 같은 국부적인 픽셀 패치\n",
    "- 희소 연결: 특성 맵에 있는 하나의 원소는 작은 픽셀 패치 하나에만 연결됨\n",
    "- 파라미터 공유: 동일한 가중치가 입력 이미지의 모든 패치에 사용됨\n",
    "\n",
    "- CNN은 합성곱(conv)층과 풀링(Pooling, P)층이라고 하는 서브샘플링 층으로 이루어져 있는데, 마지막에는 하나 이상의 완전 연결(FC)층이 따라온다"
   ],
   "metadata": {
    "collapsed": false
   },
   "id": "b0e5570fbf72da7"
  },
  {
   "cell_type": "markdown",
   "source": [
    "#### 이산 합성곱\n",
    "\n",
    "이산 합성곱(discrete convolution)이 CNN의 기본 연산이며, 다음은 1차원 합성곱의 정의하는 식이다\n",
    "\n",
    "$$y = x \\cdot w \\rightarrow y[i] = \\sum_{k = -\\infty}^{+\\infty} x[i-k]w[k]$$\n",
    "\n",
    "여기서 $x$는 입력 벡터, $w$는 필터(filter) 또는 커널(kernel)벡터라고 한다"
   ],
   "metadata": {
    "collapsed": false
   },
   "id": "ae71ed83401ace80"
  },
  {
   "cell_type": "code",
   "execution_count": 1,
   "outputs": [
    {
     "name": "stdout",
     "output_type": "stream",
     "text": [
      "[ 5. 14. 16. 26. 24. 34. 19. 22.]\n"
     ]
    }
   ],
   "source": [
    "import numpy as np\n",
    "\n",
    "def Con1D(x, w, p = 0, s = 1) :\n",
    "    w_rot = np.array(w[::-1])\n",
    "    x_padded = np.array(x)\n",
    "    if p > 0:\n",
    "        zero_pad = np.zeros(shape=p)\n",
    "        x_padded = np.concatenate([zero_pad, x_padded, zero_pad])\n",
    "    res = []\n",
    "    for i in range(0, int(len(x)/s),s):\n",
    "        res.append(np.sum(x_padded[i:i+w_rot.shape[0]] * w_rot))\n",
    "    return np.array(res)\n",
    "\n",
    "x = [1, 3, 2, 4, 5, 6, 1, 3]\n",
    "w = [1, 0, 3, 1, 2]\n",
    "\n",
    "print(Con1D(x, w, p = 2, s = 1))"
   ],
   "metadata": {
    "collapsed": false,
    "ExecuteTime": {
     "end_time": "2023-11-28T02:10:16.114666Z",
     "start_time": "2023-11-28T02:10:16.110716Z"
    }
   },
   "id": "5389bbeb990f29e4"
  },
  {
   "cell_type": "code",
   "execution_count": 3,
   "outputs": [
    {
     "name": "stdout",
     "output_type": "stream",
     "text": [
      "[ 5 14 16 26 24 34 19 22]\n"
     ]
    }
   ],
   "source": [
    "print(np.convolve(x, w, mode = 'same')) # numpy"
   ],
   "metadata": {
    "collapsed": false,
    "ExecuteTime": {
     "end_time": "2023-11-28T02:10:38.922633Z",
     "start_time": "2023-11-28T02:10:38.919958Z"
    }
   },
   "id": "17a67eddcd0734bd"
  },
  {
   "cell_type": "markdown",
   "source": [
    "#### 2D 이산 합성곱"
   ],
   "metadata": {
    "collapsed": false
   },
   "id": "3bf23977e054d7b6"
  },
  {
   "cell_type": "code",
   "execution_count": 7,
   "outputs": [
    {
     "data": {
      "text/plain": "array([[11., 25., 32., 13.],\n       [19., 25., 24., 13.],\n       [13., 28., 25., 17.],\n       [11., 17., 14.,  9.]])"
     },
     "execution_count": 7,
     "metadata": {},
     "output_type": "execute_result"
    }
   ],
   "source": [
    "import scipy.signal\n",
    "\n",
    "def Conv2D(X, W, p=(0,0), s=(1,1)):\n",
    "    W_rot = np.array(W)[::-1,::-1]\n",
    "    X_orig = np.array(X)\n",
    "    n1 = X_orig.shape[0] + 2*p[0]\n",
    "    n2 = X_orig.shape[1] + 2*p[1]\n",
    "    X_padded = np.zeros(shape=(n1,n2))\n",
    "    X_padded[p[0]:p[0] + X_orig.shape[0], \n",
    "             p[1]:p[1] + X_orig.shape[1]] = X_orig\n",
    "\n",
    "    res = []\n",
    "    for i in range(0, int((X_padded.shape[0] - \n",
    "                           W_rot.shape[0])/s[0])+1, s[0]):\n",
    "        res.append([])\n",
    "        for j in range(0, int((X_padded.shape[1] - \n",
    "                               W_rot.shape[1])/s[1])+1, s[1]):\n",
    "            X_sub = X_padded[i:i+W_rot.shape[0], j:j+W_rot.shape[1]]\n",
    "            res[-1].append(np.sum(X_sub * W_rot))\n",
    "    return(np.array(res))\n",
    "\n",
    "X = [\n",
    "    [1, 3, 2, 4], \n",
    "    [5, 6, 1, 3], \n",
    "    [1 ,2, 0, 2], \n",
    "    [3, 4, 3, 2]\n",
    "]\n",
    "W = [\n",
    "    [1, 0, 3], \n",
    "    [1, 2, 1],\n",
    "    [0, 1, 1]\n",
    "]\n",
    "\n",
    "Conv2D(X, W, p = (1, 1), s = (1, 1))"
   ],
   "metadata": {
    "collapsed": false,
    "ExecuteTime": {
     "end_time": "2023-11-28T02:12:36.895943Z",
     "start_time": "2023-11-28T02:12:36.890792Z"
    }
   },
   "id": "765f8b2d8471764a"
  },
  {
   "cell_type": "code",
   "execution_count": 6,
   "outputs": [
    {
     "data": {
      "text/plain": "array([[11, 25, 32, 13],\n       [19, 25, 24, 13],\n       [13, 28, 25, 17],\n       [11, 17, 14,  9]])"
     },
     "execution_count": 6,
     "metadata": {},
     "output_type": "execute_result"
    }
   ],
   "source": [
    "scipy.signal.convolve2d(X, W, mode = 'same')"
   ],
   "metadata": {
    "collapsed": false,
    "ExecuteTime": {
     "end_time": "2023-11-28T02:12:30.141149Z",
     "start_time": "2023-11-28T02:12:30.129947Z"
    }
   },
   "id": "62dbff867fa62747"
  },
  {
   "cell_type": "markdown",
   "source": [
    "**합성곱 출력의 크기 계산**\n",
    "\n",
    "합성곱 출력 크기는 입력 벡터 위를 $w$가 이동하는 전체 횟수로 결정된다. 이전과 같이 입력 벡터의 크기가 $n$인 필터의 크기가 $m$, 패딩이 $p$, 스트라이드가 $s$인 $x \\cdot w$의 출력 크기는 다음과 같이 계산된다\n",
    "\n",
    "$$o = \\Big[ \\frac{n + 2p - m}{s} \\Big] + 1$$\n",
    "\n",
    "이전의 정의를 바탕으로 2차원 합성곱 역시 정의 가능하다. $m_1 \\leq n_1$이고 $m_2 \\leq n_2$인 입력 행렬 $X_{n_1 \\times n_2}$와 필터 행렬 $W_{m_1 \\times m_2}$의 합성곱 행렬 $Y = XW$는 다음과 같이 정의된다"
   ],
   "metadata": {
    "collapsed": false
   },
   "id": "b805f5913d72b914"
  },
  {
   "cell_type": "markdown",
   "source": [
    "Inner product of two vectors $X = (x_1, x_2, x_3, \\dots, x_n)$ and $Y = (y_1, y_2, y_3, \\dots, y_n)$\n",
    "\n",
    "$$X \\cdot Y = \\sum_{i=1}^n x_i y_i \\in \\mathcal{R}$$\n",
    "\n",
    "Inner product of two square matrices $A = (a_{ij})_{n \\times n}, B = (b_{ij})_{n \\times n}$\n",
    "\n",
    "$$A \\cdot B = AB^{T} \\notin \\mathcal{R}$$\n",
    "$$= \\mbox{trace}{AB^{T}} \\in \\mathcal{R}$$\n",
    "$$= \\begin{pmatrix}\n",
    " a_{11} & a_{12} & \\dots & a_{1n} \\\\\n",
    " a_{21} & a_{22}  & \\dots & a_{2n} \\\\\n",
    " \\vdots & \\vdots & \\ddots & \\vdots \\\\\n",
    " a_{n1} & a_{n2}  & \\dots & a_{nn}\n",
    " \\end{pmatrix}\n",
    " \\begin{pmatrix}\n",
    " b_{11} & b_{12} & \\dots & b_{1n} \\\\\n",
    " b_{21} & b_{22}  & \\dots & b_{2n} \\\\\n",
    " \\vdots & \\vdots & \\ddots & \\vdots \\\\\n",
    " b_{n1} & b_{n2}  & \\dots & b_{nn}\n",
    " \\end{pmatrix}$$"
   ],
   "metadata": {
    "collapsed": false
   },
   "id": "5bb9c4d76f19a08f"
  }
 ],
 "metadata": {
  "kernelspec": {
   "display_name": "Python 3",
   "language": "python",
   "name": "python3"
  },
  "language_info": {
   "codemirror_mode": {
    "name": "ipython",
    "version": 2
   },
   "file_extension": ".py",
   "mimetype": "text/x-python",
   "name": "python",
   "nbconvert_exporter": "python",
   "pygments_lexer": "ipython2",
   "version": "2.7.6"
  }
 },
 "nbformat": 4,
 "nbformat_minor": 5
}
