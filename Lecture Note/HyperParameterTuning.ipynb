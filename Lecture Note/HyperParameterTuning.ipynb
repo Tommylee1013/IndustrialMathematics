{
 "cells": [
  {
   "cell_type": "markdown",
   "source": [
    "### Hyper Parameter Tuning\n",
    "\n",
    "모델 평가와 하이어 파라미터 튜닝\n",
    "\n",
    "- 편향되지 않은 모델 성능 추정하기\n",
    "- 머신러닝 알고리즘에서 일반적으로 발생하는 문제 분석하기\n",
    "- 머신러닝 모델 세부 튜닝하기\n",
    "- 여러가지 성능지표를 사용하여 모델의 예측 성능 평가\n",
    "\n",
    "**Sample Data Set**\n",
    "\n",
    "- 악성과 양성인 종양 세포 샘플 569개\n",
    "- 데이터 첫 두 열 : 샘플의 고유 ID, 진단 결과 (M = 악성, B = 양성)\n",
    "- 3~32번째 열 : 세포핵의 디지털 이미지에서 계산된 30개의 실수 값 특성\n",
    "\n",
    "데이터를 읽어온 후 LabelEncoder를 사용하여 클래스 레이블(진단결과)을 정수로 변환하고, train_test_split 함수를 이용해 전체 데이터셋을 훈련 세트와 테스트 세트로 나눈다"
   ],
   "metadata": {
    "collapsed": false
   },
   "id": "e95c74505c57322b"
  },
  {
   "cell_type": "code",
   "execution_count": 1,
   "outputs": [],
   "source": [
    "import pandas as pd\n",
    "\n",
    "df = pd.read_csv('https://archive.ics.uci.edu/ml/'\n",
    "                 'machine-learning-databases'\n",
    "                 '/breast-cancer-wisconsin/wdbc.data', header=None)"
   ],
   "metadata": {
    "collapsed": false,
    "ExecuteTime": {
     "end_time": "2023-12-11T08:23:08.447058Z",
     "start_time": "2023-12-11T08:23:06.873264Z"
    }
   },
   "id": "d7d2bf1f48b6cc36"
  },
  {
   "cell_type": "code",
   "execution_count": 2,
   "outputs": [
    {
     "data": {
      "text/plain": "         0  1      2      3       4       5        6        7       8   \\\n0    842302  M  17.99  10.38  122.80  1001.0  0.11840  0.27760  0.3001   \n1    842517  M  20.57  17.77  132.90  1326.0  0.08474  0.07864  0.0869   \n2  84300903  M  19.69  21.25  130.00  1203.0  0.10960  0.15990  0.1974   \n3  84348301  M  11.42  20.38   77.58   386.1  0.14250  0.28390  0.2414   \n4  84358402  M  20.29  14.34  135.10  1297.0  0.10030  0.13280  0.1980   \n\n        9   ...     22     23      24      25      26      27      28      29  \\\n0  0.14710  ...  25.38  17.33  184.60  2019.0  0.1622  0.6656  0.7119  0.2654   \n1  0.07017  ...  24.99  23.41  158.80  1956.0  0.1238  0.1866  0.2416  0.1860   \n2  0.12790  ...  23.57  25.53  152.50  1709.0  0.1444  0.4245  0.4504  0.2430   \n3  0.10520  ...  14.91  26.50   98.87   567.7  0.2098  0.8663  0.6869  0.2575   \n4  0.10430  ...  22.54  16.67  152.20  1575.0  0.1374  0.2050  0.4000  0.1625   \n\n       30       31  \n0  0.4601  0.11890  \n1  0.2750  0.08902  \n2  0.3613  0.08758  \n3  0.6638  0.17300  \n4  0.2364  0.07678  \n\n[5 rows x 32 columns]",
      "text/html": "<div>\n<style scoped>\n    .dataframe tbody tr th:only-of-type {\n        vertical-align: middle;\n    }\n\n    .dataframe tbody tr th {\n        vertical-align: top;\n    }\n\n    .dataframe thead th {\n        text-align: right;\n    }\n</style>\n<table border=\"1\" class=\"dataframe\">\n  <thead>\n    <tr style=\"text-align: right;\">\n      <th></th>\n      <th>0</th>\n      <th>1</th>\n      <th>2</th>\n      <th>3</th>\n      <th>4</th>\n      <th>5</th>\n      <th>6</th>\n      <th>7</th>\n      <th>8</th>\n      <th>9</th>\n      <th>...</th>\n      <th>22</th>\n      <th>23</th>\n      <th>24</th>\n      <th>25</th>\n      <th>26</th>\n      <th>27</th>\n      <th>28</th>\n      <th>29</th>\n      <th>30</th>\n      <th>31</th>\n    </tr>\n  </thead>\n  <tbody>\n    <tr>\n      <th>0</th>\n      <td>842302</td>\n      <td>M</td>\n      <td>17.99</td>\n      <td>10.38</td>\n      <td>122.80</td>\n      <td>1001.0</td>\n      <td>0.11840</td>\n      <td>0.27760</td>\n      <td>0.3001</td>\n      <td>0.14710</td>\n      <td>...</td>\n      <td>25.38</td>\n      <td>17.33</td>\n      <td>184.60</td>\n      <td>2019.0</td>\n      <td>0.1622</td>\n      <td>0.6656</td>\n      <td>0.7119</td>\n      <td>0.2654</td>\n      <td>0.4601</td>\n      <td>0.11890</td>\n    </tr>\n    <tr>\n      <th>1</th>\n      <td>842517</td>\n      <td>M</td>\n      <td>20.57</td>\n      <td>17.77</td>\n      <td>132.90</td>\n      <td>1326.0</td>\n      <td>0.08474</td>\n      <td>0.07864</td>\n      <td>0.0869</td>\n      <td>0.07017</td>\n      <td>...</td>\n      <td>24.99</td>\n      <td>23.41</td>\n      <td>158.80</td>\n      <td>1956.0</td>\n      <td>0.1238</td>\n      <td>0.1866</td>\n      <td>0.2416</td>\n      <td>0.1860</td>\n      <td>0.2750</td>\n      <td>0.08902</td>\n    </tr>\n    <tr>\n      <th>2</th>\n      <td>84300903</td>\n      <td>M</td>\n      <td>19.69</td>\n      <td>21.25</td>\n      <td>130.00</td>\n      <td>1203.0</td>\n      <td>0.10960</td>\n      <td>0.15990</td>\n      <td>0.1974</td>\n      <td>0.12790</td>\n      <td>...</td>\n      <td>23.57</td>\n      <td>25.53</td>\n      <td>152.50</td>\n      <td>1709.0</td>\n      <td>0.1444</td>\n      <td>0.4245</td>\n      <td>0.4504</td>\n      <td>0.2430</td>\n      <td>0.3613</td>\n      <td>0.08758</td>\n    </tr>\n    <tr>\n      <th>3</th>\n      <td>84348301</td>\n      <td>M</td>\n      <td>11.42</td>\n      <td>20.38</td>\n      <td>77.58</td>\n      <td>386.1</td>\n      <td>0.14250</td>\n      <td>0.28390</td>\n      <td>0.2414</td>\n      <td>0.10520</td>\n      <td>...</td>\n      <td>14.91</td>\n      <td>26.50</td>\n      <td>98.87</td>\n      <td>567.7</td>\n      <td>0.2098</td>\n      <td>0.8663</td>\n      <td>0.6869</td>\n      <td>0.2575</td>\n      <td>0.6638</td>\n      <td>0.17300</td>\n    </tr>\n    <tr>\n      <th>4</th>\n      <td>84358402</td>\n      <td>M</td>\n      <td>20.29</td>\n      <td>14.34</td>\n      <td>135.10</td>\n      <td>1297.0</td>\n      <td>0.10030</td>\n      <td>0.13280</td>\n      <td>0.1980</td>\n      <td>0.10430</td>\n      <td>...</td>\n      <td>22.54</td>\n      <td>16.67</td>\n      <td>152.20</td>\n      <td>1575.0</td>\n      <td>0.1374</td>\n      <td>0.2050</td>\n      <td>0.4000</td>\n      <td>0.1625</td>\n      <td>0.2364</td>\n      <td>0.07678</td>\n    </tr>\n  </tbody>\n</table>\n<p>5 rows × 32 columns</p>\n</div>"
     },
     "execution_count": 2,
     "metadata": {},
     "output_type": "execute_result"
    }
   ],
   "source": [
    "df.head()"
   ],
   "metadata": {
    "collapsed": false,
    "ExecuteTime": {
     "end_time": "2023-12-11T08:23:08.468465Z",
     "start_time": "2023-12-11T08:23:08.445380Z"
    }
   },
   "id": "73e1cff7edcf87e7"
  },
  {
   "cell_type": "code",
   "execution_count": 3,
   "outputs": [
    {
     "data": {
      "text/plain": "array(['B', 'M'], dtype=object)"
     },
     "execution_count": 3,
     "metadata": {},
     "output_type": "execute_result"
    }
   ],
   "source": [
    "from sklearn.preprocessing import LabelEncoder\n",
    "\n",
    "X = df.loc[:, 2:].values\n",
    "y = df.loc[:, 1].values\n",
    "le = LabelEncoder()\n",
    "y = le.fit_transform(y)\n",
    "le.classes_"
   ],
   "metadata": {
    "collapsed": false,
    "ExecuteTime": {
     "end_time": "2023-12-11T08:23:08.586166Z",
     "start_time": "2023-12-11T08:23:08.466361Z"
    }
   },
   "id": "8cd94e3313b1eb64"
  },
  {
   "cell_type": "code",
   "execution_count": 4,
   "outputs": [],
   "source": [
    "from sklearn.model_selection import train_test_split\n",
    "\n",
    "X_train, X_test, y_train, y_test = train_test_split(\n",
    "    X, y, \n",
    "    test_size=0.20,\n",
    "    stratify=y,\n",
    "    random_state=1\n",
    ")"
   ],
   "metadata": {
    "collapsed": false,
    "ExecuteTime": {
     "end_time": "2023-12-11T08:23:08.698678Z",
     "start_time": "2023-12-11T08:23:08.585232Z"
    }
   },
   "id": "ccf39c16e91a4906"
  },
  {
   "cell_type": "markdown",
   "source": [
    "#### Pipeline\n",
    "\n",
    "사이킷런의 PipeLine 클래스를 사용하여 표준화(StandardScaler), 주성분 분석(PCA), 로지스틱 회귀(LogisticRegression) 객체를 연결한다"
   ],
   "metadata": {
    "collapsed": false
   },
   "id": "fe6176c2f0bca0c5"
  },
  {
   "cell_type": "code",
   "execution_count": 5,
   "id": "initial_id",
   "metadata": {
    "collapsed": true,
    "ExecuteTime": {
     "end_time": "2023-12-11T08:23:08.834035Z",
     "start_time": "2023-12-11T08:23:08.698897Z"
    }
   },
   "outputs": [],
   "source": [
    "from sklearn.preprocessing import StandardScaler\n",
    "from sklearn.decomposition import PCA\n",
    "from sklearn.linear_model import LogisticRegression\n",
    "from sklearn.pipeline import make_pipeline\n",
    "\n",
    "pipe_lr = make_pipeline(\n",
    "    StandardScaler(),\n",
    "    PCA(n_components = 2),\n",
    "    LogisticRegression(solver = 'liblinear', random_state = 42)\n",
    ")"
   ]
  },
  {
   "cell_type": "code",
   "execution_count": 6,
   "outputs": [
    {
     "name": "stdout",
     "output_type": "stream",
     "text": [
      "Test Accuracy: 0.956\n"
     ]
    }
   ],
   "source": [
    "pipe_lr.fit(X_train, y_train)\n",
    "y_pred = pipe_lr.predict(X_test)\n",
    "print('Test Accuracy: %.3f' % pipe_lr.score(X_test, y_test))"
   ],
   "metadata": {
    "collapsed": false,
    "ExecuteTime": {
     "end_time": "2023-12-11T08:23:08.953771Z",
     "start_time": "2023-12-11T08:23:08.834522Z"
    }
   },
   "id": "8f46d07daca8b36e"
  },
  {
   "cell_type": "markdown",
   "source": [
    "#### Cross Validation\n",
    "\n",
    "- Holdout Cross Validation\n",
    "- K-Fold Cross Validation\n",
    "- Stratified K-Fold Cross Validation : 각 폴드에서 클래스 비율이 전체 훈련 세트에 있는 class 비율을 대표하도록 유지한다"
   ],
   "metadata": {
    "collapsed": false
   },
   "id": "131eb762252997a9"
  },
  {
   "cell_type": "code",
   "execution_count": 7,
   "outputs": [
    {
     "name": "stdout",
     "output_type": "stream",
     "text": [
      "Fold:  1, Dist of classes: [256 153], Accuracy: 0.935\n",
      "Fold:  2, Dist of classes: [256 153], Accuracy: 0.935\n",
      "Fold:  3, Dist of classes: [256 153], Accuracy: 0.957\n",
      "Fold:  4, Dist of classes: [256 153], Accuracy: 0.957\n",
      "Fold:  5, Dist of classes: [256 153], Accuracy: 0.935\n",
      "Fold:  6, Dist of classes: [257 153], Accuracy: 0.956\n",
      "Fold:  7, Dist of classes: [257 153], Accuracy: 0.978\n",
      "Fold:  8, Dist of classes: [257 153], Accuracy: 0.933\n",
      "Fold:  9, Dist of classes: [257 153], Accuracy: 0.956\n",
      "Fold: 10, Dist of classes: [257 153], Accuracy: 0.956\n",
      "\n",
      "Cross Validation Accuracy: 0.950 +/- 0.014\n"
     ]
    }
   ],
   "source": [
    "import numpy as np\n",
    "from sklearn.model_selection import StratifiedKFold\n",
    "    \n",
    "\n",
    "kfold = StratifiedKFold(n_splits = 10).split(X_train, y_train)\n",
    "\n",
    "scores = []\n",
    "for k, (train, test) in enumerate(kfold):\n",
    "    pipe_lr.fit(X_train[train], y_train[train])\n",
    "    score = pipe_lr.score(X_train[test], y_train[test])\n",
    "    scores.append(score)\n",
    "    print('Fold: %2d, Dist of classes: %s, Accuracy: %.3f' % (k+1,\n",
    "          np.bincount(y_train[train]), score))\n",
    "    \n",
    "print('\\nCross Validation Accuracy: %.3f +/- %.3f' % (np.mean(scores), np.std(scores)))"
   ],
   "metadata": {
    "collapsed": false,
    "ExecuteTime": {
     "end_time": "2023-12-11T08:23:09.101821Z",
     "start_time": "2023-12-11T08:23:08.971503Z"
    }
   },
   "id": "ff144c3ff12cacf4"
  },
  {
   "cell_type": "code",
   "execution_count": 8,
   "outputs": [
    {
     "name": "stdout",
     "output_type": "stream",
     "text": [
      "CV accuracy score: [0.93478261 0.93478261 0.95652174 0.95652174 0.93478261 0.95555556\n",
      " 0.97777778 0.93333333 0.95555556 0.95555556]\n",
      "CV accuracy: 0.950 +/- 0.014\n"
     ]
    }
   ],
   "source": [
    "from sklearn.model_selection import cross_validate\n",
    "\n",
    "scores = cross_validate(estimator=pipe_lr, \n",
    "                        X=X_train, \n",
    "                        y=y_train, \n",
    "                        scoring=['accuracy'], \n",
    "                        cv=10, \n",
    "                        n_jobs=-1,\n",
    "                        return_train_score=False)\n",
    "print('CV accuracy score: %s' % scores['test_accuracy'])\n",
    "print('CV accuracy: %.3f +/- %.3f' % (np.mean(scores['test_accuracy']), \n",
    "                                      np.std(scores['test_accuracy'])))"
   ],
   "metadata": {
    "collapsed": false,
    "ExecuteTime": {
     "end_time": "2023-12-11T08:23:10.349407Z",
     "start_time": "2023-12-11T08:23:09.202814Z"
    }
   },
   "id": "2b9cb8f096386ccd"
  },
  {
   "cell_type": "markdown",
   "source": [
    "#### Learning Curve"
   ],
   "metadata": {
    "collapsed": false
   },
   "id": "39e52a473787af78"
  },
  {
   "cell_type": "code",
   "execution_count": 9,
   "outputs": [],
   "source": [
    "import matplotlib.pyplot as plt\n",
    "from sklearn.model_selection import learning_curve\n",
    "\n",
    "pipe_lr = make_pipeline(\n",
    "    StandardScaler(),\n",
    "    LogisticRegression(\n",
    "        solver = 'liblinear', \n",
    "        penalty = 'l2', \n",
    "        random_state = 42\n",
    "    )\n",
    ")\n",
    "\n",
    "train_sizes, train_scores, test_scores = learning_curve(\n",
    "    estimator = pipe_lr,\n",
    "    X = X_train,\n",
    "    y = y_train,\n",
    "    train_sizes = np.linspace(0.1, 1.0, 10),\n",
    "    cv = 10,\n",
    "    n_jobs = 1\n",
    ")\n",
    "\n",
    "train_mean = np.mean(train_scores, axis = 1)\n",
    "train_std = np.std(train_scores, axis = 1)\n",
    "test_mean = np.mean(test_scores, axis = 1)\n",
    "test_std = np.std(test_scores, axis = 1) "
   ],
   "metadata": {
    "collapsed": false,
    "ExecuteTime": {
     "end_time": "2023-12-11T08:23:10.752133Z",
     "start_time": "2023-12-11T08:23:10.348386Z"
    }
   },
   "id": "8abaf6f610d7b492"
  },
  {
   "cell_type": "code",
   "execution_count": 10,
   "outputs": [
    {
     "data": {
      "text/plain": "<Figure size 600x400 with 1 Axes>",
      "image/png": "[encoded data removed]"
     },
     "metadata": {},
     "output_type": "display_data"
    }
   ],
   "source": [
    "plt.figure(figsize = (6,4))\n",
    "\n",
    "plt.plot(train_sizes, \n",
    "         train_mean,\n",
    "         color = 'blue', \n",
    "         marker = 'o',\n",
    "         markersize = 5, \n",
    "         label = 'training accuracy')\n",
    "\n",
    "plt.fill_between(train_sizes,\n",
    "                 train_mean + train_std,\n",
    "                 train_mean - train_std,\n",
    "                 alpha = 0.15, \n",
    "                 color = 'blue')\n",
    "\n",
    "plt.plot(train_sizes, \n",
    "         test_mean,\n",
    "         color = 'green', \n",
    "         linestyle = '--',\n",
    "         marker = 's', \n",
    "         markersize = 5,\n",
    "         label = 'validation accuracy')\n",
    "\n",
    "plt.fill_between(train_sizes,\n",
    "                 test_mean + test_std,\n",
    "                 test_mean - test_std,\n",
    "                 alpha = 0.15, \n",
    "                 color = 'green')\n",
    "\n",
    "plt.xlabel('Number of training samples')\n",
    "plt.ylabel('Accuracy')\n",
    "plt.title('Train Validation Graph', fontsize = 12, fontfamily = 'Serif')\n",
    "plt.legend(loc = 'lower right')\n",
    "plt.ylim([0.8, 1.03])\n",
    "plt.tight_layout()\n",
    "plt.grid(False)\n",
    "plt.show()"
   ],
   "metadata": {
    "collapsed": false,
    "ExecuteTime": {
     "end_time": "2023-12-11T08:23:10.948642Z",
     "start_time": "2023-12-11T08:23:10.752549Z"
    }
   },
   "id": "7c0cc94e6d746bc0"
  },
  {
   "cell_type": "markdown",
   "source": [
    "**검증 곡선을 이용한 Overfitting Underfitting 검증**"
   ],
   "metadata": {
    "collapsed": false
   },
   "id": "9ef99071cb97ff4d"
  },
  {
   "cell_type": "code",
   "execution_count": 11,
   "outputs": [],
   "source": [
    "from sklearn.model_selection import validation_curve\n",
    "\n",
    "\n",
    "param_range = [0.001, 0.01, 0.1, 1.0, 10.0, 100.0]\n",
    "train_scores, test_scores = validation_curve(\n",
    "    estimator = pipe_lr, \n",
    "    X = X_train, \n",
    "    y = y_train, \n",
    "    param_name = 'logisticregression__C', \n",
    "    param_range = param_range,\n",
    "    cv = 10\n",
    ")\n",
    "\n",
    "train_mean = np.mean(train_scores, axis=1)\n",
    "train_std = np.std(train_scores, axis=1)\n",
    "test_mean = np.mean(test_scores, axis=1)\n",
    "test_std = np.std(test_scores, axis=1)"
   ],
   "metadata": {
    "collapsed": false,
    "ExecuteTime": {
     "end_time": "2023-12-11T08:23:11.205975Z",
     "start_time": "2023-12-11T08:23:10.944891Z"
    }
   },
   "id": "87a1e50e0e4fa92"
  },
  {
   "cell_type": "code",
   "execution_count": 12,
   "outputs": [
    {
     "data": {
      "text/plain": "<Figure size 600x400 with 1 Axes>",
      "image/png": "[encoded data removed]"
     },
     "metadata": {},
     "output_type": "display_data"
    }
   ],
   "source": [
    "plt.figure(figsize = (6,4))\n",
    "plt.plot(param_range, train_mean, \n",
    "         color='blue', marker='o', \n",
    "         markersize=5, label='training accuracy')\n",
    "\n",
    "plt.fill_between(param_range, train_mean + train_std,\n",
    "                 train_mean - train_std, alpha=0.15,\n",
    "                 color='blue')\n",
    "\n",
    "plt.plot(param_range, test_mean, \n",
    "         color='green', linestyle='--', \n",
    "         marker='s', markersize=5, \n",
    "         label='validation accuracy')\n",
    "\n",
    "plt.fill_between(param_range, \n",
    "                 test_mean + test_std,\n",
    "                 test_mean - test_std, \n",
    "                 alpha=0.15, color='green')\n",
    "\n",
    "plt.grid(False)\n",
    "plt.xscale('log')\n",
    "plt.legend(loc='lower right')\n",
    "plt.xlabel('Parameter C')\n",
    "plt.ylabel('Accuracy')\n",
    "plt.title('Train Validation Graph', fontsize = 12, fontfamily = 'Serif')\n",
    "plt.ylim([0.8, 1.00])\n",
    "plt.tight_layout()\n",
    "plt.show()"
   ],
   "metadata": {
    "collapsed": false,
    "ExecuteTime": {
     "end_time": "2023-12-11T08:23:11.619261Z",
     "start_time": "2023-12-11T08:23:11.308142Z"
    }
   },
   "id": "fb1ec80f63032c72"
  },
  {
   "cell_type": "markdown",
   "source": [
    "#### GridSearch Hyper Parameter Tuning"
   ],
   "metadata": {
    "collapsed": false
   },
   "id": "267dda8bafab527"
  },
  {
   "cell_type": "code",
   "execution_count": 13,
   "outputs": [
    {
     "name": "stdout",
     "output_type": "stream",
     "text": [
      "0.9846859903381642\n",
      "{'svc__C': 100.0, 'svc__gamma': 0.001, 'svc__kernel': 'rbf'}\n"
     ]
    }
   ],
   "source": [
    "from sklearn.model_selection import GridSearchCV\n",
    "from sklearn.svm import SVC\n",
    "\n",
    "pipe_svc = make_pipeline(\n",
    "    StandardScaler(),\n",
    "    SVC(random_state = 42)\n",
    ")\n",
    "\n",
    "param_range = [0.0001, 0.001, 0.01, 0.1, 1.0, 10.0, 100.0, 1000.0]\n",
    "param_grid = [\n",
    "    {'svc__C': param_range, \n",
    "     'svc__kernel': ['linear']},\n",
    "    {'svc__C': param_range, \n",
    "     'svc__gamma': param_range, \n",
    "     'svc__kernel': ['rbf']}\n",
    "]\n",
    "\n",
    "gs = GridSearchCV(\n",
    "    estimator = pipe_svc,\n",
    "    param_grid = param_grid,\n",
    "    scoring = 'accuracy',\n",
    "    cv = 10,\n",
    "    n_jobs = 1\n",
    ")\n",
    "\n",
    "gs = gs.fit(\n",
    "    X_train,\n",
    "    y_train\n",
    ")\n",
    "\n",
    "print(gs.best_score_)\n",
    "print(gs.best_params_)"
   ],
   "metadata": {
    "collapsed": false,
    "ExecuteTime": {
     "end_time": "2023-12-11T08:23:14.905202Z",
     "start_time": "2023-12-11T08:23:11.620959Z"
    }
   },
   "id": "35c72b7780e7f2d"
  },
  {
   "cell_type": "code",
   "execution_count": 14,
   "outputs": [
    {
     "name": "stdout",
     "output_type": "stream",
     "text": [
      "test accuracy : 0.974\n"
     ]
    }
   ],
   "source": [
    "clf = gs.best_estimator_\n",
    "clf.fit(X_train, y_train)\n",
    "print('test accuracy : %.3f' % clf.score(X_test, y_test))"
   ],
   "metadata": {
    "collapsed": false,
    "ExecuteTime": {
     "end_time": "2023-12-11T08:23:14.911614Z",
     "start_time": "2023-12-11T08:23:14.905043Z"
    }
   },
   "id": "76370b853f807919"
  },
  {
   "cell_type": "markdown",
   "source": [
    "#### 중첩 교차 검증을 사용한 알고리즘 선택"
   ],
   "metadata": {
    "collapsed": false
   },
   "id": "cb303a91f66cae87"
  },
  {
   "cell_type": "code",
   "execution_count": 16,
   "outputs": [
    {
     "name": "stdout",
     "output_type": "stream",
     "text": [
      "Cross Validation accuracy: 0.974 +/- 0.015\n"
     ]
    }
   ],
   "source": [
    "from sklearn.model_selection import cross_val_score\n",
    "\n",
    "gs = GridSearchCV(\n",
    "    estimator = pipe_svc,\n",
    "    param_grid = param_grid,\n",
    "    scoring = 'accuracy',\n",
    "    cv = 2)\n",
    "\n",
    "scores = cross_val_score(\n",
    "    gs, \n",
    "    X_train, \n",
    "    y_train, \n",
    "    scoring = 'accuracy', \n",
    "    cv = 5)\n",
    "print('Cross Validation accuracy: %.3f +/- %.3f' % (np.mean(scores), np.std(scores)))"
   ],
   "metadata": {
    "collapsed": false,
    "ExecuteTime": {
     "end_time": "2023-12-11T08:23:40.996458Z",
     "start_time": "2023-12-11T08:23:38.963037Z"
    }
   },
   "id": "be90de4c49990ff8"
  },
  {
   "cell_type": "code",
   "execution_count": 17,
   "outputs": [
    {
     "name": "stdout",
     "output_type": "stream",
     "text": [
      "Cross Validation accuracy: 0.932 +/- 0.022\n"
     ]
    }
   ],
   "source": [
    "from sklearn.tree import DecisionTreeClassifier\n",
    "\n",
    "gs = GridSearchCV(\n",
    "    estimator = DecisionTreeClassifier(random_state = 42),\n",
    "    param_grid = [\n",
    "        {\n",
    "            'max_depth': [1, 2, 3, 4, 5, 6, 7, None]\n",
    "        }\n",
    "    ],\n",
    "        scoring = 'accuracy',\n",
    "        cv = 2)\n",
    "\n",
    "scores = cross_val_score(\n",
    "    gs, \n",
    "    X_train, \n",
    "    y_train, \n",
    "    scoring = 'accuracy', \n",
    "    cv = 5\n",
    ")\n",
    "\n",
    "print('Cross Validation accuracy: %.3f +/- %.3f' % (np.mean(scores), np.std(scores)))"
   ],
   "metadata": {
    "collapsed": false,
    "ExecuteTime": {
     "end_time": "2023-12-11T08:23:42.263865Z",
     "start_time": "2023-12-11T08:23:42.005290Z"
    }
   },
   "id": "7c9addcc61b5e213"
  },
  {
   "cell_type": "markdown",
   "source": [
    "#### Other Metrics"
   ],
   "metadata": {
    "collapsed": false
   },
   "id": "87e82bbd809164a"
  },
  {
   "cell_type": "code",
   "execution_count": 18,
   "outputs": [],
   "source": [
    "from sklearn.metrics import confusion_matrix\n",
    "\n",
    "pipe_svc.fit(X_train, y_train)\n",
    "y_pred = pipe_svc.predict(X_test)\n",
    "confusion_matrices = confusion_matrix(y_true = y_test, y_pred = y_pred)"
   ],
   "metadata": {
    "collapsed": false,
    "ExecuteTime": {
     "end_time": "2023-12-11T08:26:27.019284Z",
     "start_time": "2023-12-11T08:26:27.002629Z"
    }
   },
   "id": "93384a8456d5921d"
  },
  {
   "cell_type": "code",
   "execution_count": 21,
   "outputs": [
    {
     "data": {
      "text/plain": "<Figure size 250x250 with 1 Axes>",
      "image/png": "[encoded data removed]"
     },
     "metadata": {},
     "output_type": "display_data"
    }
   ],
   "source": [
    "fig, ax = plt.subplots(figsize=(2.5, 2.5))\n",
    "ax.matshow(confusion_matrices, cmap = plt.cm.Blues, alpha=0.3)\n",
    "for i in range(confusion_matrices.shape[0]):\n",
    "    for j in range(confusion_matrices.shape[1]):\n",
    "        ax.text(x=j, y=i, s = confusion_matrices[i, j], va='center', ha='center')\n",
    "\n",
    "plt.xlabel('Predicted label')\n",
    "plt.ylabel('True label')\n",
    "\n",
    "plt.tight_layout()\n",
    "plt.grid(False)\n",
    "plt.title('Confusion Matrix')\n",
    "plt.show()"
   ],
   "metadata": {
    "collapsed": false,
    "ExecuteTime": {
     "end_time": "2023-12-11T16:18:00.873679Z",
     "start_time": "2023-12-11T16:18:00.815686Z"
    }
   },
   "id": "b43c1d04fd5f6fe7"
  },
  {
   "cell_type": "markdown",
   "source": [
    "#### 분류 모델의 정밀도와 재현율 최적화"
   ],
   "metadata": {
    "collapsed": false
   },
   "id": "23eee7583635aa32"
  },
  {
   "cell_type": "code",
   "execution_count": 22,
   "outputs": [
    {
     "name": "stdout",
     "output_type": "stream",
     "text": [
      "Precision Score : 0.976\n",
      "Recall Score : 0.952\n",
      "F1 : 0.964\n"
     ]
    }
   ],
   "source": [
    "from sklearn.metrics import precision_score, recall_score, f1_score\n",
    "\n",
    "print('Precision Score : %.3f' % precision_score(y_true = y_test, y_pred = y_pred))\n",
    "print('Recall Score : %.3f' % recall_score(y_true = y_test, y_pred = y_pred))\n",
    "print('F1 : %.3f' % f1_score(y_true = y_test, y_pred = y_pred))"
   ],
   "metadata": {
    "collapsed": false,
    "ExecuteTime": {
     "end_time": "2023-12-11T16:18:46.028561Z",
     "start_time": "2023-12-11T16:18:46.008058Z"
    }
   },
   "id": "549df3d31b7978e"
  },
  {
   "cell_type": "code",
   "execution_count": 23,
   "outputs": [
    {
     "name": "stdout",
     "output_type": "stream",
     "text": [
      "0.9861994953378878\n",
      "{'svc__C': 10.0, 'svc__gamma': 0.01, 'svc__kernel': 'rbf'}\n"
     ]
    }
   ],
   "source": [
    "from sklearn.metrics import make_scorer\n",
    "\n",
    "scorer = make_scorer(f1_score, pos_label=0)\n",
    "\n",
    "c_gamma_range = [0.01, 0.1, 1.0, 10.0]\n",
    "\n",
    "param_grid = [{'svc__C': c_gamma_range,\n",
    "               'svc__kernel': ['linear']},\n",
    "              {'svc__C': c_gamma_range,\n",
    "               'svc__gamma': c_gamma_range,\n",
    "               'svc__kernel': ['rbf']}]\n",
    "\n",
    "gs = GridSearchCV(estimator = pipe_svc,\n",
    "                  param_grid = param_grid,\n",
    "                  scoring = scorer,\n",
    "                  cv = 10,\n",
    "                  n_jobs = -1)\n",
    "gs = gs.fit(X_train, y_train)\n",
    "print(gs.best_score_)\n",
    "print(gs.best_params_)"
   ],
   "metadata": {
    "collapsed": false,
    "ExecuteTime": {
     "end_time": "2023-12-11T16:19:06.658676Z",
     "start_time": "2023-12-11T16:19:05.492691Z"
    }
   },
   "id": "d990ed191fda3730"
  },
  {
   "cell_type": "markdown",
   "source": [
    "#### ROC Curve"
   ],
   "metadata": {
    "collapsed": false
   },
   "id": "f59a5a3070cb4472"
  },
  {
   "cell_type": "code",
   "execution_count": 29,
   "outputs": [
    {
     "name": "stderr",
     "output_type": "stream",
     "text": [
      "/var/folders/1q/pl9tj55n57s9jg28npxw61n80000gn/T/ipykernel_65962/3442208852.py:29: DeprecationWarning: scipy.interp is deprecated and will be removed in SciPy 2.0.0, use numpy.interp instead\n",
      "  mean_tpr += interp(mean_fpr, fpr, tpr)\n",
      "/var/folders/1q/pl9tj55n57s9jg28npxw61n80000gn/T/ipykernel_65962/3442208852.py:29: DeprecationWarning: scipy.interp is deprecated and will be removed in SciPy 2.0.0, use numpy.interp instead\n",
      "  mean_tpr += interp(mean_fpr, fpr, tpr)\n",
      "/var/folders/1q/pl9tj55n57s9jg28npxw61n80000gn/T/ipykernel_65962/3442208852.py:29: DeprecationWarning: scipy.interp is deprecated and will be removed in SciPy 2.0.0, use numpy.interp instead\n",
      "  mean_tpr += interp(mean_fpr, fpr, tpr)\n"
     ]
    },
    {
     "data": {
      "text/plain": "<Figure size 600x400 with 1 Axes>",
      "image/png": "[encoded data removed]"
     },
     "metadata": {},
     "output_type": "display_data"
    }
   ],
   "source": [
    "from sklearn.metrics import roc_curve, auc\n",
    "from scipy import interp\n",
    "\n",
    "pipe_lr = make_pipeline(StandardScaler(),\n",
    "                        PCA(n_components = 2),\n",
    "                        LogisticRegression(solver = 'liblinear',\n",
    "                                           penalty = 'l2', \n",
    "                                           random_state = 1, \n",
    "                                           C = 100.0))\n",
    "\n",
    "X_train2 = X_train[:, [4, 14]]\n",
    "    \n",
    "\n",
    "cv = list(StratifiedKFold(n_splits = 3).split(X_train, y_train))\n",
    "\n",
    "fig = plt.figure(figsize = (6, 4))\n",
    "\n",
    "mean_tpr = 0.0\n",
    "mean_fpr = np.linspace(0, 1, 100)\n",
    "all_tpr = []\n",
    "\n",
    "for i, (train, test) in enumerate(cv):\n",
    "    probas = pipe_lr.fit(X_train2[train],\n",
    "                         y_train[train]).predict_proba(X_train2[test])\n",
    "\n",
    "    fpr, tpr, thresholds = roc_curve(y_train[test],\n",
    "                                     probas[:, 1],\n",
    "                                     pos_label=1)\n",
    "    mean_tpr += interp(mean_fpr, fpr, tpr)\n",
    "    mean_tpr[0] = 0.0\n",
    "    roc_auc = auc(fpr, tpr)\n",
    "    plt.plot(fpr,\n",
    "             tpr,\n",
    "             label='ROC fold %d (area = %0.2f)'\n",
    "                   % (i+1, roc_auc))\n",
    "\n",
    "plt.plot([0, 1],\n",
    "         [0, 1],\n",
    "         linestyle='--',\n",
    "         color=(0.6, 0.6, 0.6),\n",
    "         label='random guessing')\n",
    "\n",
    "mean_tpr /= len(cv)\n",
    "mean_tpr[-1] = 1.0\n",
    "mean_auc = auc(mean_fpr, mean_tpr)\n",
    "plt.plot(mean_fpr, mean_tpr, 'k--',\n",
    "         label='mean ROC (area = %0.2f)' % mean_auc, lw=2)\n",
    "plt.plot([0, 0, 1],\n",
    "         [0, 1, 1],\n",
    "         linestyle=':',\n",
    "         color='black',\n",
    "         label='perfect performance')\n",
    "\n",
    "plt.xlim([-0.05, 1.05])\n",
    "plt.ylim([-0.05, 1.05])\n",
    "plt.xlabel('false positive rate')\n",
    "plt.ylabel('true positive rate')\n",
    "plt.legend(loc=\"lower right\")\n",
    "plt.grid(False)\n",
    "plt.tight_layout()\n",
    "plt.title('ROC Curve')\n",
    "plt.show()"
   ],
   "metadata": {
    "collapsed": false,
    "ExecuteTime": {
     "end_time": "2023-12-11T16:21:03.744253Z",
     "start_time": "2023-12-11T16:21:03.623132Z"
    }
   },
   "id": "397179406960c92e"
  },
  {
   "cell_type": "markdown",
   "source": [
    "#### 다중 분류의 성능 지표"
   ],
   "metadata": {
    "collapsed": false
   },
   "id": "e5f59ee12ba2edc7"
  },
  {
   "cell_type": "code",
   "execution_count": 30,
   "outputs": [],
   "source": [
    "pre_scorer = make_scorer(\n",
    "    score_func = precision_score,\n",
    "    pos_label = 1,\n",
    "    greater_is_better = True,\n",
    "    average = 'micro'\n",
    ")"
   ],
   "metadata": {
    "collapsed": false,
    "ExecuteTime": {
     "end_time": "2023-12-11T16:21:53.689552Z",
     "start_time": "2023-12-11T16:21:53.671119Z"
    }
   },
   "id": "bca6a122c3b9b74e"
  },
  {
   "cell_type": "markdown",
   "source": [
    "불균형 클래스 다루기"
   ],
   "metadata": {
    "collapsed": false
   },
   "id": "7827d627fe4f0ccf"
  },
  {
   "cell_type": "code",
   "execution_count": 32,
   "outputs": [],
   "source": [
    "X_imb = np.vstack((X[y == 0], X[y == 1][:40]))\n",
    "y_imb = np.hstack((y[y == 0], y[y == 1][:40]))"
   ],
   "metadata": {
    "collapsed": false,
    "ExecuteTime": {
     "end_time": "2023-12-11T16:22:10.208157Z",
     "start_time": "2023-12-11T16:22:10.186433Z"
    }
   },
   "id": "41e5fbe0980d0a9a"
  },
  {
   "cell_type": "code",
   "execution_count": 33,
   "outputs": [
    {
     "data": {
      "text/plain": "89.92443324937027"
     },
     "execution_count": 33,
     "metadata": {},
     "output_type": "execute_result"
    }
   ],
   "source": [
    "y_pred = np.zeros(y_imb.shape[0])\n",
    "np.mean(y_pred == y_imb) * 100"
   ],
   "metadata": {
    "collapsed": false,
    "ExecuteTime": {
     "end_time": "2023-12-11T16:22:14.480721Z",
     "start_time": "2023-12-11T16:22:14.460763Z"
    }
   },
   "id": "c029a072b142d959"
  },
  {
   "cell_type": "code",
   "execution_count": 34,
   "outputs": [
    {
     "name": "stdout",
     "output_type": "stream",
     "text": [
      "샘플링하기 전의 클래스 1의 샘플 개수: 40\n",
      "샘플링한 후의 클래스 1의 샘플 개수: 357\n"
     ]
    }
   ],
   "source": [
    "from sklearn.utils import resample\n",
    "\n",
    "print('샘플링하기 전의 클래스 1의 샘플 개수:', X_imb[y_imb == 1].shape[0])\n",
    "\n",
    "X_upsampled, y_upsampled = resample(X_imb[y_imb == 1],\n",
    "                                    y_imb[y_imb == 1],\n",
    "                                    replace=True,\n",
    "                                    n_samples=X_imb[y_imb == 0].shape[0],\n",
    "                                    random_state=123)\n",
    "\n",
    "print('샘플링한 후의 클래스 1의 샘플 개수:', X_upsampled.shape[0])"
   ],
   "metadata": {
    "collapsed": false,
    "ExecuteTime": {
     "end_time": "2023-12-11T16:22:21.138171Z",
     "start_time": "2023-12-11T16:22:21.115959Z"
    }
   },
   "id": "8ce236710c4ed2e9"
  },
  {
   "cell_type": "code",
   "execution_count": 35,
   "outputs": [],
   "source": [
    "X_bal = np.vstack((X[y == 0], X_upsampled))\n",
    "y_bal = np.hstack((y[y == 0], y_upsampled))"
   ],
   "metadata": {
    "collapsed": false,
    "ExecuteTime": {
     "end_time": "2023-12-11T16:22:26.385168Z",
     "start_time": "2023-12-11T16:22:26.358667Z"
    }
   },
   "id": "1f99f2cedd1b29e1"
  },
  {
   "cell_type": "code",
   "execution_count": 36,
   "outputs": [
    {
     "data": {
      "text/plain": "50.0"
     },
     "execution_count": 36,
     "metadata": {},
     "output_type": "execute_result"
    }
   ],
   "source": [
    "y_pred = np.zeros(y_bal.shape[0])\n",
    "np.mean(y_pred == y_bal) * 100"
   ],
   "metadata": {
    "collapsed": false,
    "ExecuteTime": {
     "end_time": "2023-12-11T16:22:30.053717Z",
     "start_time": "2023-12-11T16:22:30.026092Z"
    }
   },
   "id": "ccc1c278e3e3066b"
  }
 ],
 "metadata": {
  "kernelspec": {
   "display_name": "Python 3",
   "language": "python",
   "name": "python3"
  },
  "language_info": {
   "codemirror_mode": {
    "name": "ipython",
    "version": 2
   },
   "file_extension": ".py",
   "mimetype": "text/x-python",
   "name": "python",
   "nbconvert_exporter": "python",
   "pygments_lexer": "ipython2",
   "version": "2.7.6"
  }
 },
 "nbformat": 4,
 "nbformat_minor": 5
}
