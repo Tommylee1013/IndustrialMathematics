{
 "cells": [
  {
   "cell_type": "markdown",
   "source": [
    "### Recurrent Neural Network\n",
    "\n",
    "순환 신경망을 이용한 Sequence Data Modeling"
   ],
   "metadata": {
    "collapsed": false
   },
   "id": "321c3c30338f0832"
  },
  {
   "cell_type": "markdown",
   "source": [
    "#### Sequence Data\n",
    "- 순서를 고려한 데이터\n",
    "- 원소들이 특정한 순서를 가지며 상호 독립적이지 않다\n",
    "- 시퀀스 데이터의 좋은 예는 시계열 데이터이다\n",
    "\n",
    "<center><img src=\"https://miro.medium.com/max/1400/1*aIT6tmnk3qHpStkOX3gGcQ.png\" alt=\"My Image\"></center>\n",
    "\n",
    "#### 시퀀스 모델링의 종류\n",
    "\n",
    "- **Many to One** : 입력 데이터는 시퀀스, 출력은 벡터 (ex : 감성분석 - 입력은 텍스트, 출력은 label)\n",
    "- **One to Many** : 입력 데이터는 일반적인 형태, 출력은 시퀀스 (ex : 이미지 캡셔닝 - 입력은 이미지, 출력이 모두 시퀀스)\n",
    "- **Many to Many** : 입력, 출력이 모두 시퀀스인 모형\n",
    "    - 입력과 출력이 동기적인지 아닌지에 따라 나눠짐\n",
    "    - 동기적 모델– 각 프레임이 레이블되어 있는 비디오 분류\n",
    "    - 비동기적 모델– 한 언어에서 다른 언어로 번역 작업\n"
   ],
   "metadata": {
    "collapsed": false
   },
   "id": "11b3b71f330c89cf"
  },
  {
   "cell_type": "markdown",
   "source": [
    "#### RNN Network\n",
    "\n",
    "$$\\mathbf{z}_h^{(t)} = \\mathbf{W}_{xh}\\mathbf{x}^{(t)} + \\mathbf{W}_{hh}\\mathbf{h}^{(t-1)} + \\mathbf{b}_h$$\n",
    "$$\\mathbf{h}^{(t)} = \\phi_h \\Big( \\mathbf{z}_h^{(t)}\\Big) = \\phi_h \\Big( \\mathbf{W}_{xh} \\mathbf{x}^{(t)} + \\mathbf{W}_{hh}\\mathbf{h}^{(t-1)} + \\mathbf{b}_h\\Big)$$\n",
    "$$\\mathbf{h}^{(t)} = \\phi_h \\Big( \n",
    "\\begin{bmatrix}\n",
    "\\mathbf{W}_{xh} ; \\mathbf{W}_{hh}\n",
    "\\end{bmatrix}\n",
    "\\begin{bmatrix}\n",
    "\\mathbf{x}^{(t)} \\\\\n",
    "\\mathbf{h}^{(t-1)} \\\\\n",
    "\\end{bmatrix}\n",
    " + \\mathbf{b}_h \\Big)$$\n",
    "\n",
    "$$\\mathbf{Ax} = \\begin{bmatrix}\n",
    "\\mathbf{a}_1 & \\cdots & \\mathbf{a}_2\n",
    "\\end{bmatrix}\n",
    "\\begin{bmatrix}\n",
    "\\mathbf{x}_{1} \\\\\n",
    "\\vdots \\\\\n",
    "\\mathbf{x}_{n} \\\\\n",
    "\\end{bmatrix} = \n",
    "\\mathbf{x}_{1}\\mathbf{a}_{1} + \\mathbf{x}_{2}\\mathbf{a}_{2} + \\cdots + \\mathbf{x}_{n}\\mathbf{a}_{n}$$\n",
    "\n",
    "**Sequence Gradient Problem**\n",
    "\n",
    "$$\\frac{\\partial L^{(t)}}{\\partial \\mathbf{W}_{hh}} = \n",
    "\\frac{\\partial L^{(t)}}{\\partial \\mathbf{y}^{(t)}} \\cdot \\frac{\\partial \\mathbf{y}^{(t)}}{\\partial \\mathbf{h}^{(t)}} \\cdot \n",
    "\\Big( \\sum_{k=1}^t \\frac{\\partial \\mathbf{h}^{(t)}}{{\\partial \\mathbf{h}^{(k)}}}\n",
    "\\cdot \\frac{\\partial \\mathbf{h}^{(t)}}{{\\partial \\mathbf{W}_{(hh)}}}\\Big)$$"
   ],
   "metadata": {
    "collapsed": false
   },
   "id": "a22b9144f93fe409"
  },
  {
   "cell_type": "markdown",
   "source": [
    "#### Long Short Term Memory (LSTM)\n",
    "- LSTM은 그래디언트 소실 문제를 극복하기 위해 소개됨\n",
    "- 기본 구성 요소는 은닉층을 의미하는 memory cell\n",
    "- 그래디언트 소실, 폭주 문제 해결을 위해 각 메모리셀에 적절한 가중치 w=1을 유지하는 순환에지가 존재, 이 순환에지의 출력을 cell state라고 함.\n",
    "- 세종류의 게이트 : 삭제게이트, 입력게이트, 출력게이트가 있음\n",
    "\n",
    "**forgot gate**\n",
    "\n",
    "$$\\mathbf{g}_t = \\sigma\\Big( \n",
    "\\mathbf{W}_{(xf)} \\mathbf{x}^{(t)} + \\mathbf{W}_{(hf)} \\mathbf{h}^{(t-1)} + \\mathbf{b}_{f}\n",
    "\\Big)$$\n",
    "\n",
    "**input gate**\n",
    "\n",
    "$$\\mathbf{i}_t = \\sigma\\Big( \n",
    "\\mathbf{W}_{(xi)} \\mathbf{x}^{(t)} + \\mathbf{W}_{(hi)} \\mathbf{h}^{(t-1)} + \\mathbf{b}_{i}\n",
    "\\Big)$$\n",
    "\n",
    "**input note**\n",
    "\n",
    "$$\\mathbf{g}_t = \\tanh\\Big( \n",
    "\\mathbf{W}_{(xg)} \\mathbf{x}^{(t)} + \\mathbf{W}_{(hg)} \\mathbf{h}^{(t-1)} + \\mathbf{b}_{g}\n",
    "\\Big)$$\n",
    "\n",
    "**cell gate**\n",
    "\n",
    "$$\\mathbf{C}^{(t)} = \\Big( \n",
    "\\mathbf{C}^{(t-1)}\\odot \\mathbf{f}_t\n",
    "\\Big) \\oplus (\\mathbf{i}_t \\odot \\mathbf{g}_t)$$\n",
    "\n",
    "**output gate**\n",
    "\n",
    "$$\\mathbf{o}_t = \\sigma\\Big( \n",
    "\\mathbf{W}_{(xo)} \\mathbf{x}^{(t)} + \\mathbf{W}_{(ho)} \\mathbf{h}^{(t-1)} + \\mathbf{b}_{o}\n",
    "\\Big)$$\n",
    "\n",
    "**hidden gate**\n",
    "\n",
    "$$\\mathbf{h}_t = \\mathbf{o}_t \\odot \\tanh\\Big( \n",
    "\\mathbf{C}^{(t)}\n",
    "\\Big)$$\n",
    "\n",
    "주어진 결과를 가지고 현재의 타임 스텝에서 은닉 유닛의 출력을 위와 같이 계산한다"
   ],
   "metadata": {
    "collapsed": false
   },
   "id": "3bfc0674bb77df2c"
  },
  {
   "cell_type": "markdown",
   "source": [
    "#### 다층 RNN을 이용한 영화리뷰 감성 분석\n",
    "\n",
    "언어 모델링을 위한 다대다 RNN 구현\n",
    "\n",
    "**전처리 단계**\n",
    "- 전체 데이터 셋에서 고유한 단어를 찾은 후 각 단어를 정수값으로 인코딩\n",
    "- 모든 시퀀스가 동일한 길이를 가져야 하므로 sequence_lengt 파라미터를 정의하고 200으로 설정\n",
    "- 200개보다 적은 시퀀스는 왼쪽에 0을 패딩, 긴 시퀀스는 마지막 200개만 사용하도록 잘라 냄\n",
    "\n",
    "**특성 변환을 단어별 원− 핫 인코딩을 사용하는 경우**\n",
    "\n",
    "- 고유한 단어의 수가 2만개라면 입력 특성 개수는 2만개가 됨\n",
    "- 차원의 저주로 인한 영향을 받음\n",
    "\n",
    "**임베딩 기법을 사용한 특성변환**\n",
    "- 각 단어를 실수 값을 가진 고정된 길이의 벡터로 변환\n",
    "- 특성 공간의 차원이 축소되므로 차원의 저주로 인한 영향감소\n",
    "- 신경망에서 임베딩층이 훈련되므로 중요한 특성이 추출됨"
   ],
   "metadata": {
    "collapsed": false
   },
   "id": "69a6ecc054f4d38b"
  },
  {
   "cell_type": "code",
   "execution_count": 3,
   "id": "initial_id",
   "metadata": {
    "collapsed": true,
    "ExecuteTime": {
     "end_time": "2023-12-05T02:07:10.557799Z",
     "start_time": "2023-12-05T02:07:10.548678Z"
    }
   },
   "outputs": [],
   "source": [
    "import pandas as pd\n",
    "import numpy as np\n",
    "import re\n",
    "from string import punctuation\n",
    "import pyprind"
   ]
  },
  {
   "cell_type": "code",
   "execution_count": 4,
   "outputs": [
    {
     "data": {
      "text/plain": "                                              review  sentiment\n0  In 1974, the teenager Martha Moxley (Maggie Gr...          1\n1  OK... so... I really like Kris Kristofferson a...          0\n2  ***SPOILER*** Do not read this, if you think a...          0\n3  hi for all the people who have seen this wonde...          1\n4  I recently bought the DVD, forgetting just how...          0",
      "text/html": "<div>\n<style scoped>\n    .dataframe tbody tr th:only-of-type {\n        vertical-align: middle;\n    }\n\n    .dataframe tbody tr th {\n        vertical-align: top;\n    }\n\n    .dataframe thead th {\n        text-align: right;\n    }\n</style>\n<table border=\"1\" class=\"dataframe\">\n  <thead>\n    <tr style=\"text-align: right;\">\n      <th></th>\n      <th>review</th>\n      <th>sentiment</th>\n    </tr>\n  </thead>\n  <tbody>\n    <tr>\n      <th>0</th>\n      <td>In 1974, the teenager Martha Moxley (Maggie Gr...</td>\n      <td>1</td>\n    </tr>\n    <tr>\n      <th>1</th>\n      <td>OK... so... I really like Kris Kristofferson a...</td>\n      <td>0</td>\n    </tr>\n    <tr>\n      <th>2</th>\n      <td>***SPOILER*** Do not read this, if you think a...</td>\n      <td>0</td>\n    </tr>\n    <tr>\n      <th>3</th>\n      <td>hi for all the people who have seen this wonde...</td>\n      <td>1</td>\n    </tr>\n    <tr>\n      <th>4</th>\n      <td>I recently bought the DVD, forgetting just how...</td>\n      <td>0</td>\n    </tr>\n  </tbody>\n</table>\n</div>"
     },
     "execution_count": 4,
     "metadata": {},
     "output_type": "execute_result"
    }
   ],
   "source": [
    "df = pd.read_csv('movie_data.csv', encoding = 'utf-8')\n",
    "df.head()"
   ],
   "metadata": {
    "collapsed": false,
    "ExecuteTime": {
     "end_time": "2023-12-05T02:07:47.764028Z",
     "start_time": "2023-12-05T02:07:47.336249Z"
    }
   },
   "id": "d2fbc87e9309bea5"
  },
  {
   "cell_type": "markdown",
   "source": [
    "데이터 전처리 : 단어를 나누고 등장 횟수를 카운트한다"
   ],
   "metadata": {
    "collapsed": false
   },
   "id": "1f70bc5b6e697b30"
  },
  {
   "cell_type": "code",
   "execution_count": 5,
   "outputs": [
    {
     "name": "stdout",
     "output_type": "stream",
     "text": [
      "Warning: No valid output stream.\n"
     ]
    }
   ],
   "source": [
    "from collections import Counter\n",
    "\n",
    "counts = Counter()\n",
    "pbar = pyprind.ProgBar(len(df['review']),\n",
    "                       title = 'counting...')\n",
    "for i,review in enumerate(df['review']):\n",
    "    text = ''.join([c if c not in punctuation else ' '+c+' ' \\\n",
    "                    for c in review]).lower()\n",
    "    df.loc[i,'review'] = text\n",
    "    pbar.update()\n",
    "    counts.update(text.split())"
   ],
   "metadata": {
    "collapsed": false,
    "ExecuteTime": {
     "end_time": "2023-12-05T02:08:18.072918Z",
     "start_time": "2023-12-05T02:08:13.415382Z"
    }
   },
   "id": "cdf4055d3968144c"
  },
  {
   "cell_type": "markdown",
   "source": [
    "고유한 각 단어를 정수로 mapping하는 딕셔너리를 만든다"
   ],
   "metadata": {
    "collapsed": false
   },
   "id": "e6ae4920e163c13f"
  },
  {
   "cell_type": "code",
   "execution_count": 7,
   "outputs": [
    {
     "name": "stdout",
     "output_type": "stream",
     "text": [
      "['the', '.', ',', 'and', 'a']\n",
      "Warning: No valid output stream.\n"
     ]
    }
   ],
   "source": [
    "word_counts = sorted(counts, key=counts.get, reverse=True)\n",
    "print(word_counts[:5])\n",
    "word_to_int = {word: ii for ii, word in enumerate(word_counts, 1)}\n",
    "\n",
    "\n",
    "mapped_reviews = []\n",
    "pbar = pyprind.ProgBar(len(df['review']),\n",
    "                       title = 'mapping...')\n",
    "for review in df['review']:\n",
    "    mapped_reviews.append([word_to_int[word] for word in review.split()])\n",
    "    pbar.update()"
   ],
   "metadata": {
    "collapsed": false,
    "ExecuteTime": {
     "end_time": "2023-12-05T02:09:30.694426Z",
     "start_time": "2023-12-05T02:09:29.157906Z"
    }
   },
   "id": "6fc788b0c53c36d8"
  },
  {
   "cell_type": "markdown",
   "source": [
    "동일 길이의 시퀀스를 만든다. 시퀀스 길이가 200보다 작으면 왼쪽에 0이 패딩, 시퀀스 길이가 200보다 크면 마지막 200개 원소만 사용한다"
   ],
   "metadata": {
    "collapsed": false
   },
   "id": "a0484e6b4eece871"
  },
  {
   "cell_type": "code",
   "execution_count": 8,
   "outputs": [],
   "source": [
    "sequence_length = 200  ## (RNN 공식에 있는 T 값)\n",
    "sequences = np.zeros((len(mapped_reviews), sequence_length), dtype=int)\n",
    "for i, row in enumerate(mapped_reviews):\n",
    "    review_arr = np.array(row)\n",
    "    sequences[i, -len(row):] = review_arr[-sequence_length:]\n",
    "\n",
    "X_train = sequences[:37500, :]\n",
    "y_train = df.loc[:37499, 'sentiment'].values\n",
    "X_test = sequences[37500:, :]\n",
    "y_test = df.loc[37500:, 'sentiment'].values"
   ],
   "metadata": {
    "collapsed": false,
    "ExecuteTime": {
     "end_time": "2023-12-05T02:10:09.212181Z",
     "start_time": "2023-12-05T02:10:08.621110Z"
    }
   },
   "id": "f39b771811dd5865"
  },
  {
   "cell_type": "code",
   "execution_count": 9,
   "outputs": [
    {
     "name": "stdout",
     "output_type": "stream",
     "text": [
      "(37500, 200) (37500,) (12500, 200) (12500,)\n"
     ]
    }
   ],
   "source": [
    "print(X_train.shape, y_train.shape, X_test.shape, y_test.shape)"
   ],
   "metadata": {
    "collapsed": false,
    "ExecuteTime": {
     "end_time": "2023-12-05T02:10:15.857557Z",
     "start_time": "2023-12-05T02:10:15.839996Z"
    }
   },
   "id": "5d64eb2ae4d3bdb9"
  },
  {
   "cell_type": "code",
   "execution_count": 10,
   "outputs": [
    {
     "name": "stdout",
     "output_type": "stream",
     "text": [
      "102967\n"
     ]
    }
   ],
   "source": [
    "n_words = len(word_to_int) + 1\n",
    "print(n_words)"
   ],
   "metadata": {
    "collapsed": false,
    "ExecuteTime": {
     "end_time": "2023-12-05T02:10:19.779278Z",
     "start_time": "2023-12-05T02:10:19.753693Z"
    }
   },
   "id": "cdaeeb501f4d7e05"
  },
  {
   "cell_type": "markdown",
   "source": [
    "#### Embedding"
   ],
   "metadata": {
    "collapsed": false
   },
   "id": "965e6b936053d06"
  },
  {
   "cell_type": "code",
   "execution_count": 11,
   "outputs": [
    {
     "name": "stdout",
     "output_type": "stream",
     "text": [
      "Model: \"sequential\"\n",
      "_________________________________________________________________\n",
      " Layer (type)                Output Shape              Param #   \n",
      "=================================================================\n",
      " embedding (Embedding)       (None, None, 200)         20593400  \n",
      "                                                                 \n",
      "=================================================================\n",
      "Total params: 20,593,400\n",
      "Trainable params: 20,593,400\n",
      "Non-trainable params: 0\n",
      "_________________________________________________________________\n"
     ]
    }
   ],
   "source": [
    "from tensorflow.keras import models, layers\n",
    "\n",
    "model = models.Sequential()\n",
    "model.add(layers.Embedding(n_words, 200, \n",
    "                           embeddings_regularizer = 'l2'))\n",
    "model.summary()"
   ],
   "metadata": {
    "collapsed": false,
    "ExecuteTime": {
     "end_time": "2023-12-05T02:11:23.911336Z",
     "start_time": "2023-12-05T02:11:20.762088Z"
    }
   },
   "id": "d1b9e008a6166611"
  },
  {
   "cell_type": "markdown",
   "source": [
    "#### RNN Model"
   ],
   "metadata": {
    "collapsed": false
   },
   "id": "a5e2c350df35528"
  },
  {
   "cell_type": "code",
   "execution_count": 12,
   "outputs": [
    {
     "name": "stdout",
     "output_type": "stream",
     "text": [
      "Model: \"sequential\"\n",
      "_________________________________________________________________\n",
      " Layer (type)                Output Shape              Param #   \n",
      "=================================================================\n",
      " embedding (Embedding)       (None, None, 200)         20593400  \n",
      "                                                                 \n",
      " lstm (LSTM)                 (None, 16)                13888     \n",
      "                                                                 \n",
      " flatten (Flatten)           (None, 16)                0         \n",
      "                                                                 \n",
      " dense (Dense)               (None, 1)                 17        \n",
      "                                                                 \n",
      "=================================================================\n",
      "Total params: 20,607,305\n",
      "Trainable params: 20,607,305\n",
      "Non-trainable params: 0\n",
      "_________________________________________________________________\n"
     ]
    }
   ],
   "source": [
    "model.add(layers.LSTM(16))\n",
    "model.add(layers.Flatten())\n",
    "model.add(layers.Dense(1, activation='sigmoid'))\n",
    "\n",
    "model.summary()"
   ],
   "metadata": {
    "collapsed": false,
    "ExecuteTime": {
     "end_time": "2023-12-05T02:11:46.542932Z",
     "start_time": "2023-12-05T02:11:46.432637Z"
    }
   },
   "id": "b874bc378a344013"
  },
  {
   "cell_type": "markdown",
   "source": [
    "#### Train Sentimental RNN model"
   ],
   "metadata": {
    "collapsed": false
   },
   "id": "c6fd4a9b89e7b00b"
  },
  {
   "cell_type": "code",
   "execution_count": 13,
   "outputs": [],
   "source": [
    "model.compile(loss='binary_crossentropy', \n",
    "              optimizer='adam', metrics=['acc'])"
   ],
   "metadata": {
    "collapsed": false,
    "ExecuteTime": {
     "end_time": "2023-12-05T02:12:26.432452Z",
     "start_time": "2023-12-05T02:12:26.408853Z"
    }
   },
   "id": "5e842c63df245987"
  },
  {
   "cell_type": "code",
   "execution_count": 14,
   "outputs": [],
   "source": [
    "import time\n",
    "from tensorflow.keras.callbacks import ModelCheckpoint, TensorBoard\n",
    "\n",
    "callback_list = [ModelCheckpoint(filepath='sentiment_rnn_checkpoint.h5',\n",
    "                                 monitor='val_loss', \n",
    "                                 save_best_only=True), \n",
    "                 TensorBoard(log_dir=\"sentiment_rnn_logs/{}\".format(\n",
    "                     time.asctime()))]"
   ],
   "metadata": {
    "collapsed": false,
    "ExecuteTime": {
     "end_time": "2023-12-05T02:12:35.141344Z",
     "start_time": "2023-12-05T02:12:35.119674Z"
    }
   },
   "id": "3ea050eb51e1f87a"
  },
  {
   "cell_type": "code",
   "execution_count": 15,
   "outputs": [
    {
     "name": "stdout",
     "output_type": "stream",
     "text": [
      "Epoch 1/10\n"
     ]
    },
    {
     "name": "stderr",
     "output_type": "stream",
     "text": [
      "2023-12-05 11:13:03.898938: W tensorflow/tsl/platform/profile_utils/cpu_utils.cc:128] Failed to get CPU frequency: 0 Hz\n"
     ]
    },
    {
     "name": "stdout",
     "output_type": "stream",
     "text": [
      "411/411 [==============================] - 48s 113ms/step - loss: 6.5163 - acc: 0.7332 - val_loss: 0.8107 - val_acc: 0.7479\n",
      "Epoch 2/10\n",
      "411/411 [==============================] - 45s 109ms/step - loss: 0.6082 - acc: 0.8301 - val_loss: 0.6382 - val_acc: 0.8127\n",
      "Epoch 3/10\n",
      "411/411 [==============================] - 44s 108ms/step - loss: 0.5605 - acc: 0.8489 - val_loss: 0.5689 - val_acc: 0.8468\n",
      "Epoch 4/10\n",
      "411/411 [==============================] - 44s 108ms/step - loss: 0.5418 - acc: 0.8514 - val_loss: 0.5661 - val_acc: 0.8402\n",
      "Epoch 5/10\n",
      "411/411 [==============================] - 44s 108ms/step - loss: 0.5173 - acc: 0.8581 - val_loss: 0.4948 - val_acc: 0.8687\n",
      "Epoch 6/10\n",
      "411/411 [==============================] - 44s 108ms/step - loss: 0.5048 - acc: 0.8699 - val_loss: 0.5012 - val_acc: 0.8660\n",
      "Epoch 7/10\n",
      "411/411 [==============================] - 44s 107ms/step - loss: 0.4920 - acc: 0.8729 - val_loss: 0.5144 - val_acc: 0.8646\n",
      "Epoch 8/10\n",
      "411/411 [==============================] - 44s 107ms/step - loss: 0.4860 - acc: 0.8739 - val_loss: 0.5090 - val_acc: 0.8617\n",
      "Epoch 9/10\n",
      "411/411 [==============================] - 44s 107ms/step - loss: 0.4742 - acc: 0.8829 - val_loss: 0.5533 - val_acc: 0.8526\n",
      "Epoch 10/10\n",
      "411/411 [==============================] - 44s 108ms/step - loss: 0.4720 - acc: 0.8848 - val_loss: 0.4721 - val_acc: 0.8773\n"
     ]
    }
   ],
   "source": [
    "history = model.fit(X_train, \n",
    "                    y_train, \n",
    "                    batch_size = 64, \n",
    "                    epochs = 10, \n",
    "                    validation_split = 0.3, \n",
    "                    callbacks = callback_list)"
   ],
   "metadata": {
    "collapsed": false,
    "ExecuteTime": {
     "end_time": "2023-12-05T02:20:29.928081Z",
     "start_time": "2023-12-05T02:13:03.859197Z"
    }
   },
   "id": "80d2824ed50f0e77"
  },
  {
   "cell_type": "code",
   "execution_count": 17,
   "outputs": [
    {
     "data": {
      "text/plain": "<Figure size 640x480 with 1 Axes>",
      "image/png": "[encoded data removed]"
     },
     "metadata": {},
     "output_type": "display_data"
    }
   ],
   "source": [
    "import matplotlib.pyplot as plt\n",
    "\n",
    "epochs = np.arange(1, 11)\n",
    "plt.plot(epochs, history.history['loss'])\n",
    "plt.plot(epochs, history.history['val_loss'])\n",
    "plt.xlabel('epochs')\n",
    "plt.grid(False)\n",
    "plt.ylabel('loss')\n",
    "plt.show()"
   ],
   "metadata": {
    "collapsed": false,
    "ExecuteTime": {
     "end_time": "2023-12-05T02:22:19.133157Z",
     "start_time": "2023-12-05T02:22:19.068861Z"
    }
   },
   "id": "e9cdf3a0395c4d7e"
  },
  {
   "cell_type": "code",
   "execution_count": 19,
   "outputs": [
    {
     "data": {
      "text/plain": "<Figure size 640x480 with 1 Axes>",
      "image/png": "[encoded data removed]"
     },
     "metadata": {},
     "output_type": "display_data"
    }
   ],
   "source": [
    "epochs = np.arange(1, 11)\n",
    "plt.plot(epochs, history.history['acc'], label = 'Train')\n",
    "plt.plot(epochs, history.history['val_acc'], label = 'Test')\n",
    "plt.grid(False)\n",
    "plt.xlabel('epochs')\n",
    "plt.ylabel('Accuracy')\n",
    "plt.show()"
   ],
   "metadata": {
    "collapsed": false,
    "ExecuteTime": {
     "end_time": "2023-12-05T02:23:04.914962Z",
     "start_time": "2023-12-05T02:23:04.840303Z"
    }
   },
   "id": "fc2336a3e1e342e1"
  },
  {
   "cell_type": "markdown",
   "source": [
    "#### Evaluate RNN model"
   ],
   "metadata": {
    "collapsed": false
   },
   "id": "e46ebb74c37c0b8c"
  },
  {
   "cell_type": "code",
   "execution_count": 20,
   "outputs": [
    {
     "name": "stdout",
     "output_type": "stream",
     "text": [
      "391/391 [==============================] - 4s 10ms/step - loss: 0.4814 - acc: 0.8717\n"
     ]
    },
    {
     "data": {
      "text/plain": "[0.4813605546951294, 0.8716800212860107]"
     },
     "execution_count": 20,
     "metadata": {},
     "output_type": "execute_result"
    }
   ],
   "source": [
    "model.load_weights('sentiment_rnn_checkpoint.h5')\n",
    "model.evaluate(X_test, y_test)"
   ],
   "metadata": {
    "collapsed": false,
    "ExecuteTime": {
     "end_time": "2023-12-05T02:24:35.520793Z",
     "start_time": "2023-12-05T02:24:31.438687Z"
    }
   },
   "id": "2105755478152bfd"
  },
  {
   "cell_type": "code",
   "execution_count": 23,
   "outputs": [
    {
     "name": "stdout",
     "output_type": "stream",
     "text": [
      "1/1 [==============================] - 0s 169ms/step\n"
     ]
    },
    {
     "data": {
      "text/plain": "array([[0.00383998],\n       [0.01368196],\n       [0.00214206],\n       [0.9834624 ],\n       [0.98053014],\n       [0.97341835],\n       [0.0270846 ],\n       [0.9243102 ],\n       [0.00608709],\n       [0.8695248 ]], dtype=float32)"
     },
     "execution_count": 23,
     "metadata": {},
     "output_type": "execute_result"
    }
   ],
   "source": [
    "model.predict(X_test[:10])"
   ],
   "metadata": {
    "collapsed": false,
    "ExecuteTime": {
     "end_time": "2023-12-05T02:24:57.791237Z",
     "start_time": "2023-12-05T02:24:57.594944Z"
    }
   },
   "id": "f8665a79393d0c97"
  }
 ],
 "metadata": {
  "kernelspec": {
   "display_name": "Python 3",
   "language": "python",
   "name": "python3"
  },
  "language_info": {
   "codemirror_mode": {
    "name": "ipython",
    "version": 2
   },
   "file_extension": ".py",
   "mimetype": "text/x-python",
   "name": "python",
   "nbconvert_exporter": "python",
   "pygments_lexer": "ipython2",
   "version": "2.7.6"
  }
 },
 "nbformat": 4,
 "nbformat_minor": 5
}
