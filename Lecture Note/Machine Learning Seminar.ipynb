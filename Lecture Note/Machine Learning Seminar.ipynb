{
 "cells": [
  {
   "cell_type": "markdown",
   "source": [
    "### Machine Learing의 세 가지 종류\n",
    "\n",
    "- Supervised Learning\n",
    "- Unsupervised Learning\n",
    "- Reinforcement Learning\n",
    "\n",
    "#### 지도 학습\n",
    "\n",
    "1. 레이블링된 데이터\n",
    "2. 피드백\n",
    "3. 예측"
   ],
   "metadata": {
    "collapsed": false
   },
   "id": "5c9c83192e790694"
  },
  {
   "cell_type": "markdown",
   "source": [
    "#### Perceptron\n",
    "\n",
    "1. 가중치를 0 또는 랜덤한 작은 값으로 초기화\n",
    "2. 각 훈련 샘플 $x^{(i)}$에서 다음 작업을 수행한다\n",
    "    a. 출력 값 $\\hat y$를 계산\n",
    "    b. 가중치를 업데이트"
   ],
   "metadata": {
    "collapsed": false
   },
   "id": "5ddf8beda281793"
  },
  {
   "cell_type": "code",
   "execution_count": null,
   "id": "initial_id",
   "metadata": {
    "collapsed": true
   },
   "outputs": [],
   "source": []
  }
 ],
 "metadata": {
  "kernelspec": {
   "display_name": "Python 3",
   "language": "python",
   "name": "python3"
  },
  "language_info": {
   "codemirror_mode": {
    "name": "ipython",
    "version": 2
   },
   "file_extension": ".py",
   "mimetype": "text/x-python",
   "name": "python",
   "nbconvert_exporter": "python",
   "pygments_lexer": "ipython2",
   "version": "2.7.6"
  }
 },
 "nbformat": 4,
 "nbformat_minor": 5
}
